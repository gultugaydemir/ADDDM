{
  "nbformat": 4,
  "nbformat_minor": 0,
  "metadata": {
    "colab": {
      "provenance": []
    },
    "kernelspec": {
      "name": "ir",
      "display_name": "R"
    },
    "language_info": {
      "name": "R"
    }
  },
  "cells": [
    {
      "cell_type": "markdown",
      "source": [
        "# ADDDM Case Study II: Understanding Quality Perceptions of Smartphones - Factor Analysis\n",
        "\n",
        "Group 11:\n",
        "\n",
        "- Yasaman Sadat Mirrezaei Roudaki\n",
        "- Zeynep Gultug Aydemir\n"
      ],
      "metadata": {
        "id": "jv5fgy4umXVb"
      }
    },
    {
      "cell_type": "code",
      "source": [
        "install.packages('rcompanion')\n",
        "install.packages('nortest')\n",
        "install.packages('corrplot')\n",
        "install.packages('olsrr')\n",
        "install.packages('dplyr')\n",
        "install.packages('pastecs')\n",
        "install.packages('REdaS')\n",
        "install.packages('psych')\n",
        "install.packages('lm.beta')\n",
        "install.packages('ggplot2')\n",
        "install.packages(\"tidyverse\")\n",
        "install.packages('GPArotation')"
      ],
      "metadata": {
        "colab": {
          "base_uri": "https://localhost:8080/"
        },
        "id": "bXP3Zjmj5-gn",
        "outputId": "807ffd95-3db3-4818-fefb-de815b84babb"
      },
      "execution_count": null,
      "outputs": [
        {
          "output_type": "stream",
          "name": "stderr",
          "text": [
            "Installing package into ‘/usr/local/lib/R/site-library’\n",
            "(as ‘lib’ is unspecified)\n",
            "\n",
            "also installing the dependencies ‘proxy’, ‘rootSolve’, ‘e1071’, ‘lmom’, ‘TH.data’, ‘sandwich’, ‘mvtnorm’, ‘expm’, ‘Rcpp’, ‘Exact’, ‘gld’, ‘libcoin’, ‘matrixStats’, ‘modeltools’, ‘multcomp’, ‘zoo’, ‘DescTools’, ‘multcompView’, ‘plyr’, ‘coin’, ‘lmtest’, ‘nortest’\n",
            "\n",
            "\n",
            "Installing package into ‘/usr/local/lib/R/site-library’\n",
            "(as ‘lib’ is unspecified)\n",
            "\n",
            "Installing package into ‘/usr/local/lib/R/site-library’\n",
            "(as ‘lib’ is unspecified)\n",
            "\n",
            "Installing package into ‘/usr/local/lib/R/site-library’\n",
            "(as ‘lib’ is unspecified)\n",
            "\n",
            "also installing the dependencies ‘numDeriv’, ‘SparseM’, ‘MatrixModels’, ‘minqa’, ‘nloptr’, ‘RcppEigen’, ‘httpuv’, ‘xtable’, ‘sourcetools’, ‘later’, ‘promises’, ‘carData’, ‘abind’, ‘pbkrtest’, ‘quantreg’, ‘lme4’, ‘shiny’, ‘car’, ‘goftest’, ‘gridExtra’, ‘xplorerr’\n",
            "\n",
            "\n",
            "Installing package into ‘/usr/local/lib/R/site-library’\n",
            "(as ‘lib’ is unspecified)\n",
            "\n",
            "Installing package into ‘/usr/local/lib/R/site-library’\n",
            "(as ‘lib’ is unspecified)\n",
            "\n",
            "Installing package into ‘/usr/local/lib/R/site-library’\n",
            "(as ‘lib’ is unspecified)\n",
            "\n",
            "Installing package into ‘/usr/local/lib/R/site-library’\n",
            "(as ‘lib’ is unspecified)\n",
            "\n",
            "also installing the dependency ‘mnormt’\n",
            "\n",
            "\n",
            "Installing package into ‘/usr/local/lib/R/site-library’\n",
            "(as ‘lib’ is unspecified)\n",
            "\n",
            "Installing package into ‘/usr/local/lib/R/site-library’\n",
            "(as ‘lib’ is unspecified)\n",
            "\n",
            "Installing package into ‘/usr/local/lib/R/site-library’\n",
            "(as ‘lib’ is unspecified)\n",
            "\n",
            "Installing package into ‘/usr/local/lib/R/site-library’\n",
            "(as ‘lib’ is unspecified)\n",
            "\n"
          ]
        }
      ]
    },
    {
      "cell_type": "code",
      "source": [
        "install.packages('semPlot')"
      ],
      "metadata": {
        "colab": {
          "base_uri": "https://localhost:8080/"
        },
        "id": "jYXiczp5cfn7",
        "outputId": "26210e3c-5a09-4df9-c915-84f4b68d900d"
      },
      "execution_count": null,
      "outputs": [
        {
          "output_type": "stream",
          "name": "stderr",
          "text": [
            "Installing package into ‘/usr/local/lib/R/site-library’\n",
            "(as ‘lib’ is unspecified)\n",
            "\n",
            "also installing the dependencies ‘checkmate’, ‘htmlwidgets’, ‘coda’, ‘gridExtra’, ‘htmlTable’, ‘viridis’, ‘Formula’, ‘arm’, ‘minqa’, ‘nloptr’, ‘xtable’, ‘openxlsx’, ‘RUnit’, ‘mvtnorm’, ‘Rcpp’, ‘psych’, ‘Hmisc’, ‘jpeg’, ‘png’, ‘reshape2’, ‘glasso’, ‘fdrtool’, ‘gtools’, ‘pbapply’, ‘abind’, ‘mnormt’, ‘pbivnorm’, ‘numDeriv’, ‘quadprog’, ‘mi’, ‘lme4’, ‘carData’, ‘kutils’, ‘RcppParallel’, ‘RcppEigen’, ‘StanHeaders’, ‘BH’, ‘rpf’, ‘qgraph’, ‘lavaan’, ‘sem’, ‘plyr’, ‘XML’, ‘igraph’, ‘lisrelToR’, ‘rockchalk’, ‘corpcor’, ‘OpenMx’\n",
            "\n",
            "\n"
          ]
        }
      ]
    },
    {
      "cell_type": "code",
      "source": [
        "install.packages('semTools')"
      ],
      "metadata": {
        "colab": {
          "base_uri": "https://localhost:8080/"
        },
        "id": "8-ENT9d2s6g-",
        "outputId": "e5f47ad8-5e3e-4a30-893c-a6d0efdc320b"
      },
      "execution_count": null,
      "outputs": [
        {
          "output_type": "stream",
          "name": "stderr",
          "text": [
            "Installing package into ‘/usr/local/lib/R/site-library’\n",
            "(as ‘lib’ is unspecified)\n",
            "\n"
          ]
        }
      ]
    },
    {
      "cell_type": "code",
      "source": [
        "library(nortest) #Kolmogorov-Smirnov-Test\n",
        "library(corrplot) #correlation matrix plot\n",
        "library(olsrr)  #VIF and Tolerance Values\n",
        "library(dplyr)\n",
        "library(pastecs)\n",
        "library(REdaS) #Bartelett's Test\n",
        "library(psych)\n",
        "library(lm.beta)\n",
        "library(tidyverse)\n",
        "library(knitr)\n",
        "library(GPArotation)"
      ],
      "metadata": {
        "id": "cAemA5GM5qAl",
        "colab": {
          "base_uri": "https://localhost:8080/"
        },
        "outputId": "8a3ca2d5-2f79-4e6e-e2d8-39df8c4140fb"
      },
      "execution_count": null,
      "outputs": [
        {
          "output_type": "stream",
          "name": "stderr",
          "text": [
            "corrplot 0.92 loaded\n",
            "\n",
            "\n",
            "Attaching package: ‘olsrr’\n",
            "\n",
            "\n",
            "The following object is masked from ‘package:datasets’:\n",
            "\n",
            "    rivers\n",
            "\n",
            "\n",
            "\n",
            "Attaching package: ‘dplyr’\n",
            "\n",
            "\n",
            "The following objects are masked from ‘package:stats’:\n",
            "\n",
            "    filter, lag\n",
            "\n",
            "\n",
            "The following objects are masked from ‘package:base’:\n",
            "\n",
            "    intersect, setdiff, setequal, union\n",
            "\n",
            "\n",
            "\n",
            "Attaching package: ‘pastecs’\n",
            "\n",
            "\n",
            "The following objects are masked from ‘package:dplyr’:\n",
            "\n",
            "    first, last\n",
            "\n",
            "\n",
            "Loading required package: grid\n",
            "\n",
            "── \u001b[1mAttaching core tidyverse packages\u001b[22m ──────────────────────── tidyverse 2.0.0 ──\n",
            "\u001b[32m✔\u001b[39m \u001b[34mforcats  \u001b[39m 1.0.0     \u001b[32m✔\u001b[39m \u001b[34mreadr    \u001b[39m 2.1.5\n",
            "\u001b[32m✔\u001b[39m \u001b[34mggplot2  \u001b[39m 3.5.1     \u001b[32m✔\u001b[39m \u001b[34mstringr  \u001b[39m 1.5.1\n",
            "\u001b[32m✔\u001b[39m \u001b[34mlubridate\u001b[39m 1.9.3     \u001b[32m✔\u001b[39m \u001b[34mtibble   \u001b[39m 3.2.1\n",
            "\u001b[32m✔\u001b[39m \u001b[34mpurrr    \u001b[39m 1.0.2     \u001b[32m✔\u001b[39m \u001b[34mtidyr    \u001b[39m 1.3.1\n",
            "── \u001b[1mConflicts\u001b[22m ────────────────────────────────────────── tidyverse_conflicts() ──\n",
            "\u001b[31m✖\u001b[39m \u001b[34mggplot2\u001b[39m::\u001b[32m%+%()\u001b[39m   masks \u001b[34mpsych\u001b[39m::%+%()\n",
            "\u001b[31m✖\u001b[39m \u001b[34mpurrr\u001b[39m::\u001b[32m%||%()\u001b[39m    masks \u001b[34mbase\u001b[39m::%||%()\n",
            "\u001b[31m✖\u001b[39m \u001b[34mggplot2\u001b[39m::\u001b[32malpha()\u001b[39m masks \u001b[34mpsych\u001b[39m::alpha()\n",
            "\u001b[31m✖\u001b[39m \u001b[34mtidyr\u001b[39m::\u001b[32mextract()\u001b[39m masks \u001b[34mpastecs\u001b[39m::extract()\n",
            "\u001b[31m✖\u001b[39m \u001b[34mdplyr\u001b[39m::\u001b[32mfilter()\u001b[39m  masks \u001b[34mstats\u001b[39m::filter()\n",
            "\u001b[31m✖\u001b[39m \u001b[34mpastecs\u001b[39m::\u001b[32mfirst()\u001b[39m masks \u001b[34mdplyr\u001b[39m::first()\n",
            "\u001b[31m✖\u001b[39m \u001b[34mdplyr\u001b[39m::\u001b[32mlag()\u001b[39m     masks \u001b[34mstats\u001b[39m::lag()\n",
            "\u001b[31m✖\u001b[39m \u001b[34mpastecs\u001b[39m::\u001b[32mlast()\u001b[39m  masks \u001b[34mdplyr\u001b[39m::last()\n",
            "\u001b[36mℹ\u001b[39m Use the conflicted package (\u001b[3m\u001b[34m<http://conflicted.r-lib.org/>\u001b[39m\u001b[23m) to force all conflicts to become errors\n",
            "\n",
            "Attaching package: ‘GPArotation’\n",
            "\n",
            "\n",
            "The following objects are masked from ‘package:psych’:\n",
            "\n",
            "    equamax, varimin\n",
            "\n",
            "\n"
          ]
        }
      ]
    },
    {
      "cell_type": "code",
      "source": [
        "Sys.setlocale(\"LC_ALL\", \"C\")"
      ],
      "metadata": {
        "id": "d2GKUPYw6hCN",
        "colab": {
          "base_uri": "https://localhost:8080/",
          "height": 52
        },
        "outputId": "708c75f4-74bb-4da7-ca34-00314713b585"
      },
      "execution_count": null,
      "outputs": [
        {
          "output_type": "display_data",
          "data": {
            "text/html": [
              "'LC_CTYPE=C;LC_NUMERIC=C;LC_TIME=C;LC_COLLATE=C;LC_MONETARY=C;LC_MESSAGES=en_US.UTF-8;LC_PAPER=en_US.UTF-8;LC_NAME=C;LC_ADDRESS=C;LC_TELEPHONE=C;LC_MEASUREMENT=en_US.UTF-8;LC_IDENTIFICATION=C'"
            ],
            "text/markdown": "'LC_CTYPE=C;LC_NUMERIC=C;LC_TIME=C;LC_COLLATE=C;LC_MONETARY=C;LC_MESSAGES=en_US.UTF-8;LC_PAPER=en_US.UTF-8;LC_NAME=C;LC_ADDRESS=C;LC_TELEPHONE=C;LC_MEASUREMENT=en_US.UTF-8;LC_IDENTIFICATION=C'",
            "text/latex": "'LC\\_CTYPE=C;LC\\_NUMERIC=C;LC\\_TIME=C;LC\\_COLLATE=C;LC\\_MONETARY=C;LC\\_MESSAGES=en\\_US.UTF-8;LC\\_PAPER=en\\_US.UTF-8;LC\\_NAME=C;LC\\_ADDRESS=C;LC\\_TELEPHONE=C;LC\\_MEASUREMENT=en\\_US.UTF-8;LC\\_IDENTIFICATION=C'",
            "text/plain": [
              "[1] \"LC_CTYPE=C;LC_NUMERIC=C;LC_TIME=C;LC_COLLATE=C;LC_MONETARY=C;LC_MESSAGES=en_US.UTF-8;LC_PAPER=en_US.UTF-8;LC_NAME=C;LC_ADDRESS=C;LC_TELEPHONE=C;LC_MEASUREMENT=en_US.UTF-8;LC_IDENTIFICATION=C\""
            ]
          },
          "metadata": {}
        }
      ]
    },
    {
      "cell_type": "markdown",
      "source": [
        "# Q1: Orthogonal Factor Analysis"
      ],
      "metadata": {
        "id": "0r7yv63Fmcox"
      }
    },
    {
      "cell_type": "markdown",
      "source": [
        "In this analysis, we're making a study into the dynamics influencing the perception towards the smartphone quality among various consumers. Our primary objective is to uncover underlying factors that significantly impact user satisfaction and understanding of quality.\n",
        "\n",
        "By conducting the factor analysis techniques, we aim to break down the questionnaire into simpler patterns, enabling us to identify critical components that define the quality of a smartphone. The results will be crucial from the managerial perspective in guiding strategic improvements and innovation.\n"
      ],
      "metadata": {
        "id": "j2_fFtbzJMgL"
      }
    },
    {
      "cell_type": "markdown",
      "source": [
        "## Q1-0. Preparing the data"
      ],
      "metadata": {
        "id": "QTHDonulnbZZ"
      }
    },
    {
      "cell_type": "code",
      "execution_count": null,
      "metadata": {
        "id": "FJ7xK5Y75cwG",
        "colab": {
          "base_uri": "https://localhost:8080/"
        },
        "outputId": "eed9aa6b-ee60-49ce-b5aa-0055076bd4da"
      },
      "outputs": [
        {
          "output_type": "display_data",
          "data": {
            "text/html": [
              "<table class=\"dataframe\">\n",
              "<caption>A data.frame: 6 × 74</caption>\n",
              "<thead>\n",
              "\t<tr><th></th><th scope=col>ownership</th><th scope=col>usage_freq</th><th scope=col>usingSince</th><th scope=col>typicalUse</th><th scope=col>brand</th><th scope=col>cost</th><th scope=col>starRating</th><th scope=col>intro_q</th><th scope=col>qd1</th><th scope=col>qd2</th><th scope=col>⋯</th><th scope=col>def_sev2</th><th scope=col>didComplain</th><th scope=col>reactionComplain</th><th scope=col>nextPurchase</th><th scope=col>intro_d</th><th scope=col>gender</th><th scope=col>age</th><th scope=col>education</th><th scope=col>income</th><th scope=col>brandrec</th></tr>\n",
              "\t<tr><th></th><th scope=col>&lt;int&gt;</th><th scope=col>&lt;int&gt;</th><th scope=col>&lt;int&gt;</th><th scope=col>&lt;int&gt;</th><th scope=col>&lt;int&gt;</th><th scope=col>&lt;int&gt;</th><th scope=col>&lt;int&gt;</th><th scope=col>&lt;int&gt;</th><th scope=col>&lt;int&gt;</th><th scope=col>&lt;int&gt;</th><th scope=col>⋯</th><th scope=col>&lt;int&gt;</th><th scope=col>&lt;int&gt;</th><th scope=col>&lt;int&gt;</th><th scope=col>&lt;int&gt;</th><th scope=col>&lt;int&gt;</th><th scope=col>&lt;int&gt;</th><th scope=col>&lt;int&gt;</th><th scope=col>&lt;int&gt;</th><th scope=col>&lt;int&gt;</th><th scope=col>&lt;int&gt;</th></tr>\n",
              "</thead>\n",
              "<tbody>\n",
              "\t<tr><th scope=row>1</th><td>1</td><td>2</td><td>4</td><td>4</td><td>1</td><td>1</td><td>3</td><td>1</td><td>3</td><td>4</td><td>⋯</td><td>NA</td><td>NA</td><td>NA</td><td>NA</td><td>1</td><td>2</td><td>5</td><td>3</td><td>17</td><td>1</td></tr>\n",
              "\t<tr><th scope=row>2</th><td>1</td><td>2</td><td>3</td><td>3</td><td>1</td><td>1</td><td>4</td><td>1</td><td>4</td><td>4</td><td>⋯</td><td>NA</td><td>NA</td><td>NA</td><td>NA</td><td>1</td><td>2</td><td>5</td><td>3</td><td> 4</td><td>1</td></tr>\n",
              "\t<tr><th scope=row>3</th><td>1</td><td>2</td><td>5</td><td>4</td><td>1</td><td>1</td><td>4</td><td>1</td><td>3</td><td>4</td><td>⋯</td><td>NA</td><td>NA</td><td>NA</td><td>NA</td><td>1</td><td>1</td><td>6</td><td>7</td><td>17</td><td>1</td></tr>\n",
              "\t<tr><th scope=row>4</th><td>1</td><td>2</td><td>4</td><td>4</td><td>1</td><td>2</td><td>4</td><td>1</td><td>5</td><td>5</td><td>⋯</td><td>NA</td><td>NA</td><td>NA</td><td>NA</td><td>1</td><td>1</td><td>6</td><td>5</td><td> 2</td><td>1</td></tr>\n",
              "\t<tr><th scope=row>5</th><td>1</td><td>2</td><td>5</td><td>4</td><td>1</td><td>1</td><td>4</td><td>1</td><td>4</td><td>4</td><td>⋯</td><td> 1</td><td> 2</td><td>NA</td><td> 2</td><td>1</td><td>2</td><td>6</td><td>5</td><td> 2</td><td>1</td></tr>\n",
              "\t<tr><th scope=row>6</th><td>1</td><td>2</td><td>5</td><td>4</td><td>1</td><td>2</td><td>3</td><td>1</td><td>3</td><td>4</td><td>⋯</td><td>NA</td><td>NA</td><td>NA</td><td>NA</td><td>1</td><td>1</td><td>5</td><td>4</td><td> 3</td><td>1</td></tr>\n",
              "</tbody>\n",
              "</table>\n"
            ],
            "text/markdown": "\nA data.frame: 6 × 74\n\n| <!--/--> | ownership &lt;int&gt; | usage_freq &lt;int&gt; | usingSince &lt;int&gt; | typicalUse &lt;int&gt; | brand &lt;int&gt; | cost &lt;int&gt; | starRating &lt;int&gt; | intro_q &lt;int&gt; | qd1 &lt;int&gt; | qd2 &lt;int&gt; | ⋯ ⋯ | def_sev2 &lt;int&gt; | didComplain &lt;int&gt; | reactionComplain &lt;int&gt; | nextPurchase &lt;int&gt; | intro_d &lt;int&gt; | gender &lt;int&gt; | age &lt;int&gt; | education &lt;int&gt; | income &lt;int&gt; | brandrec &lt;int&gt; |\n|---|---|---|---|---|---|---|---|---|---|---|---|---|---|---|---|---|---|---|---|---|---|\n| 1 | 1 | 2 | 4 | 4 | 1 | 1 | 3 | 1 | 3 | 4 | ⋯ | NA | NA | NA | NA | 1 | 2 | 5 | 3 | 17 | 1 |\n| 2 | 1 | 2 | 3 | 3 | 1 | 1 | 4 | 1 | 4 | 4 | ⋯ | NA | NA | NA | NA | 1 | 2 | 5 | 3 |  4 | 1 |\n| 3 | 1 | 2 | 5 | 4 | 1 | 1 | 4 | 1 | 3 | 4 | ⋯ | NA | NA | NA | NA | 1 | 1 | 6 | 7 | 17 | 1 |\n| 4 | 1 | 2 | 4 | 4 | 1 | 2 | 4 | 1 | 5 | 5 | ⋯ | NA | NA | NA | NA | 1 | 1 | 6 | 5 |  2 | 1 |\n| 5 | 1 | 2 | 5 | 4 | 1 | 1 | 4 | 1 | 4 | 4 | ⋯ |  1 |  2 | NA |  2 | 1 | 2 | 6 | 5 |  2 | 1 |\n| 6 | 1 | 2 | 5 | 4 | 1 | 2 | 3 | 1 | 3 | 4 | ⋯ | NA | NA | NA | NA | 1 | 1 | 5 | 4 |  3 | 1 |\n\n",
            "text/latex": "A data.frame: 6 × 74\n\\begin{tabular}{r|lllllllllllllllllllll}\n  & ownership & usage\\_freq & usingSince & typicalUse & brand & cost & starRating & intro\\_q & qd1 & qd2 & ⋯ & def\\_sev2 & didComplain & reactionComplain & nextPurchase & intro\\_d & gender & age & education & income & brandrec\\\\\n  & <int> & <int> & <int> & <int> & <int> & <int> & <int> & <int> & <int> & <int> & ⋯ & <int> & <int> & <int> & <int> & <int> & <int> & <int> & <int> & <int> & <int>\\\\\n\\hline\n\t1 & 1 & 2 & 4 & 4 & 1 & 1 & 3 & 1 & 3 & 4 & ⋯ & NA & NA & NA & NA & 1 & 2 & 5 & 3 & 17 & 1\\\\\n\t2 & 1 & 2 & 3 & 3 & 1 & 1 & 4 & 1 & 4 & 4 & ⋯ & NA & NA & NA & NA & 1 & 2 & 5 & 3 &  4 & 1\\\\\n\t3 & 1 & 2 & 5 & 4 & 1 & 1 & 4 & 1 & 3 & 4 & ⋯ & NA & NA & NA & NA & 1 & 1 & 6 & 7 & 17 & 1\\\\\n\t4 & 1 & 2 & 4 & 4 & 1 & 2 & 4 & 1 & 5 & 5 & ⋯ & NA & NA & NA & NA & 1 & 1 & 6 & 5 &  2 & 1\\\\\n\t5 & 1 & 2 & 5 & 4 & 1 & 1 & 4 & 1 & 4 & 4 & ⋯ &  1 &  2 & NA &  2 & 1 & 2 & 6 & 5 &  2 & 1\\\\\n\t6 & 1 & 2 & 5 & 4 & 1 & 2 & 3 & 1 & 3 & 4 & ⋯ & NA & NA & NA & NA & 1 & 1 & 5 & 4 &  3 & 1\\\\\n\\end{tabular}\n",
            "text/plain": [
              "  ownership usage_freq usingSince typicalUse brand cost starRating intro_q qd1\n",
              "1 1         2          4          4          1     1    3          1       3  \n",
              "2 1         2          3          3          1     1    4          1       4  \n",
              "3 1         2          5          4          1     1    4          1       3  \n",
              "4 1         2          4          4          1     2    4          1       5  \n",
              "5 1         2          5          4          1     1    4          1       4  \n",
              "6 1         2          5          4          1     2    3          1       3  \n",
              "  qd2 <U+22EF>   def_sev2 didComplain reactionComplain nextPurchase intro_d\n",
              "1 4   <U+22EF> NA       NA          NA               NA           1      \n",
              "2 4   <U+22EF> NA       NA          NA               NA           1      \n",
              "3 4   <U+22EF> NA       NA          NA               NA           1      \n",
              "4 5   <U+22EF> NA       NA          NA               NA           1      \n",
              "5 4   <U+22EF>  1        2          NA                2           1      \n",
              "6 4   <U+22EF> NA       NA          NA               NA           1      \n",
              "  gender age education income brandrec\n",
              "1 2      5   3         17     1       \n",
              "2 2      5   3          4     1       \n",
              "3 1      6   7         17     1       \n",
              "4 1      6   5          2     1       \n",
              "5 2      6   5          2     1       \n",
              "6 1      5   4          3     1       "
            ]
          },
          "metadata": {}
        }
      ],
      "source": [
        "data = read.csv(\"Data File_Case_Study_Factor Analysis_MD.csv\", header=TRUE)\n",
        "head(data)"
      ]
    },
    {
      "cell_type": "code",
      "source": [
        "variables = read.csv(\"Data File_Case Study_Factor Analysis_Variables.csv\", header = TRUE, stringsAsFactors = FALSE)\n",
        "head(variables)"
      ],
      "metadata": {
        "colab": {
          "base_uri": "https://localhost:8080/"
        },
        "id": "G9Z_gobdKYgu",
        "outputId": "be272c16-e67a-4b7c-b2d2-daef5c41893f"
      },
      "execution_count": null,
      "outputs": [
        {
          "output_type": "display_data",
          "data": {
            "text/html": [
              "<table class=\"dataframe\">\n",
              "<caption>A data.frame: 6 × 2</caption>\n",
              "<thead>\n",
              "\t<tr><th></th><th scope=col>name</th><th scope=col>Label</th></tr>\n",
              "\t<tr><th></th><th scope=col>&lt;chr&gt;</th><th scope=col>&lt;chr&gt;</th></tr>\n",
              "</thead>\n",
              "<tbody>\n",
              "\t<tr><th scope=row>1</th><td>ownership </td><td>Do you currently own a smartphone?                                                                  </td></tr>\n",
              "\t<tr><th scope=row>2</th><td>usage_freq</td><td>How frequently do you use a smartphone in your daily routine? (eg. calls, office work, social net...</td></tr>\n",
              "\t<tr><th scope=row>3</th><td>usingSince</td><td>Since when do you own your current smartphone ?                                                     </td></tr>\n",
              "\t<tr><th scope=row>4</th><td>typicalUse</td><td>How long do you typically use a smartphone before purchasing a new one?                             </td></tr>\n",
              "\t<tr><th scope=row>5</th><td>brand     </td><td>What is the brand of your current smartphone ? (In case if you own more than one smartphone kindl...</td></tr>\n",
              "\t<tr><th scope=row>6</th><td>cost      </td><td>What was the price you paid for your current smartphone?                                            </td></tr>\n",
              "</tbody>\n",
              "</table>\n"
            ],
            "text/markdown": "\nA data.frame: 6 × 2\n\n| <!--/--> | name &lt;chr&gt; | Label &lt;chr&gt; |\n|---|---|---|\n| 1 | ownership  | Do you currently own a smartphone?                                                                   |\n| 2 | usage_freq | How frequently do you use a smartphone in your daily routine? (eg. calls, office work, social net... |\n| 3 | usingSince | Since when do you own your current smartphone ?                                                      |\n| 4 | typicalUse | How long do you typically use a smartphone before purchasing a new one?                              |\n| 5 | brand      | What is the brand of your current smartphone ? (In case if you own more than one smartphone kindl... |\n| 6 | cost       | What was the price you paid for your current smartphone?                                             |\n\n",
            "text/latex": "A data.frame: 6 × 2\n\\begin{tabular}{r|ll}\n  & name & Label\\\\\n  & <chr> & <chr>\\\\\n\\hline\n\t1 & ownership  & Do you currently own a smartphone?                                                                  \\\\\n\t2 & usage\\_freq & How frequently do you use a smartphone in your daily routine? (eg. calls, office work, social net...\\\\\n\t3 & usingSince & Since when do you own your current smartphone ?                                                     \\\\\n\t4 & typicalUse & How long do you typically use a smartphone before purchasing a new one?                             \\\\\n\t5 & brand      & What is the brand of your current smartphone ? (In case if you own more than one smartphone kindl...\\\\\n\t6 & cost       & What was the price you paid for your current smartphone?                                            \\\\\n\\end{tabular}\n",
            "text/plain": [
              "  name      \n",
              "1 ownership \n",
              "2 usage_freq\n",
              "3 usingSince\n",
              "4 typicalUse\n",
              "5 brand     \n",
              "6 cost      \n",
              "  Label                                                                                               \n",
              "1 Do you currently own a smartphone?                                                                  \n",
              "2 How frequently do you use a smartphone in your daily routine? (eg. calls, office work, social net...\n",
              "3 Since when do you own your current smartphone ?                                                     \n",
              "4 How long do you typically use a smartphone before purchasing a new one?                             \n",
              "5 What is the brand of your current smartphone ? (In case if you own more than one smartphone kindl...\n",
              "6 What was the price you paid for your current smartphone?                                            "
            ]
          },
          "metadata": {}
        }
      ]
    },
    {
      "cell_type": "markdown",
      "source": [
        "We start by getting to know our dataset. We have a set of responses from a comprehensive survey targeting smartphone users, focusing on various aspects of their experience. These variables will be serving as the foundation for our following factor analysis.\n"
      ],
      "metadata": {
        "id": "Wc7BIId7KH-W"
      }
    },
    {
      "cell_type": "markdown",
      "source": [
        "Prior to analysis, there are some preprocessing steps we need to take, to ensure the integrity and comparability of our dataset.\n",
        "This involves handling missing values list-wise, excluding the questions that won't contribute to our study such as gender or age."
      ],
      "metadata": {
        "id": "E5JewM9mKyEM"
      }
    },
    {
      "cell_type": "markdown",
      "source": [
        "We start by cropping the 33 question out, then follow it by deleting the rows that contain any empty cell in those questions."
      ],
      "metadata": {
        "id": "4qQ9SEn0Lb5J"
      }
    },
    {
      "cell_type": "code",
      "source": [
        "\n",
        "list_na =colnames(data[9:41])[apply(data[9:41],2,anyNA)]\n",
        "list_na"
      ],
      "metadata": {
        "colab": {
          "base_uri": "https://localhost:8080/"
        },
        "id": "GQ2X4w_r5pDQ",
        "outputId": "bb86c782-1935-4cd1-d82d-71ed7190a974"
      },
      "execution_count": null,
      "outputs": [
        {
          "output_type": "display_data",
          "data": {
            "text/html": [
              "<style>\n",
              ".list-inline {list-style: none; margin:0; padding: 0}\n",
              ".list-inline>li {display: inline-block}\n",
              ".list-inline>li:not(:last-child)::after {content: \"\\00b7\"; padding: 0 .5ex}\n",
              "</style>\n",
              "<ol class=list-inline><li>'qd22'</li><li>'qd26'</li><li>'qd28'</li><li>'qd29'</li><li>'qd31'</li><li>'qd33'</li></ol>\n"
            ],
            "text/markdown": "1. 'qd22'\n2. 'qd26'\n3. 'qd28'\n4. 'qd29'\n5. 'qd31'\n6. 'qd33'\n\n\n",
            "text/latex": "\\begin{enumerate*}\n\\item 'qd22'\n\\item 'qd26'\n\\item 'qd28'\n\\item 'qd29'\n\\item 'qd31'\n\\item 'qd33'\n\\end{enumerate*}\n",
            "text/plain": [
              "[1] \"qd22\" \"qd26\" \"qd28\" \"qd29\" \"qd31\" \"qd33\""
            ]
          },
          "metadata": {}
        }
      ]
    },
    {
      "cell_type": "code",
      "source": [
        "cleaned_data = data %>% select(9:41, wtp1, wtp2, wtp3, ri1, ri2, brandrec) %>% filter(complete.cases(.))"
      ],
      "metadata": {
        "id": "cXd7DmlZO1W2"
      },
      "execution_count": null,
      "outputs": []
    },
    {
      "cell_type": "code",
      "source": [
        "head(cleaned_data)"
      ],
      "metadata": {
        "id": "DnJ3cFPl-2oN",
        "colab": {
          "base_uri": "https://localhost:8080/"
        },
        "outputId": "b054fd8b-6dfa-467a-de21-e8ebfb2d933d"
      },
      "execution_count": null,
      "outputs": [
        {
          "output_type": "display_data",
          "data": {
            "text/html": [
              "<table class=\"dataframe\">\n",
              "<caption>A data.frame: 6 × 39</caption>\n",
              "<thead>\n",
              "\t<tr><th></th><th scope=col>qd1</th><th scope=col>qd2</th><th scope=col>qd3</th><th scope=col>qd4</th><th scope=col>qd5</th><th scope=col>qd6</th><th scope=col>qd7</th><th scope=col>qd8</th><th scope=col>qd9</th><th scope=col>qd10</th><th scope=col>⋯</th><th scope=col>qd30</th><th scope=col>qd31</th><th scope=col>qd32</th><th scope=col>qd33</th><th scope=col>wtp1</th><th scope=col>wtp2</th><th scope=col>wtp3</th><th scope=col>ri1</th><th scope=col>ri2</th><th scope=col>brandrec</th></tr>\n",
              "\t<tr><th></th><th scope=col>&lt;int&gt;</th><th scope=col>&lt;int&gt;</th><th scope=col>&lt;int&gt;</th><th scope=col>&lt;int&gt;</th><th scope=col>&lt;int&gt;</th><th scope=col>&lt;int&gt;</th><th scope=col>&lt;int&gt;</th><th scope=col>&lt;int&gt;</th><th scope=col>&lt;int&gt;</th><th scope=col>&lt;int&gt;</th><th scope=col>⋯</th><th scope=col>&lt;int&gt;</th><th scope=col>&lt;int&gt;</th><th scope=col>&lt;int&gt;</th><th scope=col>&lt;int&gt;</th><th scope=col>&lt;int&gt;</th><th scope=col>&lt;int&gt;</th><th scope=col>&lt;int&gt;</th><th scope=col>&lt;int&gt;</th><th scope=col>&lt;int&gt;</th><th scope=col>&lt;int&gt;</th></tr>\n",
              "</thead>\n",
              "<tbody>\n",
              "\t<tr><th scope=row>1</th><td>3</td><td>4</td><td>3</td><td>3</td><td>4</td><td>3</td><td>4</td><td>3</td><td>3</td><td>3</td><td>⋯</td><td>4</td><td>4</td><td>3</td><td>3</td><td>5</td><td>4</td><td>5</td><td>6</td><td>6</td><td>1</td></tr>\n",
              "\t<tr><th scope=row>2</th><td>4</td><td>4</td><td>3</td><td>6</td><td>4</td><td>4</td><td>4</td><td>4</td><td>4</td><td>4</td><td>⋯</td><td>4</td><td>3</td><td>4</td><td>3</td><td>4</td><td>5</td><td>4</td><td>5</td><td>6</td><td>1</td></tr>\n",
              "\t<tr><th scope=row>3</th><td>3</td><td>4</td><td>3</td><td>2</td><td>3</td><td>3</td><td>3</td><td>4</td><td>3</td><td>3</td><td>⋯</td><td>4</td><td>4</td><td>3</td><td>3</td><td>4</td><td>4</td><td>4</td><td>5</td><td>6</td><td>1</td></tr>\n",
              "\t<tr><th scope=row>4</th><td>5</td><td>5</td><td>4</td><td>3</td><td>5</td><td>5</td><td>5</td><td>5</td><td>4</td><td>5</td><td>⋯</td><td>5</td><td>5</td><td>5</td><td>5</td><td>1</td><td>1</td><td>1</td><td>2</td><td>6</td><td>1</td></tr>\n",
              "\t<tr><th scope=row>5</th><td>4</td><td>4</td><td>5</td><td>2</td><td>3</td><td>3</td><td>4</td><td>4</td><td>3</td><td>4</td><td>⋯</td><td>4</td><td>4</td><td>4</td><td>4</td><td>4</td><td>2</td><td>2</td><td>6</td><td>5</td><td>1</td></tr>\n",
              "\t<tr><th scope=row>6</th><td>3</td><td>4</td><td>3</td><td>5</td><td>3</td><td>3</td><td>4</td><td>3</td><td>3</td><td>3</td><td>⋯</td><td>3</td><td>3</td><td>3</td><td>4</td><td>3</td><td>3</td><td>2</td><td>5</td><td>5</td><td>1</td></tr>\n",
              "</tbody>\n",
              "</table>\n"
            ],
            "text/markdown": "\nA data.frame: 6 × 39\n\n| <!--/--> | qd1 &lt;int&gt; | qd2 &lt;int&gt; | qd3 &lt;int&gt; | qd4 &lt;int&gt; | qd5 &lt;int&gt; | qd6 &lt;int&gt; | qd7 &lt;int&gt; | qd8 &lt;int&gt; | qd9 &lt;int&gt; | qd10 &lt;int&gt; | ⋯ ⋯ | qd30 &lt;int&gt; | qd31 &lt;int&gt; | qd32 &lt;int&gt; | qd33 &lt;int&gt; | wtp1 &lt;int&gt; | wtp2 &lt;int&gt; | wtp3 &lt;int&gt; | ri1 &lt;int&gt; | ri2 &lt;int&gt; | brandrec &lt;int&gt; |\n|---|---|---|---|---|---|---|---|---|---|---|---|---|---|---|---|---|---|---|---|---|---|\n| 1 | 3 | 4 | 3 | 3 | 4 | 3 | 4 | 3 | 3 | 3 | ⋯ | 4 | 4 | 3 | 3 | 5 | 4 | 5 | 6 | 6 | 1 |\n| 2 | 4 | 4 | 3 | 6 | 4 | 4 | 4 | 4 | 4 | 4 | ⋯ | 4 | 3 | 4 | 3 | 4 | 5 | 4 | 5 | 6 | 1 |\n| 3 | 3 | 4 | 3 | 2 | 3 | 3 | 3 | 4 | 3 | 3 | ⋯ | 4 | 4 | 3 | 3 | 4 | 4 | 4 | 5 | 6 | 1 |\n| 4 | 5 | 5 | 4 | 3 | 5 | 5 | 5 | 5 | 4 | 5 | ⋯ | 5 | 5 | 5 | 5 | 1 | 1 | 1 | 2 | 6 | 1 |\n| 5 | 4 | 4 | 5 | 2 | 3 | 3 | 4 | 4 | 3 | 4 | ⋯ | 4 | 4 | 4 | 4 | 4 | 2 | 2 | 6 | 5 | 1 |\n| 6 | 3 | 4 | 3 | 5 | 3 | 3 | 4 | 3 | 3 | 3 | ⋯ | 3 | 3 | 3 | 4 | 3 | 3 | 2 | 5 | 5 | 1 |\n\n",
            "text/latex": "A data.frame: 6 × 39\n\\begin{tabular}{r|lllllllllllllllllllll}\n  & qd1 & qd2 & qd3 & qd4 & qd5 & qd6 & qd7 & qd8 & qd9 & qd10 & ⋯ & qd30 & qd31 & qd32 & qd33 & wtp1 & wtp2 & wtp3 & ri1 & ri2 & brandrec\\\\\n  & <int> & <int> & <int> & <int> & <int> & <int> & <int> & <int> & <int> & <int> & ⋯ & <int> & <int> & <int> & <int> & <int> & <int> & <int> & <int> & <int> & <int>\\\\\n\\hline\n\t1 & 3 & 4 & 3 & 3 & 4 & 3 & 4 & 3 & 3 & 3 & ⋯ & 4 & 4 & 3 & 3 & 5 & 4 & 5 & 6 & 6 & 1\\\\\n\t2 & 4 & 4 & 3 & 6 & 4 & 4 & 4 & 4 & 4 & 4 & ⋯ & 4 & 3 & 4 & 3 & 4 & 5 & 4 & 5 & 6 & 1\\\\\n\t3 & 3 & 4 & 3 & 2 & 3 & 3 & 3 & 4 & 3 & 3 & ⋯ & 4 & 4 & 3 & 3 & 4 & 4 & 4 & 5 & 6 & 1\\\\\n\t4 & 5 & 5 & 4 & 3 & 5 & 5 & 5 & 5 & 4 & 5 & ⋯ & 5 & 5 & 5 & 5 & 1 & 1 & 1 & 2 & 6 & 1\\\\\n\t5 & 4 & 4 & 5 & 2 & 3 & 3 & 4 & 4 & 3 & 4 & ⋯ & 4 & 4 & 4 & 4 & 4 & 2 & 2 & 6 & 5 & 1\\\\\n\t6 & 3 & 4 & 3 & 5 & 3 & 3 & 4 & 3 & 3 & 3 & ⋯ & 3 & 3 & 3 & 4 & 3 & 3 & 2 & 5 & 5 & 1\\\\\n\\end{tabular}\n",
            "text/plain": [
              "  qd1 qd2 qd3 qd4 qd5 qd6 qd7 qd8 qd9 qd10 <U+22EF>   qd30 qd31 qd32 qd33 wtp1\n",
              "1 3   4   3   3   4   3   4   3   3   3    <U+22EF> 4    4    3    3    5   \n",
              "2 4   4   3   6   4   4   4   4   4   4    <U+22EF> 4    3    4    3    4   \n",
              "3 3   4   3   2   3   3   3   4   3   3    <U+22EF> 4    4    3    3    4   \n",
              "4 5   5   4   3   5   5   5   5   4   5    <U+22EF> 5    5    5    5    1   \n",
              "5 4   4   5   2   3   3   4   4   3   4    <U+22EF> 4    4    4    4    4   \n",
              "6 3   4   3   5   3   3   4   3   3   3    <U+22EF> 3    3    3    4    3   \n",
              "  wtp2 wtp3 ri1 ri2 brandrec\n",
              "1 4    5    6   6   1       \n",
              "2 5    4    5   6   1       \n",
              "3 4    4    5   6   1       \n",
              "4 1    1    2   6   1       \n",
              "5 2    2    6   5   1       \n",
              "6 3    2    5   5   1       "
            ]
          },
          "metadata": {}
        }
      ]
    },
    {
      "cell_type": "markdown",
      "source": [
        "Now that we have a more suitable dataset at hand, we can go through the steps of our factor analysis."
      ],
      "metadata": {
        "id": "mTAe9ADU4YWp"
      }
    },
    {
      "cell_type": "markdown",
      "source": [
        "## Q1-1. Check the Correlation Matrix and Confirm Suitability for Factor Analysis"
      ],
      "metadata": {
        "id": "QUzwUlB1lChe"
      }
    },
    {
      "cell_type": "markdown",
      "source": [
        "First of all, we'll start by evaluating the adequacy of the data for factor analysis through correlation matrix, Bartlett Test, KMO Criterion and anti-image correlations."
      ],
      "metadata": {
        "id": "ard-M3AtN0uE"
      }
    },
    {
      "cell_type": "code",
      "source": [
        "round(stat.desc(cleaned_data, norm=TRUE),digits=3)"
      ],
      "metadata": {
        "colab": {
          "base_uri": "https://localhost:8080/"
        },
        "id": "0bDZbiVe54Et",
        "outputId": "2a23d266-6893-4cd8-b0c1-c5f6a5e86b14"
      },
      "execution_count": null,
      "outputs": [
        {
          "output_type": "display_data",
          "data": {
            "text/html": [
              "<table class=\"dataframe\">\n",
              "<caption>A data.frame: 20 × 39</caption>\n",
              "<thead>\n",
              "\t<tr><th></th><th scope=col>qd1</th><th scope=col>qd2</th><th scope=col>qd3</th><th scope=col>qd4</th><th scope=col>qd5</th><th scope=col>qd6</th><th scope=col>qd7</th><th scope=col>qd8</th><th scope=col>qd9</th><th scope=col>qd10</th><th scope=col>⋯</th><th scope=col>qd30</th><th scope=col>qd31</th><th scope=col>qd32</th><th scope=col>qd33</th><th scope=col>wtp1</th><th scope=col>wtp2</th><th scope=col>wtp3</th><th scope=col>ri1</th><th scope=col>ri2</th><th scope=col>brandrec</th></tr>\n",
              "\t<tr><th></th><th scope=col>&lt;dbl&gt;</th><th scope=col>&lt;dbl&gt;</th><th scope=col>&lt;dbl&gt;</th><th scope=col>&lt;dbl&gt;</th><th scope=col>&lt;dbl&gt;</th><th scope=col>&lt;dbl&gt;</th><th scope=col>&lt;dbl&gt;</th><th scope=col>&lt;dbl&gt;</th><th scope=col>&lt;dbl&gt;</th><th scope=col>&lt;dbl&gt;</th><th scope=col>⋯</th><th scope=col>&lt;dbl&gt;</th><th scope=col>&lt;dbl&gt;</th><th scope=col>&lt;dbl&gt;</th><th scope=col>&lt;dbl&gt;</th><th scope=col>&lt;dbl&gt;</th><th scope=col>&lt;dbl&gt;</th><th scope=col>&lt;dbl&gt;</th><th scope=col>&lt;dbl&gt;</th><th scope=col>&lt;dbl&gt;</th><th scope=col>&lt;dbl&gt;</th></tr>\n",
              "</thead>\n",
              "<tbody>\n",
              "\t<tr><th scope=row>nbr.val</th><td> 969.000</td><td> 969.000</td><td> 969.000</td><td> 969.000</td><td> 969.000</td><td> 969.000</td><td> 969.000</td><td> 969.000</td><td> 969.000</td><td> 969.000</td><td>⋯</td><td> 969.000</td><td> 969.000</td><td> 969.000</td><td> 969.000</td><td> 969.000</td><td> 969.000</td><td> 969.000</td><td> 969.000</td><td> 969.000</td><td> 969.000</td></tr>\n",
              "\t<tr><th scope=row>nbr.null</th><td>   0.000</td><td>   0.000</td><td>   0.000</td><td>   0.000</td><td>   0.000</td><td>   0.000</td><td>   0.000</td><td>   0.000</td><td>   0.000</td><td>   0.000</td><td>⋯</td><td>   0.000</td><td>   0.000</td><td>   0.000</td><td>   0.000</td><td>   0.000</td><td>   0.000</td><td>   0.000</td><td>   0.000</td><td>   0.000</td><td>   0.000</td></tr>\n",
              "\t<tr><th scope=row>nbr.na</th><td>   0.000</td><td>   0.000</td><td>   0.000</td><td>   0.000</td><td>   0.000</td><td>   0.000</td><td>   0.000</td><td>   0.000</td><td>   0.000</td><td>   0.000</td><td>⋯</td><td>   0.000</td><td>   0.000</td><td>   0.000</td><td>   0.000</td><td>   0.000</td><td>   0.000</td><td>   0.000</td><td>   0.000</td><td>   0.000</td><td>   0.000</td></tr>\n",
              "\t<tr><th scope=row>min</th><td>   1.000</td><td>   1.000</td><td>   1.000</td><td>   1.000</td><td>   1.000</td><td>   1.000</td><td>   1.000</td><td>   1.000</td><td>   1.000</td><td>   1.000</td><td>⋯</td><td>   1.000</td><td>   1.000</td><td>   1.000</td><td>   1.000</td><td>   1.000</td><td>   1.000</td><td>   1.000</td><td>   1.000</td><td>   1.000</td><td>   1.000</td></tr>\n",
              "\t<tr><th scope=row>max</th><td>   5.000</td><td>   5.000</td><td>   5.000</td><td>   7.000</td><td>   5.000</td><td>   5.000</td><td>   5.000</td><td>   5.000</td><td>   5.000</td><td>   5.000</td><td>⋯</td><td>   5.000</td><td>   5.000</td><td>   5.000</td><td>   5.000</td><td>   7.000</td><td>   7.000</td><td>   7.000</td><td>   7.000</td><td>   7.000</td><td>   5.000</td></tr>\n",
              "\t<tr><th scope=row>range</th><td>   4.000</td><td>   4.000</td><td>   4.000</td><td>   6.000</td><td>   4.000</td><td>   4.000</td><td>   4.000</td><td>   4.000</td><td>   4.000</td><td>   4.000</td><td>⋯</td><td>   4.000</td><td>   4.000</td><td>   4.000</td><td>   4.000</td><td>   6.000</td><td>   6.000</td><td>   6.000</td><td>   6.000</td><td>   6.000</td><td>   4.000</td></tr>\n",
              "\t<tr><th scope=row>sum</th><td>3929.000</td><td>4054.000</td><td>3816.000</td><td>3589.000</td><td>3796.000</td><td>3630.000</td><td>4075.000</td><td>3826.000</td><td>3793.000</td><td>3929.000</td><td>⋯</td><td>4034.000</td><td>3642.000</td><td>3829.000</td><td>3803.000</td><td>4484.000</td><td>4459.000</td><td>4359.000</td><td>5134.000</td><td>5216.000</td><td>1813.000</td></tr>\n",
              "\t<tr><th scope=row>median</th><td>   4.000</td><td>   4.000</td><td>   4.000</td><td>   4.000</td><td>   4.000</td><td>   4.000</td><td>   4.000</td><td>   4.000</td><td>   4.000</td><td>   4.000</td><td>⋯</td><td>   4.000</td><td>   4.000</td><td>   4.000</td><td>   4.000</td><td>   5.000</td><td>   5.000</td><td>   5.000</td><td>   6.000</td><td>   6.000</td><td>   1.000</td></tr>\n",
              "\t<tr><th scope=row>mean</th><td>   4.055</td><td>   4.184</td><td>   3.938</td><td>   3.704</td><td>   3.917</td><td>   3.746</td><td>   4.205</td><td>   3.948</td><td>   3.914</td><td>   4.055</td><td>⋯</td><td>   4.163</td><td>   3.759</td><td>   3.951</td><td>   3.925</td><td>   4.627</td><td>   4.602</td><td>   4.498</td><td>   5.298</td><td>   5.383</td><td>   1.871</td></tr>\n",
              "\t<tr><th scope=row>SE.mean</th><td>   0.026</td><td>   0.025</td><td>   0.028</td><td>   0.048</td><td>   0.031</td><td>   0.029</td><td>   0.024</td><td>   0.027</td><td>   0.027</td><td>   0.026</td><td>⋯</td><td>   0.025</td><td>   0.026</td><td>   0.026</td><td>   0.030</td><td>   0.052</td><td>   0.049</td><td>   0.052</td><td>   0.048</td><td>   0.046</td><td>   0.040</td></tr>\n",
              "\t<tr><th scope=row>CI.mean.0.95</th><td>   0.051</td><td>   0.050</td><td>   0.055</td><td>   0.094</td><td>   0.062</td><td>   0.056</td><td>   0.047</td><td>   0.053</td><td>   0.053</td><td>   0.050</td><td>⋯</td><td>   0.048</td><td>   0.052</td><td>   0.051</td><td>   0.059</td><td>   0.102</td><td>   0.096</td><td>   0.101</td><td>   0.094</td><td>   0.091</td><td>   0.078</td></tr>\n",
              "\t<tr><th scope=row>var</th><td>   0.657</td><td>   0.625</td><td>   0.756</td><td>   2.244</td><td>   0.958</td><td>   0.795</td><td>   0.554</td><td>   0.710</td><td>   0.717</td><td>   0.639</td><td>⋯</td><td>   0.591</td><td>   0.679</td><td>   0.643</td><td>   0.876</td><td>   2.637</td><td>   2.325</td><td>   2.575</td><td>   2.222</td><td>   2.090</td><td>   1.532</td></tr>\n",
              "\t<tr><th scope=row>std.dev</th><td>   0.811</td><td>   0.791</td><td>   0.870</td><td>   1.498</td><td>   0.979</td><td>   0.892</td><td>   0.744</td><td>   0.843</td><td>   0.847</td><td>   0.799</td><td>⋯</td><td>   0.769</td><td>   0.824</td><td>   0.802</td><td>   0.936</td><td>   1.624</td><td>   1.525</td><td>   1.605</td><td>   1.491</td><td>   1.446</td><td>   1.238</td></tr>\n",
              "\t<tr><th scope=row>coef.var</th><td>   0.200</td><td>   0.189</td><td>   0.221</td><td>   0.404</td><td>   0.250</td><td>   0.238</td><td>   0.177</td><td>   0.213</td><td>   0.216</td><td>   0.197</td><td>⋯</td><td>   0.185</td><td>   0.219</td><td>   0.203</td><td>   0.238</td><td>   0.351</td><td>   0.331</td><td>   0.357</td><td>   0.281</td><td>   0.269</td><td>   0.662</td></tr>\n",
              "\t<tr><th scope=row>skewness</th><td>  -0.449</td><td>  -0.788</td><td>  -0.389</td><td>   0.094</td><td>  -0.779</td><td>  -0.285</td><td>  -0.695</td><td>  -0.389</td><td>  -0.286</td><td>  -0.353</td><td>⋯</td><td>  -0.504</td><td>  -0.026</td><td>  -0.153</td><td>  -0.651</td><td>  -0.482</td><td>  -0.484</td><td>  -0.368</td><td>  -0.736</td><td>  -0.809</td><td>   1.382</td></tr>\n",
              "\t<tr><th scope=row>skew.2SE</th><td>  -2.855</td><td>  -5.015</td><td>  -2.473</td><td>   0.598</td><td>  -4.957</td><td>  -1.816</td><td>  -4.425</td><td>  -2.474</td><td>  -1.819</td><td>  -2.247</td><td>⋯</td><td>  -3.209</td><td>  -0.165</td><td>  -0.971</td><td>  -4.145</td><td>  -3.068</td><td>  -3.079</td><td>  -2.343</td><td>  -4.686</td><td>  -5.146</td><td>   8.795</td></tr>\n",
              "\t<tr><th scope=row>kurtosis</th><td>  -0.347</td><td>   0.483</td><td>  -0.472</td><td>  -0.699</td><td>   0.106</td><td>  -0.225</td><td>   0.417</td><td>  -0.306</td><td>  -0.516</td><td>  -0.600</td><td>⋯</td><td>  -0.440</td><td>  -0.532</td><td>  -0.782</td><td>   0.162</td><td>  -0.439</td><td>  -0.241</td><td>  -0.540</td><td>   0.116</td><td>   0.262</td><td>   0.745</td></tr>\n",
              "\t<tr><th scope=row>kurt.2SE</th><td>  -1.104</td><td>   1.539</td><td>  -1.504</td><td>  -2.227</td><td>   0.337</td><td>  -0.717</td><td>   1.329</td><td>  -0.975</td><td>  -1.644</td><td>  -1.912</td><td>⋯</td><td>  -1.401</td><td>  -1.696</td><td>  -2.491</td><td>   0.515</td><td>  -1.399</td><td>  -0.766</td><td>  -1.718</td><td>   0.368</td><td>   0.835</td><td>   2.374</td></tr>\n",
              "\t<tr><th scope=row>normtest.W</th><td>   0.836</td><td>   0.810</td><td>   0.855</td><td>   0.949</td><td>   0.850</td><td>   0.871</td><td>   0.804</td><td>   0.851</td><td>   0.853</td><td>   0.832</td><td>⋯</td><td>   0.817</td><td>   0.853</td><td>   0.837</td><td>   0.854</td><td>   0.931</td><td>   0.933</td><td>   0.940</td><td>   0.887</td><td>   0.885</td><td>   0.713</td></tr>\n",
              "\t<tr><th scope=row>normtest.p</th><td>   0.000</td><td>   0.000</td><td>   0.000</td><td>   0.000</td><td>   0.000</td><td>   0.000</td><td>   0.000</td><td>   0.000</td><td>   0.000</td><td>   0.000</td><td>⋯</td><td>   0.000</td><td>   0.000</td><td>   0.000</td><td>   0.000</td><td>   0.000</td><td>   0.000</td><td>   0.000</td><td>   0.000</td><td>   0.000</td><td>   0.000</td></tr>\n",
              "</tbody>\n",
              "</table>\n"
            ],
            "text/markdown": "\nA data.frame: 20 × 39\n\n| <!--/--> | qd1 &lt;dbl&gt; | qd2 &lt;dbl&gt; | qd3 &lt;dbl&gt; | qd4 &lt;dbl&gt; | qd5 &lt;dbl&gt; | qd6 &lt;dbl&gt; | qd7 &lt;dbl&gt; | qd8 &lt;dbl&gt; | qd9 &lt;dbl&gt; | qd10 &lt;dbl&gt; | ⋯ ⋯ | qd30 &lt;dbl&gt; | qd31 &lt;dbl&gt; | qd32 &lt;dbl&gt; | qd33 &lt;dbl&gt; | wtp1 &lt;dbl&gt; | wtp2 &lt;dbl&gt; | wtp3 &lt;dbl&gt; | ri1 &lt;dbl&gt; | ri2 &lt;dbl&gt; | brandrec &lt;dbl&gt; |\n|---|---|---|---|---|---|---|---|---|---|---|---|---|---|---|---|---|---|---|---|---|---|\n| nbr.val |  969.000 |  969.000 |  969.000 |  969.000 |  969.000 |  969.000 |  969.000 |  969.000 |  969.000 |  969.000 | ⋯ |  969.000 |  969.000 |  969.000 |  969.000 |  969.000 |  969.000 |  969.000 |  969.000 |  969.000 |  969.000 |\n| nbr.null |    0.000 |    0.000 |    0.000 |    0.000 |    0.000 |    0.000 |    0.000 |    0.000 |    0.000 |    0.000 | ⋯ |    0.000 |    0.000 |    0.000 |    0.000 |    0.000 |    0.000 |    0.000 |    0.000 |    0.000 |    0.000 |\n| nbr.na |    0.000 |    0.000 |    0.000 |    0.000 |    0.000 |    0.000 |    0.000 |    0.000 |    0.000 |    0.000 | ⋯ |    0.000 |    0.000 |    0.000 |    0.000 |    0.000 |    0.000 |    0.000 |    0.000 |    0.000 |    0.000 |\n| min |    1.000 |    1.000 |    1.000 |    1.000 |    1.000 |    1.000 |    1.000 |    1.000 |    1.000 |    1.000 | ⋯ |    1.000 |    1.000 |    1.000 |    1.000 |    1.000 |    1.000 |    1.000 |    1.000 |    1.000 |    1.000 |\n| max |    5.000 |    5.000 |    5.000 |    7.000 |    5.000 |    5.000 |    5.000 |    5.000 |    5.000 |    5.000 | ⋯ |    5.000 |    5.000 |    5.000 |    5.000 |    7.000 |    7.000 |    7.000 |    7.000 |    7.000 |    5.000 |\n| range |    4.000 |    4.000 |    4.000 |    6.000 |    4.000 |    4.000 |    4.000 |    4.000 |    4.000 |    4.000 | ⋯ |    4.000 |    4.000 |    4.000 |    4.000 |    6.000 |    6.000 |    6.000 |    6.000 |    6.000 |    4.000 |\n| sum | 3929.000 | 4054.000 | 3816.000 | 3589.000 | 3796.000 | 3630.000 | 4075.000 | 3826.000 | 3793.000 | 3929.000 | ⋯ | 4034.000 | 3642.000 | 3829.000 | 3803.000 | 4484.000 | 4459.000 | 4359.000 | 5134.000 | 5216.000 | 1813.000 |\n| median |    4.000 |    4.000 |    4.000 |    4.000 |    4.000 |    4.000 |    4.000 |    4.000 |    4.000 |    4.000 | ⋯ |    4.000 |    4.000 |    4.000 |    4.000 |    5.000 |    5.000 |    5.000 |    6.000 |    6.000 |    1.000 |\n| mean |    4.055 |    4.184 |    3.938 |    3.704 |    3.917 |    3.746 |    4.205 |    3.948 |    3.914 |    4.055 | ⋯ |    4.163 |    3.759 |    3.951 |    3.925 |    4.627 |    4.602 |    4.498 |    5.298 |    5.383 |    1.871 |\n| SE.mean |    0.026 |    0.025 |    0.028 |    0.048 |    0.031 |    0.029 |    0.024 |    0.027 |    0.027 |    0.026 | ⋯ |    0.025 |    0.026 |    0.026 |    0.030 |    0.052 |    0.049 |    0.052 |    0.048 |    0.046 |    0.040 |\n| CI.mean.0.95 |    0.051 |    0.050 |    0.055 |    0.094 |    0.062 |    0.056 |    0.047 |    0.053 |    0.053 |    0.050 | ⋯ |    0.048 |    0.052 |    0.051 |    0.059 |    0.102 |    0.096 |    0.101 |    0.094 |    0.091 |    0.078 |\n| var |    0.657 |    0.625 |    0.756 |    2.244 |    0.958 |    0.795 |    0.554 |    0.710 |    0.717 |    0.639 | ⋯ |    0.591 |    0.679 |    0.643 |    0.876 |    2.637 |    2.325 |    2.575 |    2.222 |    2.090 |    1.532 |\n| std.dev |    0.811 |    0.791 |    0.870 |    1.498 |    0.979 |    0.892 |    0.744 |    0.843 |    0.847 |    0.799 | ⋯ |    0.769 |    0.824 |    0.802 |    0.936 |    1.624 |    1.525 |    1.605 |    1.491 |    1.446 |    1.238 |\n| coef.var |    0.200 |    0.189 |    0.221 |    0.404 |    0.250 |    0.238 |    0.177 |    0.213 |    0.216 |    0.197 | ⋯ |    0.185 |    0.219 |    0.203 |    0.238 |    0.351 |    0.331 |    0.357 |    0.281 |    0.269 |    0.662 |\n| skewness |   -0.449 |   -0.788 |   -0.389 |    0.094 |   -0.779 |   -0.285 |   -0.695 |   -0.389 |   -0.286 |   -0.353 | ⋯ |   -0.504 |   -0.026 |   -0.153 |   -0.651 |   -0.482 |   -0.484 |   -0.368 |   -0.736 |   -0.809 |    1.382 |\n| skew.2SE |   -2.855 |   -5.015 |   -2.473 |    0.598 |   -4.957 |   -1.816 |   -4.425 |   -2.474 |   -1.819 |   -2.247 | ⋯ |   -3.209 |   -0.165 |   -0.971 |   -4.145 |   -3.068 |   -3.079 |   -2.343 |   -4.686 |   -5.146 |    8.795 |\n| kurtosis |   -0.347 |    0.483 |   -0.472 |   -0.699 |    0.106 |   -0.225 |    0.417 |   -0.306 |   -0.516 |   -0.600 | ⋯ |   -0.440 |   -0.532 |   -0.782 |    0.162 |   -0.439 |   -0.241 |   -0.540 |    0.116 |    0.262 |    0.745 |\n| kurt.2SE |   -1.104 |    1.539 |   -1.504 |   -2.227 |    0.337 |   -0.717 |    1.329 |   -0.975 |   -1.644 |   -1.912 | ⋯ |   -1.401 |   -1.696 |   -2.491 |    0.515 |   -1.399 |   -0.766 |   -1.718 |    0.368 |    0.835 |    2.374 |\n| normtest.W |    0.836 |    0.810 |    0.855 |    0.949 |    0.850 |    0.871 |    0.804 |    0.851 |    0.853 |    0.832 | ⋯ |    0.817 |    0.853 |    0.837 |    0.854 |    0.931 |    0.933 |    0.940 |    0.887 |    0.885 |    0.713 |\n| normtest.p |    0.000 |    0.000 |    0.000 |    0.000 |    0.000 |    0.000 |    0.000 |    0.000 |    0.000 |    0.000 | ⋯ |    0.000 |    0.000 |    0.000 |    0.000 |    0.000 |    0.000 |    0.000 |    0.000 |    0.000 |    0.000 |\n\n",
            "text/latex": "A data.frame: 20 × 39\n\\begin{tabular}{r|lllllllllllllllllllll}\n  & qd1 & qd2 & qd3 & qd4 & qd5 & qd6 & qd7 & qd8 & qd9 & qd10 & ⋯ & qd30 & qd31 & qd32 & qd33 & wtp1 & wtp2 & wtp3 & ri1 & ri2 & brandrec\\\\\n  & <dbl> & <dbl> & <dbl> & <dbl> & <dbl> & <dbl> & <dbl> & <dbl> & <dbl> & <dbl> & ⋯ & <dbl> & <dbl> & <dbl> & <dbl> & <dbl> & <dbl> & <dbl> & <dbl> & <dbl> & <dbl>\\\\\n\\hline\n\tnbr.val &  969.000 &  969.000 &  969.000 &  969.000 &  969.000 &  969.000 &  969.000 &  969.000 &  969.000 &  969.000 & ⋯ &  969.000 &  969.000 &  969.000 &  969.000 &  969.000 &  969.000 &  969.000 &  969.000 &  969.000 &  969.000\\\\\n\tnbr.null &    0.000 &    0.000 &    0.000 &    0.000 &    0.000 &    0.000 &    0.000 &    0.000 &    0.000 &    0.000 & ⋯ &    0.000 &    0.000 &    0.000 &    0.000 &    0.000 &    0.000 &    0.000 &    0.000 &    0.000 &    0.000\\\\\n\tnbr.na &    0.000 &    0.000 &    0.000 &    0.000 &    0.000 &    0.000 &    0.000 &    0.000 &    0.000 &    0.000 & ⋯ &    0.000 &    0.000 &    0.000 &    0.000 &    0.000 &    0.000 &    0.000 &    0.000 &    0.000 &    0.000\\\\\n\tmin &    1.000 &    1.000 &    1.000 &    1.000 &    1.000 &    1.000 &    1.000 &    1.000 &    1.000 &    1.000 & ⋯ &    1.000 &    1.000 &    1.000 &    1.000 &    1.000 &    1.000 &    1.000 &    1.000 &    1.000 &    1.000\\\\\n\tmax &    5.000 &    5.000 &    5.000 &    7.000 &    5.000 &    5.000 &    5.000 &    5.000 &    5.000 &    5.000 & ⋯ &    5.000 &    5.000 &    5.000 &    5.000 &    7.000 &    7.000 &    7.000 &    7.000 &    7.000 &    5.000\\\\\n\trange &    4.000 &    4.000 &    4.000 &    6.000 &    4.000 &    4.000 &    4.000 &    4.000 &    4.000 &    4.000 & ⋯ &    4.000 &    4.000 &    4.000 &    4.000 &    6.000 &    6.000 &    6.000 &    6.000 &    6.000 &    4.000\\\\\n\tsum & 3929.000 & 4054.000 & 3816.000 & 3589.000 & 3796.000 & 3630.000 & 4075.000 & 3826.000 & 3793.000 & 3929.000 & ⋯ & 4034.000 & 3642.000 & 3829.000 & 3803.000 & 4484.000 & 4459.000 & 4359.000 & 5134.000 & 5216.000 & 1813.000\\\\\n\tmedian &    4.000 &    4.000 &    4.000 &    4.000 &    4.000 &    4.000 &    4.000 &    4.000 &    4.000 &    4.000 & ⋯ &    4.000 &    4.000 &    4.000 &    4.000 &    5.000 &    5.000 &    5.000 &    6.000 &    6.000 &    1.000\\\\\n\tmean &    4.055 &    4.184 &    3.938 &    3.704 &    3.917 &    3.746 &    4.205 &    3.948 &    3.914 &    4.055 & ⋯ &    4.163 &    3.759 &    3.951 &    3.925 &    4.627 &    4.602 &    4.498 &    5.298 &    5.383 &    1.871\\\\\n\tSE.mean &    0.026 &    0.025 &    0.028 &    0.048 &    0.031 &    0.029 &    0.024 &    0.027 &    0.027 &    0.026 & ⋯ &    0.025 &    0.026 &    0.026 &    0.030 &    0.052 &    0.049 &    0.052 &    0.048 &    0.046 &    0.040\\\\\n\tCI.mean.0.95 &    0.051 &    0.050 &    0.055 &    0.094 &    0.062 &    0.056 &    0.047 &    0.053 &    0.053 &    0.050 & ⋯ &    0.048 &    0.052 &    0.051 &    0.059 &    0.102 &    0.096 &    0.101 &    0.094 &    0.091 &    0.078\\\\\n\tvar &    0.657 &    0.625 &    0.756 &    2.244 &    0.958 &    0.795 &    0.554 &    0.710 &    0.717 &    0.639 & ⋯ &    0.591 &    0.679 &    0.643 &    0.876 &    2.637 &    2.325 &    2.575 &    2.222 &    2.090 &    1.532\\\\\n\tstd.dev &    0.811 &    0.791 &    0.870 &    1.498 &    0.979 &    0.892 &    0.744 &    0.843 &    0.847 &    0.799 & ⋯ &    0.769 &    0.824 &    0.802 &    0.936 &    1.624 &    1.525 &    1.605 &    1.491 &    1.446 &    1.238\\\\\n\tcoef.var &    0.200 &    0.189 &    0.221 &    0.404 &    0.250 &    0.238 &    0.177 &    0.213 &    0.216 &    0.197 & ⋯ &    0.185 &    0.219 &    0.203 &    0.238 &    0.351 &    0.331 &    0.357 &    0.281 &    0.269 &    0.662\\\\\n\tskewness &   -0.449 &   -0.788 &   -0.389 &    0.094 &   -0.779 &   -0.285 &   -0.695 &   -0.389 &   -0.286 &   -0.353 & ⋯ &   -0.504 &   -0.026 &   -0.153 &   -0.651 &   -0.482 &   -0.484 &   -0.368 &   -0.736 &   -0.809 &    1.382\\\\\n\tskew.2SE &   -2.855 &   -5.015 &   -2.473 &    0.598 &   -4.957 &   -1.816 &   -4.425 &   -2.474 &   -1.819 &   -2.247 & ⋯ &   -3.209 &   -0.165 &   -0.971 &   -4.145 &   -3.068 &   -3.079 &   -2.343 &   -4.686 &   -5.146 &    8.795\\\\\n\tkurtosis &   -0.347 &    0.483 &   -0.472 &   -0.699 &    0.106 &   -0.225 &    0.417 &   -0.306 &   -0.516 &   -0.600 & ⋯ &   -0.440 &   -0.532 &   -0.782 &    0.162 &   -0.439 &   -0.241 &   -0.540 &    0.116 &    0.262 &    0.745\\\\\n\tkurt.2SE &   -1.104 &    1.539 &   -1.504 &   -2.227 &    0.337 &   -0.717 &    1.329 &   -0.975 &   -1.644 &   -1.912 & ⋯ &   -1.401 &   -1.696 &   -2.491 &    0.515 &   -1.399 &   -0.766 &   -1.718 &    0.368 &    0.835 &    2.374\\\\\n\tnormtest.W &    0.836 &    0.810 &    0.855 &    0.949 &    0.850 &    0.871 &    0.804 &    0.851 &    0.853 &    0.832 & ⋯ &    0.817 &    0.853 &    0.837 &    0.854 &    0.931 &    0.933 &    0.940 &    0.887 &    0.885 &    0.713\\\\\n\tnormtest.p &    0.000 &    0.000 &    0.000 &    0.000 &    0.000 &    0.000 &    0.000 &    0.000 &    0.000 &    0.000 & ⋯ &    0.000 &    0.000 &    0.000 &    0.000 &    0.000 &    0.000 &    0.000 &    0.000 &    0.000 &    0.000\\\\\n\\end{tabular}\n",
            "text/plain": [
              "             qd1      qd2      qd3      qd4      qd5      qd6      qd7     \n",
              "nbr.val       969.000  969.000  969.000  969.000  969.000  969.000  969.000\n",
              "nbr.null        0.000    0.000    0.000    0.000    0.000    0.000    0.000\n",
              "nbr.na          0.000    0.000    0.000    0.000    0.000    0.000    0.000\n",
              "min             1.000    1.000    1.000    1.000    1.000    1.000    1.000\n",
              "max             5.000    5.000    5.000    7.000    5.000    5.000    5.000\n",
              "range           4.000    4.000    4.000    6.000    4.000    4.000    4.000\n",
              "sum          3929.000 4054.000 3816.000 3589.000 3796.000 3630.000 4075.000\n",
              "median          4.000    4.000    4.000    4.000    4.000    4.000    4.000\n",
              "mean            4.055    4.184    3.938    3.704    3.917    3.746    4.205\n",
              "SE.mean         0.026    0.025    0.028    0.048    0.031    0.029    0.024\n",
              "CI.mean.0.95    0.051    0.050    0.055    0.094    0.062    0.056    0.047\n",
              "var             0.657    0.625    0.756    2.244    0.958    0.795    0.554\n",
              "std.dev         0.811    0.791    0.870    1.498    0.979    0.892    0.744\n",
              "coef.var        0.200    0.189    0.221    0.404    0.250    0.238    0.177\n",
              "skewness       -0.449   -0.788   -0.389    0.094   -0.779   -0.285   -0.695\n",
              "skew.2SE       -2.855   -5.015   -2.473    0.598   -4.957   -1.816   -4.425\n",
              "kurtosis       -0.347    0.483   -0.472   -0.699    0.106   -0.225    0.417\n",
              "kurt.2SE       -1.104    1.539   -1.504   -2.227    0.337   -0.717    1.329\n",
              "normtest.W      0.836    0.810    0.855    0.949    0.850    0.871    0.804\n",
              "normtest.p      0.000    0.000    0.000    0.000    0.000    0.000    0.000\n",
              "             qd8      qd9      qd10     <U+22EF>   qd30     qd31     qd32    \n",
              "nbr.val       969.000  969.000  969.000 <U+22EF>  969.000  969.000  969.000\n",
              "nbr.null        0.000    0.000    0.000 <U+22EF>    0.000    0.000    0.000\n",
              "nbr.na          0.000    0.000    0.000 <U+22EF>    0.000    0.000    0.000\n",
              "min             1.000    1.000    1.000 <U+22EF>    1.000    1.000    1.000\n",
              "max             5.000    5.000    5.000 <U+22EF>    5.000    5.000    5.000\n",
              "range           4.000    4.000    4.000 <U+22EF>    4.000    4.000    4.000\n",
              "sum          3826.000 3793.000 3929.000 <U+22EF> 4034.000 3642.000 3829.000\n",
              "median          4.000    4.000    4.000 <U+22EF>    4.000    4.000    4.000\n",
              "mean            3.948    3.914    4.055 <U+22EF>    4.163    3.759    3.951\n",
              "SE.mean         0.027    0.027    0.026 <U+22EF>    0.025    0.026    0.026\n",
              "CI.mean.0.95    0.053    0.053    0.050 <U+22EF>    0.048    0.052    0.051\n",
              "var             0.710    0.717    0.639 <U+22EF>    0.591    0.679    0.643\n",
              "std.dev         0.843    0.847    0.799 <U+22EF>    0.769    0.824    0.802\n",
              "coef.var        0.213    0.216    0.197 <U+22EF>    0.185    0.219    0.203\n",
              "skewness       -0.389   -0.286   -0.353 <U+22EF>   -0.504   -0.026   -0.153\n",
              "skew.2SE       -2.474   -1.819   -2.247 <U+22EF>   -3.209   -0.165   -0.971\n",
              "kurtosis       -0.306   -0.516   -0.600 <U+22EF>   -0.440   -0.532   -0.782\n",
              "kurt.2SE       -0.975   -1.644   -1.912 <U+22EF>   -1.401   -1.696   -2.491\n",
              "normtest.W      0.851    0.853    0.832 <U+22EF>    0.817    0.853    0.837\n",
              "normtest.p      0.000    0.000    0.000 <U+22EF>    0.000    0.000    0.000\n",
              "             qd33     wtp1     wtp2     wtp3     ri1      ri2      brandrec\n",
              "nbr.val       969.000  969.000  969.000  969.000  969.000  969.000  969.000\n",
              "nbr.null        0.000    0.000    0.000    0.000    0.000    0.000    0.000\n",
              "nbr.na          0.000    0.000    0.000    0.000    0.000    0.000    0.000\n",
              "min             1.000    1.000    1.000    1.000    1.000    1.000    1.000\n",
              "max             5.000    7.000    7.000    7.000    7.000    7.000    5.000\n",
              "range           4.000    6.000    6.000    6.000    6.000    6.000    4.000\n",
              "sum          3803.000 4484.000 4459.000 4359.000 5134.000 5216.000 1813.000\n",
              "median          4.000    5.000    5.000    5.000    6.000    6.000    1.000\n",
              "mean            3.925    4.627    4.602    4.498    5.298    5.383    1.871\n",
              "SE.mean         0.030    0.052    0.049    0.052    0.048    0.046    0.040\n",
              "CI.mean.0.95    0.059    0.102    0.096    0.101    0.094    0.091    0.078\n",
              "var             0.876    2.637    2.325    2.575    2.222    2.090    1.532\n",
              "std.dev         0.936    1.624    1.525    1.605    1.491    1.446    1.238\n",
              "coef.var        0.238    0.351    0.331    0.357    0.281    0.269    0.662\n",
              "skewness       -0.651   -0.482   -0.484   -0.368   -0.736   -0.809    1.382\n",
              "skew.2SE       -4.145   -3.068   -3.079   -2.343   -4.686   -5.146    8.795\n",
              "kurtosis        0.162   -0.439   -0.241   -0.540    0.116    0.262    0.745\n",
              "kurt.2SE        0.515   -1.399   -0.766   -1.718    0.368    0.835    2.374\n",
              "normtest.W      0.854    0.931    0.933    0.940    0.887    0.885    0.713\n",
              "normtest.p      0.000    0.000    0.000    0.000    0.000    0.000    0.000"
            ]
          },
          "metadata": {}
        }
      ]
    },
    {
      "cell_type": "markdown",
      "source": [
        "Correlation matrix is a great way to identify groups of variables that share a strong linear relationship, which is a good sign for applicability of the factor analysis.\n",
        "High correlations suggest potential factors that can group these variables together, while low correlations could indicate unique characteristics."
      ],
      "metadata": {
        "id": "b7y86KKaOl7O"
      }
    },
    {
      "cell_type": "code",
      "source": [
        "# Correlation Matrix\n",
        "corrmatrix <- cor(cleaned_data[1:33])\n",
        "corrplot(as.matrix(corrmatrix))"
      ],
      "metadata": {
        "colab": {
          "base_uri": "https://localhost:8080/"
        },
        "id": "QR0aJOYJjS54",
        "outputId": "54fe0957-0cca-45bc-fb1d-625edeb6e8ec"
      },
      "execution_count": null,
      "outputs": [
        {
          "output_type": "display_data",
          "data": {
            "text/plain": [
              "Plot with title \"\""
            ],
            "image/png": "[encoded data removed]"
          },
          "metadata": {
            "image/png": {
              "width": 420,
              "height": 420
            }
          }
        }
      ]
    },
    {
      "cell_type": "markdown",
      "source": [
        "Our correlation matrix shows us very strong correlations between variables, therefore positive results regarding the factorability.\n",
        "Since the questions 4 and 23 show a notable amount of low correlation score, in the following steps we'll keep this in mind."
      ],
      "metadata": {
        "id": "0_zsFH_ROxjP"
      }
    },
    {
      "cell_type": "code",
      "source": [
        "#Bartlett-Test\n",
        "bart_spher(cleaned_data[1:33])"
      ],
      "metadata": {
        "colab": {
          "base_uri": "https://localhost:8080/"
        },
        "id": "e2aAQ7Atj00W",
        "outputId": "ae863a69-61d5-4130-e8e7-7c7fac588e33"
      },
      "execution_count": null,
      "outputs": [
        {
          "output_type": "display_data",
          "data": {
            "text/plain": [
              "\tBartlett's Test of Sphericity\n",
              "\n",
              "Call: bart_spher(x = cleaned_data[1:33])\n",
              "\n",
              "     X2 = 30857.911\n",
              "     df = 528\n",
              "p-value < 2.22e-16"
            ]
          },
          "metadata": {}
        }
      ]
    },
    {
      "cell_type": "markdown",
      "source": [
        "The Bartlett's Test of Sphericity has yielded a chi-square value of 30857.911 with 528 degrees of freedom. Given that the p-value is less than 2.22e-16, we can confirm that the our correlation matrix is significantly different from the identity matrix, affirming that it's suitable for factor analysis.\n",
        "This result is confirming the highly correlated relationship between the variables in our dataset as we saw with the correlation matrix earlier.\n"
      ],
      "metadata": {
        "id": "cjmEyhhXRWHM"
      }
    },
    {
      "cell_type": "code",
      "source": [
        "KMOTEST=KMOS(cleaned_data[1:33])\n",
        "\n",
        "#KMO Criterion\n",
        "KMOTEST"
      ],
      "metadata": {
        "colab": {
          "base_uri": "https://localhost:8080/"
        },
        "id": "iaPCKu_-kjYY",
        "outputId": "76d61421-26b4-46a0-ac16-1ab1e02672dc"
      },
      "execution_count": null,
      "outputs": [
        {
          "output_type": "display_data",
          "data": {
            "text/plain": [
              "\n",
              "Kaiser-Meyer-Olkin Statistics\n",
              "\n",
              "Call: KMOS(x = cleaned_data[1:33])\n",
              "\n",
              "Measures of Sampling Adequacy (MSA):\n",
              "      qd1       qd2       qd3       qd4       qd5       qd6       qd7       qd8 \n",
              "0.9611377 0.9665563 0.9570940 0.6422860 0.9794715 0.9562057 0.9700763 0.9809143 \n",
              "      qd9      qd10      qd11      qd12      qd13      qd14      qd15      qd16 \n",
              "0.9614243 0.9700651 0.9553342 0.9692788 0.9604076 0.9606687 0.9463654 0.9818514 \n",
              "     qd17      qd18      qd19      qd20      qd21      qd22      qd23      qd24 \n",
              "0.9526272 0.9694107 0.9596475 0.9660218 0.9745578 0.9273572 0.9025359 0.9572029 \n",
              "     qd25      qd26      qd27      qd28      qd29      qd30      qd31      qd32 \n",
              "0.9554307 0.9658695 0.9662994 0.9620148 0.9348269 0.9651743 0.9595275 0.9632269 \n",
              "     qd33 \n",
              "0.9502085 \n",
              "\n",
              "KMO-Criterion: 0.961722\n"
            ]
          },
          "metadata": {}
        }
      ]
    },
    {
      "cell_type": "markdown",
      "source": [
        "Kaiser-Meyer-Olkin (KMO) measure of sampling adequacy is 0.961722, which is remarkably close to 1. This suggests that the proportion of variance in our variables that might be caused by underlying factors is high.\n",
        "\n",
        "Consequently, factor analysis is considered suitable and likely to yield meaningful factors.\n"
      ],
      "metadata": {
        "id": "S0gu3wABSVMB"
      }
    },
    {
      "cell_type": "code",
      "source": [
        "#Anti-Image Correlations\n",
        "sort(KMOTEST$MSA)"
      ],
      "metadata": {
        "colab": {
          "base_uri": "https://localhost:8080/"
        },
        "id": "02idFmQlk2bH",
        "outputId": "7ebb1100-ab66-4802-808f-eb0183507266"
      },
      "execution_count": null,
      "outputs": [
        {
          "output_type": "display_data",
          "data": {
            "text/html": [
              "<style>\n",
              ".dl-inline {width: auto; margin:0; padding: 0}\n",
              ".dl-inline>dt, .dl-inline>dd {float: none; width: auto; display: inline-block}\n",
              ".dl-inline>dt::after {content: \":\\0020\"; padding-right: .5ex}\n",
              ".dl-inline>dt:not(:first-of-type) {padding-left: .5ex}\n",
              "</style><dl class=dl-inline><dt>qd4</dt><dd>0.642286019970531</dd><dt>qd23</dt><dd>0.902535867664657</dd><dt>qd22</dt><dd>0.927357209458942</dd><dt>qd29</dt><dd>0.934826865710124</dd><dt>qd15</dt><dd>0.946365436067592</dd><dt>qd33</dt><dd>0.950208512286947</dd><dt>qd17</dt><dd>0.9526272170584</dd><dt>qd11</dt><dd>0.955334184984512</dd><dt>qd25</dt><dd>0.9554306844571</dd><dt>qd6</dt><dd>0.956205747631399</dd><dt>qd3</dt><dd>0.95709402915337</dd><dt>qd24</dt><dd>0.957202933328092</dd><dt>qd31</dt><dd>0.959527539865162</dd><dt>qd19</dt><dd>0.959647527838989</dd><dt>qd13</dt><dd>0.960407600695411</dd><dt>qd14</dt><dd>0.960668688171019</dd><dt>qd1</dt><dd>0.961137747679605</dd><dt>qd9</dt><dd>0.961424317917299</dd><dt>qd28</dt><dd>0.962014760065486</dd><dt>qd32</dt><dd>0.963226899991766</dd><dt>qd30</dt><dd>0.965174337415882</dd><dt>qd26</dt><dd>0.965869470789369</dd><dt>qd20</dt><dd>0.966021787961436</dd><dt>qd27</dt><dd>0.966299437004726</dd><dt>qd2</dt><dd>0.966556269181222</dd><dt>qd12</dt><dd>0.969278836898314</dd><dt>qd18</dt><dd>0.969410729938202</dd><dt>qd10</dt><dd>0.970065119807399</dd><dt>qd7</dt><dd>0.970076327484705</dd><dt>qd21</dt><dd>0.974557765168499</dd><dt>qd5</dt><dd>0.979471465750785</dd><dt>qd8</dt><dd>0.980914276155211</dd><dt>qd16</dt><dd>0.981851416566056</dd></dl>\n"
            ],
            "text/markdown": "qd4\n:   0.642286019970531qd23\n:   0.902535867664657qd22\n:   0.927357209458942qd29\n:   0.934826865710124qd15\n:   0.946365436067592qd33\n:   0.950208512286947qd17\n:   0.9526272170584qd11\n:   0.955334184984512qd25\n:   0.9554306844571qd6\n:   0.956205747631399qd3\n:   0.95709402915337qd24\n:   0.957202933328092qd31\n:   0.959527539865162qd19\n:   0.959647527838989qd13\n:   0.960407600695411qd14\n:   0.960668688171019qd1\n:   0.961137747679605qd9\n:   0.961424317917299qd28\n:   0.962014760065486qd32\n:   0.963226899991766qd30\n:   0.965174337415882qd26\n:   0.965869470789369qd20\n:   0.966021787961436qd27\n:   0.966299437004726qd2\n:   0.966556269181222qd12\n:   0.969278836898314qd18\n:   0.969410729938202qd10\n:   0.970065119807399qd7\n:   0.970076327484705qd21\n:   0.974557765168499qd5\n:   0.979471465750785qd8\n:   0.980914276155211qd16\n:   0.981851416566056\n\n",
            "text/latex": "\\begin{description*}\n\\item[qd4] 0.642286019970531\n\\item[qd23] 0.902535867664657\n\\item[qd22] 0.927357209458942\n\\item[qd29] 0.934826865710124\n\\item[qd15] 0.946365436067592\n\\item[qd33] 0.950208512286947\n\\item[qd17] 0.9526272170584\n\\item[qd11] 0.955334184984512\n\\item[qd25] 0.9554306844571\n\\item[qd6] 0.956205747631399\n\\item[qd3] 0.95709402915337\n\\item[qd24] 0.957202933328092\n\\item[qd31] 0.959527539865162\n\\item[qd19] 0.959647527838989\n\\item[qd13] 0.960407600695411\n\\item[qd14] 0.960668688171019\n\\item[qd1] 0.961137747679605\n\\item[qd9] 0.961424317917299\n\\item[qd28] 0.962014760065486\n\\item[qd32] 0.963226899991766\n\\item[qd30] 0.965174337415882\n\\item[qd26] 0.965869470789369\n\\item[qd20] 0.966021787961436\n\\item[qd27] 0.966299437004726\n\\item[qd2] 0.966556269181222\n\\item[qd12] 0.969278836898314\n\\item[qd18] 0.969410729938202\n\\item[qd10] 0.970065119807399\n\\item[qd7] 0.970076327484705\n\\item[qd21] 0.974557765168499\n\\item[qd5] 0.979471465750785\n\\item[qd8] 0.980914276155211\n\\item[qd16] 0.981851416566056\n\\end{description*}\n",
            "text/plain": [
              "      qd4      qd23      qd22      qd29      qd15      qd33      qd17      qd11 \n",
              "0.6422860 0.9025359 0.9273572 0.9348269 0.9463654 0.9502085 0.9526272 0.9553342 \n",
              "     qd25       qd6       qd3      qd24      qd31      qd19      qd13      qd14 \n",
              "0.9554307 0.9562057 0.9570940 0.9572029 0.9595275 0.9596475 0.9604076 0.9606687 \n",
              "      qd1       qd9      qd28      qd32      qd30      qd26      qd20      qd27 \n",
              "0.9611377 0.9614243 0.9620148 0.9632269 0.9651743 0.9658695 0.9660218 0.9662994 \n",
              "      qd2      qd12      qd18      qd10       qd7      qd21       qd5       qd8 \n",
              "0.9665563 0.9692788 0.9694107 0.9700651 0.9700763 0.9745578 0.9794715 0.9809143 \n",
              "     qd16 \n",
              "0.9818514 "
            ]
          },
          "metadata": {}
        }
      ]
    },
    {
      "cell_type": "code",
      "source": [
        "head(cleaned_data)"
      ],
      "metadata": {
        "colab": {
          "base_uri": "https://localhost:8080/"
        },
        "id": "Sz6GGizguMWc",
        "outputId": "b8cea2f6-7253-41f0-e93f-ddb6ca84dbba"
      },
      "execution_count": null,
      "outputs": [
        {
          "output_type": "display_data",
          "data": {
            "text/html": [
              "<table class=\"dataframe\">\n",
              "<caption>A data.frame: 6 × 39</caption>\n",
              "<thead>\n",
              "\t<tr><th></th><th scope=col>qd1</th><th scope=col>qd2</th><th scope=col>qd3</th><th scope=col>qd4</th><th scope=col>qd5</th><th scope=col>qd6</th><th scope=col>qd7</th><th scope=col>qd8</th><th scope=col>qd9</th><th scope=col>qd10</th><th scope=col>⋯</th><th scope=col>qd30</th><th scope=col>qd31</th><th scope=col>qd32</th><th scope=col>qd33</th><th scope=col>wtp1</th><th scope=col>wtp2</th><th scope=col>wtp3</th><th scope=col>ri1</th><th scope=col>ri2</th><th scope=col>brandrec</th></tr>\n",
              "\t<tr><th></th><th scope=col>&lt;int&gt;</th><th scope=col>&lt;int&gt;</th><th scope=col>&lt;int&gt;</th><th scope=col>&lt;int&gt;</th><th scope=col>&lt;int&gt;</th><th scope=col>&lt;int&gt;</th><th scope=col>&lt;int&gt;</th><th scope=col>&lt;int&gt;</th><th scope=col>&lt;int&gt;</th><th scope=col>&lt;int&gt;</th><th scope=col>⋯</th><th scope=col>&lt;int&gt;</th><th scope=col>&lt;int&gt;</th><th scope=col>&lt;int&gt;</th><th scope=col>&lt;int&gt;</th><th scope=col>&lt;int&gt;</th><th scope=col>&lt;int&gt;</th><th scope=col>&lt;int&gt;</th><th scope=col>&lt;int&gt;</th><th scope=col>&lt;int&gt;</th><th scope=col>&lt;int&gt;</th></tr>\n",
              "</thead>\n",
              "<tbody>\n",
              "\t<tr><th scope=row>1</th><td>3</td><td>4</td><td>3</td><td>3</td><td>4</td><td>3</td><td>4</td><td>3</td><td>3</td><td>3</td><td>⋯</td><td>4</td><td>4</td><td>3</td><td>3</td><td>5</td><td>4</td><td>5</td><td>6</td><td>6</td><td>1</td></tr>\n",
              "\t<tr><th scope=row>2</th><td>4</td><td>4</td><td>3</td><td>6</td><td>4</td><td>4</td><td>4</td><td>4</td><td>4</td><td>4</td><td>⋯</td><td>4</td><td>3</td><td>4</td><td>3</td><td>4</td><td>5</td><td>4</td><td>5</td><td>6</td><td>1</td></tr>\n",
              "\t<tr><th scope=row>3</th><td>3</td><td>4</td><td>3</td><td>2</td><td>3</td><td>3</td><td>3</td><td>4</td><td>3</td><td>3</td><td>⋯</td><td>4</td><td>4</td><td>3</td><td>3</td><td>4</td><td>4</td><td>4</td><td>5</td><td>6</td><td>1</td></tr>\n",
              "\t<tr><th scope=row>4</th><td>5</td><td>5</td><td>4</td><td>3</td><td>5</td><td>5</td><td>5</td><td>5</td><td>4</td><td>5</td><td>⋯</td><td>5</td><td>5</td><td>5</td><td>5</td><td>1</td><td>1</td><td>1</td><td>2</td><td>6</td><td>1</td></tr>\n",
              "\t<tr><th scope=row>5</th><td>4</td><td>4</td><td>5</td><td>2</td><td>3</td><td>3</td><td>4</td><td>4</td><td>3</td><td>4</td><td>⋯</td><td>4</td><td>4</td><td>4</td><td>4</td><td>4</td><td>2</td><td>2</td><td>6</td><td>5</td><td>1</td></tr>\n",
              "\t<tr><th scope=row>6</th><td>3</td><td>4</td><td>3</td><td>5</td><td>3</td><td>3</td><td>4</td><td>3</td><td>3</td><td>3</td><td>⋯</td><td>3</td><td>3</td><td>3</td><td>4</td><td>3</td><td>3</td><td>2</td><td>5</td><td>5</td><td>1</td></tr>\n",
              "</tbody>\n",
              "</table>\n"
            ],
            "text/markdown": "\nA data.frame: 6 × 39\n\n| <!--/--> | qd1 &lt;int&gt; | qd2 &lt;int&gt; | qd3 &lt;int&gt; | qd4 &lt;int&gt; | qd5 &lt;int&gt; | qd6 &lt;int&gt; | qd7 &lt;int&gt; | qd8 &lt;int&gt; | qd9 &lt;int&gt; | qd10 &lt;int&gt; | ⋯ ⋯ | qd30 &lt;int&gt; | qd31 &lt;int&gt; | qd32 &lt;int&gt; | qd33 &lt;int&gt; | wtp1 &lt;int&gt; | wtp2 &lt;int&gt; | wtp3 &lt;int&gt; | ri1 &lt;int&gt; | ri2 &lt;int&gt; | brandrec &lt;int&gt; |\n|---|---|---|---|---|---|---|---|---|---|---|---|---|---|---|---|---|---|---|---|---|---|\n| 1 | 3 | 4 | 3 | 3 | 4 | 3 | 4 | 3 | 3 | 3 | ⋯ | 4 | 4 | 3 | 3 | 5 | 4 | 5 | 6 | 6 | 1 |\n| 2 | 4 | 4 | 3 | 6 | 4 | 4 | 4 | 4 | 4 | 4 | ⋯ | 4 | 3 | 4 | 3 | 4 | 5 | 4 | 5 | 6 | 1 |\n| 3 | 3 | 4 | 3 | 2 | 3 | 3 | 3 | 4 | 3 | 3 | ⋯ | 4 | 4 | 3 | 3 | 4 | 4 | 4 | 5 | 6 | 1 |\n| 4 | 5 | 5 | 4 | 3 | 5 | 5 | 5 | 5 | 4 | 5 | ⋯ | 5 | 5 | 5 | 5 | 1 | 1 | 1 | 2 | 6 | 1 |\n| 5 | 4 | 4 | 5 | 2 | 3 | 3 | 4 | 4 | 3 | 4 | ⋯ | 4 | 4 | 4 | 4 | 4 | 2 | 2 | 6 | 5 | 1 |\n| 6 | 3 | 4 | 3 | 5 | 3 | 3 | 4 | 3 | 3 | 3 | ⋯ | 3 | 3 | 3 | 4 | 3 | 3 | 2 | 5 | 5 | 1 |\n\n",
            "text/latex": "A data.frame: 6 × 39\n\\begin{tabular}{r|lllllllllllllllllllll}\n  & qd1 & qd2 & qd3 & qd4 & qd5 & qd6 & qd7 & qd8 & qd9 & qd10 & ⋯ & qd30 & qd31 & qd32 & qd33 & wtp1 & wtp2 & wtp3 & ri1 & ri2 & brandrec\\\\\n  & <int> & <int> & <int> & <int> & <int> & <int> & <int> & <int> & <int> & <int> & ⋯ & <int> & <int> & <int> & <int> & <int> & <int> & <int> & <int> & <int> & <int>\\\\\n\\hline\n\t1 & 3 & 4 & 3 & 3 & 4 & 3 & 4 & 3 & 3 & 3 & ⋯ & 4 & 4 & 3 & 3 & 5 & 4 & 5 & 6 & 6 & 1\\\\\n\t2 & 4 & 4 & 3 & 6 & 4 & 4 & 4 & 4 & 4 & 4 & ⋯ & 4 & 3 & 4 & 3 & 4 & 5 & 4 & 5 & 6 & 1\\\\\n\t3 & 3 & 4 & 3 & 2 & 3 & 3 & 3 & 4 & 3 & 3 & ⋯ & 4 & 4 & 3 & 3 & 4 & 4 & 4 & 5 & 6 & 1\\\\\n\t4 & 5 & 5 & 4 & 3 & 5 & 5 & 5 & 5 & 4 & 5 & ⋯ & 5 & 5 & 5 & 5 & 1 & 1 & 1 & 2 & 6 & 1\\\\\n\t5 & 4 & 4 & 5 & 2 & 3 & 3 & 4 & 4 & 3 & 4 & ⋯ & 4 & 4 & 4 & 4 & 4 & 2 & 2 & 6 & 5 & 1\\\\\n\t6 & 3 & 4 & 3 & 5 & 3 & 3 & 4 & 3 & 3 & 3 & ⋯ & 3 & 3 & 3 & 4 & 3 & 3 & 2 & 5 & 5 & 1\\\\\n\\end{tabular}\n",
            "text/plain": [
              "  qd1 qd2 qd3 qd4 qd5 qd6 qd7 qd8 qd9 qd10 <U+22EF>   qd30 qd31 qd32 qd33 wtp1\n",
              "1 3   4   3   3   4   3   4   3   3   3    <U+22EF> 4    4    3    3    5   \n",
              "2 4   4   3   6   4   4   4   4   4   4    <U+22EF> 4    3    4    3    4   \n",
              "3 3   4   3   2   3   3   3   4   3   3    <U+22EF> 4    4    3    3    4   \n",
              "4 5   5   4   3   5   5   5   5   4   5    <U+22EF> 5    5    5    5    1   \n",
              "5 4   4   5   2   3   3   4   4   3   4    <U+22EF> 4    4    4    4    4   \n",
              "6 3   4   3   5   3   3   4   3   3   3    <U+22EF> 3    3    3    4    3   \n",
              "  wtp2 wtp3 ri1 ri2 brandrec\n",
              "1 4    5    6   6   1       \n",
              "2 5    4    5   6   1       \n",
              "3 4    4    5   6   1       \n",
              "4 1    1    2   6   1       \n",
              "5 2    2    6   5   1       \n",
              "6 3    2    5   5   1       "
            ]
          },
          "metadata": {}
        }
      ]
    },
    {
      "cell_type": "markdown",
      "source": [
        " Moreover, the individual KMO values for each variable are well above the acceptable threshold of 0.5, further confirming the adequacy of our data for this study."
      ],
      "metadata": {
        "id": "j6SNrXW6Sq5s"
      }
    },
    {
      "cell_type": "markdown",
      "source": [
        "## Q1-2. Factor Extraction Method - Principal Axes Factoring"
      ],
      "metadata": {
        "id": "d2rPm50KlAb_"
      }
    },
    {
      "cell_type": "markdown",
      "source": [
        "For the first step of our study, we'll be choosing Principal Axes Factoring with varimax rotation for our factor extraction method."
      ],
      "metadata": {
        "id": "xxj3GPBXq0I7"
      }
    },
    {
      "cell_type": "markdown",
      "source": [
        "First, we'll apply the PAF on the whole data and review the results."
      ],
      "metadata": {
        "id": "9lQ1MWeesZmx"
      }
    },
    {
      "cell_type": "code",
      "source": [
        "fa_paf <- fa(cleaned_data[1:33], nfactors = ncol(cleaned_data[1:33]), rotate = \"varimax\")"
      ],
      "metadata": {
        "id": "yjRxWjSIk-N2"
      },
      "execution_count": null,
      "outputs": []
    },
    {
      "cell_type": "code",
      "source": [
        "plot(fa_paf$e.values,xlab=\"Factor Number\",ylab=\"Eigenvalue\",main=\"PAF Scree plot\")+abline(h=1)"
      ],
      "metadata": {
        "colab": {
          "base_uri": "https://localhost:8080/"
        },
        "id": "ffEXwBoElIsQ",
        "outputId": "73622aac-bf08-4735-ffa6-dc5c0b6fd32e"
      },
      "execution_count": null,
      "outputs": [
        {
          "output_type": "display_data",
          "data": {
            "text/html": [],
            "text/markdown": "",
            "text/latex": "",
            "text/plain": [
              "integer(0)"
            ]
          },
          "metadata": {}
        },
        {
          "output_type": "display_data",
          "data": {
            "text/plain": [
              "Plot with title \"PAF Scree plot\""
            ],
            "image/png": "[encoded data removed]"
          },
          "metadata": {
            "image/png": {
              "width": 420,
              "height": 420
            }
          }
        }
      ]
    },
    {
      "cell_type": "code",
      "source": [
        "eigenvalues = fa_paf$e.values\n",
        "eigenvalues"
      ],
      "metadata": {
        "colab": {
          "base_uri": "https://localhost:8080/"
        },
        "id": "swH9iPXos_CP",
        "outputId": "77b435bd-7e1d-48b1-b17e-a2701795c427"
      },
      "execution_count": null,
      "outputs": [
        {
          "output_type": "display_data",
          "data": {
            "text/html": [
              "<style>\n",
              ".list-inline {list-style: none; margin:0; padding: 0}\n",
              ".list-inline>li {display: inline-block}\n",
              ".list-inline>li:not(:last-child)::after {content: \"\\00b7\"; padding: 0 .5ex}\n",
              "</style>\n",
              "<ol class=list-inline><li>15.9082244295655</li><li>2.33980020928966</li><li>2.07413793956347</li><li>1.4922324188301</li><li>1.38533352483078</li><li>1.18686990475269</li><li>1.09369000391734</li><li>1.00967761182104</li><li>0.853050748512539</li><li>0.757938625921653</li><li>0.406692714225372</li><li>0.360582284632212</li><li>0.350969007335338</li><li>0.297063049210205</li><li>0.285875617287215</li><li>0.277308557706998</li><li>0.257431011570004</li><li>0.236158371308293</li><li>0.227353555299554</li><li>0.215511215353776</li><li>0.200712757741203</li><li>0.192956815934679</li><li>0.180132544562262</li><li>0.168281730234466</li><li>0.164019696690037</li><li>0.155523068979688</li><li>0.152052825910428</li><li>0.14616744822579</li><li>0.138457724462423</li><li>0.13386763688157</li><li>0.128862030610397</li><li>0.11561203436815</li><li>0.107452884465108</li></ol>\n"
            ],
            "text/markdown": "1. 15.9082244295655\n2. 2.33980020928966\n3. 2.07413793956347\n4. 1.4922324188301\n5. 1.38533352483078\n6. 1.18686990475269\n7. 1.09369000391734\n8. 1.00967761182104\n9. 0.853050748512539\n10. 0.757938625921653\n11. 0.406692714225372\n12. 0.360582284632212\n13. 0.350969007335338\n14. 0.297063049210205\n15. 0.285875617287215\n16. 0.277308557706998\n17. 0.257431011570004\n18. 0.236158371308293\n19. 0.227353555299554\n20. 0.215511215353776\n21. 0.200712757741203\n22. 0.192956815934679\n23. 0.180132544562262\n24. 0.168281730234466\n25. 0.164019696690037\n26. 0.155523068979688\n27. 0.152052825910428\n28. 0.14616744822579\n29. 0.138457724462423\n30. 0.13386763688157\n31. 0.128862030610397\n32. 0.11561203436815\n33. 0.107452884465108\n\n\n",
            "text/latex": "\\begin{enumerate*}\n\\item 15.9082244295655\n\\item 2.33980020928966\n\\item 2.07413793956347\n\\item 1.4922324188301\n\\item 1.38533352483078\n\\item 1.18686990475269\n\\item 1.09369000391734\n\\item 1.00967761182104\n\\item 0.853050748512539\n\\item 0.757938625921653\n\\item 0.406692714225372\n\\item 0.360582284632212\n\\item 0.350969007335338\n\\item 0.297063049210205\n\\item 0.285875617287215\n\\item 0.277308557706998\n\\item 0.257431011570004\n\\item 0.236158371308293\n\\item 0.227353555299554\n\\item 0.215511215353776\n\\item 0.200712757741203\n\\item 0.192956815934679\n\\item 0.180132544562262\n\\item 0.168281730234466\n\\item 0.164019696690037\n\\item 0.155523068979688\n\\item 0.152052825910428\n\\item 0.14616744822579\n\\item 0.138457724462423\n\\item 0.13386763688157\n\\item 0.128862030610397\n\\item 0.11561203436815\n\\item 0.107452884465108\n\\end{enumerate*}\n",
            "text/plain": [
              " [1] 15.9082244  2.3398002  2.0741379  1.4922324  1.3853335  1.1868699\n",
              " [7]  1.0936900  1.0096776  0.8530507  0.7579386  0.4066927  0.3605823\n",
              "[13]  0.3509690  0.2970630  0.2858756  0.2773086  0.2574310  0.2361584\n",
              "[19]  0.2273536  0.2155112  0.2007128  0.1929568  0.1801325  0.1682817\n",
              "[25]  0.1640197  0.1555231  0.1520528  0.1461674  0.1384577  0.1338676\n",
              "[31]  0.1288620  0.1156120  0.1074529"
            ]
          },
          "metadata": {}
        }
      ]
    },
    {
      "cell_type": "markdown",
      "source": [
        "According to the scree test, we can move on with a 8 factor solution as the first 9 eigenvalues are above 1."
      ],
      "metadata": {
        "id": "4UXoV7f2w9Sz"
      }
    },
    {
      "cell_type": "code",
      "source": [
        "variance = eigenvalues / ncol(cleaned_data[1:33]) * 100\n",
        "sum_variance = cumsum(eigenvalues / ncol(cleaned_data[1:33]))\n",
        "\n",
        "sum_explained_variance = cbind(eigenvalue = eigenvalues, variance=variance, total_variance=sum_variance)\n",
        "sum_explained_variance"
      ],
      "metadata": {
        "colab": {
          "base_uri": "https://localhost:8080/"
        },
        "id": "7x0o4GzFsl9J",
        "outputId": "0084dd51-bd5c-4705-d23e-346835a90919"
      },
      "execution_count": null,
      "outputs": [
        {
          "output_type": "display_data",
          "data": {
            "text/html": [
              "<table class=\"dataframe\">\n",
              "<caption>A matrix: 33 × 3 of type dbl</caption>\n",
              "<thead>\n",
              "\t<tr><th scope=col>eigenvalue</th><th scope=col>variance</th><th scope=col>total_variance</th></tr>\n",
              "</thead>\n",
              "<tbody>\n",
              "\t<tr><td>15.9082244</td><td>48.2067407</td><td>0.4820674</td></tr>\n",
              "\t<tr><td> 2.3398002</td><td> 7.0903037</td><td>0.5529704</td></tr>\n",
              "\t<tr><td> 2.0741379</td><td> 6.2852665</td><td>0.6158231</td></tr>\n",
              "\t<tr><td> 1.4922324</td><td> 4.5219164</td><td>0.6610423</td></tr>\n",
              "\t<tr><td> 1.3853335</td><td> 4.1979804</td><td>0.7030221</td></tr>\n",
              "\t<tr><td> 1.1868699</td><td> 3.5965755</td><td>0.7389878</td></tr>\n",
              "\t<tr><td> 1.0936900</td><td> 3.3142121</td><td>0.7721300</td></tr>\n",
              "\t<tr><td> 1.0096776</td><td> 3.0596291</td><td>0.8027262</td></tr>\n",
              "\t<tr><td> 0.8530507</td><td> 2.5850023</td><td>0.8285763</td></tr>\n",
              "\t<tr><td> 0.7579386</td><td> 2.2967837</td><td>0.8515441</td></tr>\n",
              "\t<tr><td> 0.4066927</td><td> 1.2324022</td><td>0.8638681</td></tr>\n",
              "\t<tr><td> 0.3605823</td><td> 1.0926736</td><td>0.8747949</td></tr>\n",
              "\t<tr><td> 0.3509690</td><td> 1.0635424</td><td>0.8854303</td></tr>\n",
              "\t<tr><td> 0.2970630</td><td> 0.9001911</td><td>0.8944322</td></tr>\n",
              "\t<tr><td> 0.2858756</td><td> 0.8662897</td><td>0.9030951</td></tr>\n",
              "\t<tr><td> 0.2773086</td><td> 0.8403290</td><td>0.9114984</td></tr>\n",
              "\t<tr><td> 0.2574310</td><td> 0.7800940</td><td>0.9192993</td></tr>\n",
              "\t<tr><td> 0.2361584</td><td> 0.7156314</td><td>0.9264556</td></tr>\n",
              "\t<tr><td> 0.2273536</td><td> 0.6889502</td><td>0.9333451</td></tr>\n",
              "\t<tr><td> 0.2155112</td><td> 0.6530643</td><td>0.9398758</td></tr>\n",
              "\t<tr><td> 0.2007128</td><td> 0.6082205</td><td>0.9459580</td></tr>\n",
              "\t<tr><td> 0.1929568</td><td> 0.5847176</td><td>0.9518052</td></tr>\n",
              "\t<tr><td> 0.1801325</td><td> 0.5458562</td><td>0.9572637</td></tr>\n",
              "\t<tr><td> 0.1682817</td><td> 0.5099446</td><td>0.9623632</td></tr>\n",
              "\t<tr><td> 0.1640197</td><td> 0.4970294</td><td>0.9673335</td></tr>\n",
              "\t<tr><td> 0.1555231</td><td> 0.4712820</td><td>0.9720463</td></tr>\n",
              "\t<tr><td> 0.1520528</td><td> 0.4607661</td><td>0.9766539</td></tr>\n",
              "\t<tr><td> 0.1461674</td><td> 0.4429317</td><td>0.9810833</td></tr>\n",
              "\t<tr><td> 0.1384577</td><td> 0.4195689</td><td>0.9852790</td></tr>\n",
              "\t<tr><td> 0.1338676</td><td> 0.4056595</td><td>0.9893355</td></tr>\n",
              "\t<tr><td> 0.1288620</td><td> 0.3904910</td><td>0.9932405</td></tr>\n",
              "\t<tr><td> 0.1156120</td><td> 0.3503395</td><td>0.9967439</td></tr>\n",
              "\t<tr><td> 0.1074529</td><td> 0.3256148</td><td>1.0000000</td></tr>\n",
              "</tbody>\n",
              "</table>\n"
            ],
            "text/markdown": "\nA matrix: 33 × 3 of type dbl\n\n| eigenvalue | variance | total_variance |\n|---|---|---|\n| 15.9082244 | 48.2067407 | 0.4820674 |\n|  2.3398002 |  7.0903037 | 0.5529704 |\n|  2.0741379 |  6.2852665 | 0.6158231 |\n|  1.4922324 |  4.5219164 | 0.6610423 |\n|  1.3853335 |  4.1979804 | 0.7030221 |\n|  1.1868699 |  3.5965755 | 0.7389878 |\n|  1.0936900 |  3.3142121 | 0.7721300 |\n|  1.0096776 |  3.0596291 | 0.8027262 |\n|  0.8530507 |  2.5850023 | 0.8285763 |\n|  0.7579386 |  2.2967837 | 0.8515441 |\n|  0.4066927 |  1.2324022 | 0.8638681 |\n|  0.3605823 |  1.0926736 | 0.8747949 |\n|  0.3509690 |  1.0635424 | 0.8854303 |\n|  0.2970630 |  0.9001911 | 0.8944322 |\n|  0.2858756 |  0.8662897 | 0.9030951 |\n|  0.2773086 |  0.8403290 | 0.9114984 |\n|  0.2574310 |  0.7800940 | 0.9192993 |\n|  0.2361584 |  0.7156314 | 0.9264556 |\n|  0.2273536 |  0.6889502 | 0.9333451 |\n|  0.2155112 |  0.6530643 | 0.9398758 |\n|  0.2007128 |  0.6082205 | 0.9459580 |\n|  0.1929568 |  0.5847176 | 0.9518052 |\n|  0.1801325 |  0.5458562 | 0.9572637 |\n|  0.1682817 |  0.5099446 | 0.9623632 |\n|  0.1640197 |  0.4970294 | 0.9673335 |\n|  0.1555231 |  0.4712820 | 0.9720463 |\n|  0.1520528 |  0.4607661 | 0.9766539 |\n|  0.1461674 |  0.4429317 | 0.9810833 |\n|  0.1384577 |  0.4195689 | 0.9852790 |\n|  0.1338676 |  0.4056595 | 0.9893355 |\n|  0.1288620 |  0.3904910 | 0.9932405 |\n|  0.1156120 |  0.3503395 | 0.9967439 |\n|  0.1074529 |  0.3256148 | 1.0000000 |\n\n",
            "text/latex": "A matrix: 33 × 3 of type dbl\n\\begin{tabular}{lll}\n eigenvalue & variance & total\\_variance\\\\\n\\hline\n\t 15.9082244 & 48.2067407 & 0.4820674\\\\\n\t  2.3398002 &  7.0903037 & 0.5529704\\\\\n\t  2.0741379 &  6.2852665 & 0.6158231\\\\\n\t  1.4922324 &  4.5219164 & 0.6610423\\\\\n\t  1.3853335 &  4.1979804 & 0.7030221\\\\\n\t  1.1868699 &  3.5965755 & 0.7389878\\\\\n\t  1.0936900 &  3.3142121 & 0.7721300\\\\\n\t  1.0096776 &  3.0596291 & 0.8027262\\\\\n\t  0.8530507 &  2.5850023 & 0.8285763\\\\\n\t  0.7579386 &  2.2967837 & 0.8515441\\\\\n\t  0.4066927 &  1.2324022 & 0.8638681\\\\\n\t  0.3605823 &  1.0926736 & 0.8747949\\\\\n\t  0.3509690 &  1.0635424 & 0.8854303\\\\\n\t  0.2970630 &  0.9001911 & 0.8944322\\\\\n\t  0.2858756 &  0.8662897 & 0.9030951\\\\\n\t  0.2773086 &  0.8403290 & 0.9114984\\\\\n\t  0.2574310 &  0.7800940 & 0.9192993\\\\\n\t  0.2361584 &  0.7156314 & 0.9264556\\\\\n\t  0.2273536 &  0.6889502 & 0.9333451\\\\\n\t  0.2155112 &  0.6530643 & 0.9398758\\\\\n\t  0.2007128 &  0.6082205 & 0.9459580\\\\\n\t  0.1929568 &  0.5847176 & 0.9518052\\\\\n\t  0.1801325 &  0.5458562 & 0.9572637\\\\\n\t  0.1682817 &  0.5099446 & 0.9623632\\\\\n\t  0.1640197 &  0.4970294 & 0.9673335\\\\\n\t  0.1555231 &  0.4712820 & 0.9720463\\\\\n\t  0.1520528 &  0.4607661 & 0.9766539\\\\\n\t  0.1461674 &  0.4429317 & 0.9810833\\\\\n\t  0.1384577 &  0.4195689 & 0.9852790\\\\\n\t  0.1338676 &  0.4056595 & 0.9893355\\\\\n\t  0.1288620 &  0.3904910 & 0.9932405\\\\\n\t  0.1156120 &  0.3503395 & 0.9967439\\\\\n\t  0.1074529 &  0.3256148 & 1.0000000\\\\\n\\end{tabular}\n",
            "text/plain": [
              "      eigenvalue variance   total_variance\n",
              " [1,] 15.9082244 48.2067407 0.4820674     \n",
              " [2,]  2.3398002  7.0903037 0.5529704     \n",
              " [3,]  2.0741379  6.2852665 0.6158231     \n",
              " [4,]  1.4922324  4.5219164 0.6610423     \n",
              " [5,]  1.3853335  4.1979804 0.7030221     \n",
              " [6,]  1.1868699  3.5965755 0.7389878     \n",
              " [7,]  1.0936900  3.3142121 0.7721300     \n",
              " [8,]  1.0096776  3.0596291 0.8027262     \n",
              " [9,]  0.8530507  2.5850023 0.8285763     \n",
              "[10,]  0.7579386  2.2967837 0.8515441     \n",
              "[11,]  0.4066927  1.2324022 0.8638681     \n",
              "[12,]  0.3605823  1.0926736 0.8747949     \n",
              "[13,]  0.3509690  1.0635424 0.8854303     \n",
              "[14,]  0.2970630  0.9001911 0.8944322     \n",
              "[15,]  0.2858756  0.8662897 0.9030951     \n",
              "[16,]  0.2773086  0.8403290 0.9114984     \n",
              "[17,]  0.2574310  0.7800940 0.9192993     \n",
              "[18,]  0.2361584  0.7156314 0.9264556     \n",
              "[19,]  0.2273536  0.6889502 0.9333451     \n",
              "[20,]  0.2155112  0.6530643 0.9398758     \n",
              "[21,]  0.2007128  0.6082205 0.9459580     \n",
              "[22,]  0.1929568  0.5847176 0.9518052     \n",
              "[23,]  0.1801325  0.5458562 0.9572637     \n",
              "[24,]  0.1682817  0.5099446 0.9623632     \n",
              "[25,]  0.1640197  0.4970294 0.9673335     \n",
              "[26,]  0.1555231  0.4712820 0.9720463     \n",
              "[27,]  0.1520528  0.4607661 0.9766539     \n",
              "[28,]  0.1461674  0.4429317 0.9810833     \n",
              "[29,]  0.1384577  0.4195689 0.9852790     \n",
              "[30,]  0.1338676  0.4056595 0.9893355     \n",
              "[31,]  0.1288620  0.3904910 0.9932405     \n",
              "[32,]  0.1156120  0.3503395 0.9967439     \n",
              "[33,]  0.1074529  0.3256148 1.0000000     "
            ]
          },
          "metadata": {}
        }
      ]
    },
    {
      "cell_type": "code",
      "source": [
        "data.frame(sort(fa_paf$communality))"
      ],
      "metadata": {
        "colab": {
          "base_uri": "https://localhost:8080/"
        },
        "id": "RF5A7ayxsH2u",
        "outputId": "99d76169-f098-49e0-a938-30f81fbe0e51"
      },
      "execution_count": null,
      "outputs": [
        {
          "output_type": "display_data",
          "data": {
            "text/html": [
              "<table class=\"dataframe\">\n",
              "<caption>A data.frame: 33 × 1</caption>\n",
              "<thead>\n",
              "\t<tr><th></th><th scope=col>sort.fa_paf.communality.</th></tr>\n",
              "\t<tr><th></th><th scope=col>&lt;dbl&gt;</th></tr>\n",
              "</thead>\n",
              "<tbody>\n",
              "\t<tr><th scope=row>qd4</th><td>0.2899776</td></tr>\n",
              "\t<tr><th scope=row>qd23</th><td>0.3309972</td></tr>\n",
              "\t<tr><th scope=row>qd28</th><td>0.7233472</td></tr>\n",
              "\t<tr><th scope=row>qd26</th><td>0.7243669</td></tr>\n",
              "\t<tr><th scope=row>qd16</th><td>0.7411509</td></tr>\n",
              "\t<tr><th scope=row>qd31</th><td>0.7562535</td></tr>\n",
              "\t<tr><th scope=row>qd18</th><td>0.7646086</td></tr>\n",
              "\t<tr><th scope=row>qd8</th><td>0.7649222</td></tr>\n",
              "\t<tr><th scope=row>qd5</th><td>0.7992879</td></tr>\n",
              "\t<tr><th scope=row>qd11</th><td>0.8051441</td></tr>\n",
              "\t<tr><th scope=row>qd33</th><td>0.8185509</td></tr>\n",
              "\t<tr><th scope=row>qd25</th><td>0.8216361</td></tr>\n",
              "\t<tr><th scope=row>qd3</th><td>0.8432557</td></tr>\n",
              "\t<tr><th scope=row>qd21</th><td>0.8471125</td></tr>\n",
              "\t<tr><th scope=row>qd12</th><td>0.8527353</td></tr>\n",
              "\t<tr><th scope=row>qd7</th><td>0.8671033</td></tr>\n",
              "\t<tr><th scope=row>qd29</th><td>0.8715821</td></tr>\n",
              "\t<tr><th scope=row>qd32</th><td>0.8726484</td></tr>\n",
              "\t<tr><th scope=row>qd30</th><td>0.8755393</td></tr>\n",
              "\t<tr><th scope=row>qd13</th><td>0.8775119</td></tr>\n",
              "\t<tr><th scope=row>qd1</th><td>0.8849731</td></tr>\n",
              "\t<tr><th scope=row>qd2</th><td>0.8857855</td></tr>\n",
              "\t<tr><th scope=row>qd6</th><td>0.8863968</td></tr>\n",
              "\t<tr><th scope=row>qd17</th><td>0.8876423</td></tr>\n",
              "\t<tr><th scope=row>qd14</th><td>0.8888168</td></tr>\n",
              "\t<tr><th scope=row>qd10</th><td>0.8896334</td></tr>\n",
              "\t<tr><th scope=row>qd22</th><td>0.8905335</td></tr>\n",
              "\t<tr><th scope=row>qd20</th><td>0.8922081</td></tr>\n",
              "\t<tr><th scope=row>qd9</th><td>0.8967996</td></tr>\n",
              "\t<tr><th scope=row>qd15</th><td>0.9098844</td></tr>\n",
              "\t<tr><th scope=row>qd19</th><td>0.9120916</td></tr>\n",
              "\t<tr><th scope=row>qd24</th><td>0.9140008</td></tr>\n",
              "\t<tr><th scope=row>qd27</th><td>0.9274096</td></tr>\n",
              "</tbody>\n",
              "</table>\n"
            ],
            "text/markdown": "\nA data.frame: 33 × 1\n\n| <!--/--> | sort.fa_paf.communality. &lt;dbl&gt; |\n|---|---|\n| qd4 | 0.2899776 |\n| qd23 | 0.3309972 |\n| qd28 | 0.7233472 |\n| qd26 | 0.7243669 |\n| qd16 | 0.7411509 |\n| qd31 | 0.7562535 |\n| qd18 | 0.7646086 |\n| qd8 | 0.7649222 |\n| qd5 | 0.7992879 |\n| qd11 | 0.8051441 |\n| qd33 | 0.8185509 |\n| qd25 | 0.8216361 |\n| qd3 | 0.8432557 |\n| qd21 | 0.8471125 |\n| qd12 | 0.8527353 |\n| qd7 | 0.8671033 |\n| qd29 | 0.8715821 |\n| qd32 | 0.8726484 |\n| qd30 | 0.8755393 |\n| qd13 | 0.8775119 |\n| qd1 | 0.8849731 |\n| qd2 | 0.8857855 |\n| qd6 | 0.8863968 |\n| qd17 | 0.8876423 |\n| qd14 | 0.8888168 |\n| qd10 | 0.8896334 |\n| qd22 | 0.8905335 |\n| qd20 | 0.8922081 |\n| qd9 | 0.8967996 |\n| qd15 | 0.9098844 |\n| qd19 | 0.9120916 |\n| qd24 | 0.9140008 |\n| qd27 | 0.9274096 |\n\n",
            "text/latex": "A data.frame: 33 × 1\n\\begin{tabular}{r|l}\n  & sort.fa\\_paf.communality.\\\\\n  & <dbl>\\\\\n\\hline\n\tqd4 & 0.2899776\\\\\n\tqd23 & 0.3309972\\\\\n\tqd28 & 0.7233472\\\\\n\tqd26 & 0.7243669\\\\\n\tqd16 & 0.7411509\\\\\n\tqd31 & 0.7562535\\\\\n\tqd18 & 0.7646086\\\\\n\tqd8 & 0.7649222\\\\\n\tqd5 & 0.7992879\\\\\n\tqd11 & 0.8051441\\\\\n\tqd33 & 0.8185509\\\\\n\tqd25 & 0.8216361\\\\\n\tqd3 & 0.8432557\\\\\n\tqd21 & 0.8471125\\\\\n\tqd12 & 0.8527353\\\\\n\tqd7 & 0.8671033\\\\\n\tqd29 & 0.8715821\\\\\n\tqd32 & 0.8726484\\\\\n\tqd30 & 0.8755393\\\\\n\tqd13 & 0.8775119\\\\\n\tqd1 & 0.8849731\\\\\n\tqd2 & 0.8857855\\\\\n\tqd6 & 0.8863968\\\\\n\tqd17 & 0.8876423\\\\\n\tqd14 & 0.8888168\\\\\n\tqd10 & 0.8896334\\\\\n\tqd22 & 0.8905335\\\\\n\tqd20 & 0.8922081\\\\\n\tqd9 & 0.8967996\\\\\n\tqd15 & 0.9098844\\\\\n\tqd19 & 0.9120916\\\\\n\tqd24 & 0.9140008\\\\\n\tqd27 & 0.9274096\\\\\n\\end{tabular}\n",
            "text/plain": [
              "     sort.fa_paf.communality.\n",
              "qd4  0.2899776               \n",
              "qd23 0.3309972               \n",
              "qd28 0.7233472               \n",
              "qd26 0.7243669               \n",
              "qd16 0.7411509               \n",
              "qd31 0.7562535               \n",
              "qd18 0.7646086               \n",
              "qd8  0.7649222               \n",
              "qd5  0.7992879               \n",
              "qd11 0.8051441               \n",
              "qd33 0.8185509               \n",
              "qd25 0.8216361               \n",
              "qd3  0.8432557               \n",
              "qd21 0.8471125               \n",
              "qd12 0.8527353               \n",
              "qd7  0.8671033               \n",
              "qd29 0.8715821               \n",
              "qd32 0.8726484               \n",
              "qd30 0.8755393               \n",
              "qd13 0.8775119               \n",
              "qd1  0.8849731               \n",
              "qd2  0.8857855               \n",
              "qd6  0.8863968               \n",
              "qd17 0.8876423               \n",
              "qd14 0.8888168               \n",
              "qd10 0.8896334               \n",
              "qd22 0.8905335               \n",
              "qd20 0.8922081               \n",
              "qd9  0.8967996               \n",
              "qd15 0.9098844               \n",
              "qd19 0.9120916               \n",
              "qd24 0.9140008               \n",
              "qd27 0.9274096               "
            ]
          },
          "metadata": {}
        }
      ]
    },
    {
      "cell_type": "markdown",
      "source": [
        "When we look at the communalities, we again see question 4 and 23 show relatively low values. It's best if we evaluate these questions separately since they might disrupt the analysis, considering they also had very little correlationg with the rest of the variables."
      ],
      "metadata": {
        "id": "Ld34Zg1QJ60P"
      }
    },
    {
      "cell_type": "markdown",
      "source": [
        "To confirm this decision, we'll run two separate PAF and compare the results before we move further."
      ],
      "metadata": {
        "id": "kJj_wRtaxtwK"
      }
    },
    {
      "cell_type": "code",
      "source": [
        "fa_paf_8 = fa(cleaned_data[1:33], nfactors = 8, rotate = \"varimax\")"
      ],
      "metadata": {
        "id": "BNTHra7Fb8eM"
      },
      "execution_count": null,
      "outputs": []
    },
    {
      "cell_type": "code",
      "source": [
        "print(fa_paf_8$loadings, cutoff=0.3,sort=TRUE)"
      ],
      "metadata": {
        "colab": {
          "base_uri": "https://localhost:8080/"
        },
        "id": "ND8k9aPHcU_R",
        "outputId": "5d408824-5b44-4127-a2f8-74ba6f646b59"
      },
      "execution_count": null,
      "outputs": [
        {
          "output_type": "stream",
          "name": "stdout",
          "text": [
            "\n",
            "Loadings:\n",
            "     MR2    MR1    MR5    MR7    MR4    MR3    MR6    MR8   \n",
            "qd9   0.829                                                 \n",
            "qd14  0.852                                                 \n",
            "qd19  0.834                                                 \n",
            "qd21  0.787                                                 \n",
            "qd24  0.862                                                 \n",
            "qd2          0.725                                          \n",
            "qd5          0.646         0.301                            \n",
            "qd7          0.737                                          \n",
            "qd12         0.710                                          \n",
            "qd16         0.616                                          \n",
            "qd1                 0.794                                   \n",
            "qd10                0.745                                   \n",
            "qd20                0.769                                   \n",
            "qd27                0.742                                   \n",
            "qd6                        0.748                            \n",
            "qd8          0.334         0.567                            \n",
            "qd18                       0.636                            \n",
            "qd25                       0.768                            \n",
            "qd3                               0.752                     \n",
            "qd11                              0.734                     \n",
            "qd13                              0.724                     \n",
            "qd30                              0.663                     \n",
            "qd22                                     0.828              \n",
            "qd29                                     0.805              \n",
            "qd33                                     0.773              \n",
            "qd15                                            0.761       \n",
            "qd17                                            0.743       \n",
            "qd32                                            0.720       \n",
            "qd26                                                   0.616\n",
            "qd28                                                   0.659\n",
            "qd31                                            0.309  0.662\n",
            "qd4                                                         \n",
            "qd23                                                        \n",
            "\n",
            "                 MR2   MR1   MR5   MR7   MR4   MR3   MR6   MR8\n",
            "SS loadings    4.618 3.584 3.368 2.984 2.904 2.700 2.417 1.922\n",
            "Proportion Var 0.140 0.109 0.102 0.090 0.088 0.082 0.073 0.058\n",
            "Cumulative Var 0.140 0.249 0.351 0.441 0.529 0.611 0.684 0.742\n"
          ]
        }
      ]
    },
    {
      "cell_type": "code",
      "source": [
        "data.frame(sort(fa_paf_8$communality))"
      ],
      "metadata": {
        "id": "dbKV4ik3cTsj",
        "colab": {
          "base_uri": "https://localhost:8080/"
        },
        "outputId": "7331f20a-f8a3-4c75-d818-8bdd7cf97c47"
      },
      "execution_count": null,
      "outputs": [
        {
          "output_type": "display_data",
          "data": {
            "text/html": [
              "<table class=\"dataframe\">\n",
              "<caption>A data.frame: 33 × 1</caption>\n",
              "<thead>\n",
              "\t<tr><th></th><th scope=col>sort.fa_paf_8.communality.</th></tr>\n",
              "\t<tr><th></th><th scope=col>&lt;dbl&gt;</th></tr>\n",
              "</thead>\n",
              "<tbody>\n",
              "\t<tr><th scope=row>qd4</th><td>0.04090199</td></tr>\n",
              "\t<tr><th scope=row>qd23</th><td>0.08765688</td></tr>\n",
              "\t<tr><th scope=row>qd16</th><td>0.64073594</td></tr>\n",
              "\t<tr><th scope=row>qd18</th><td>0.64637489</td></tr>\n",
              "\t<tr><th scope=row>qd26</th><td>0.64888598</td></tr>\n",
              "\t<tr><th scope=row>qd28</th><td>0.67739749</td></tr>\n",
              "\t<tr><th scope=row>qd8</th><td>0.68063045</td></tr>\n",
              "\t<tr><th scope=row>qd31</th><td>0.70581286</td></tr>\n",
              "\t<tr><th scope=row>qd11</th><td>0.71687723</td></tr>\n",
              "\t<tr><th scope=row>qd5</th><td>0.72480636</td></tr>\n",
              "\t<tr><th scope=row>qd33</th><td>0.76137143</td></tr>\n",
              "\t<tr><th scope=row>qd3</th><td>0.76717766</td></tr>\n",
              "\t<tr><th scope=row>qd21</th><td>0.77073452</td></tr>\n",
              "\t<tr><th scope=row>qd30</th><td>0.77458944</td></tr>\n",
              "\t<tr><th scope=row>qd12</th><td>0.78207561</td></tr>\n",
              "\t<tr><th scope=row>qd25</th><td>0.79296414</td></tr>\n",
              "\t<tr><th scope=row>qd13</th><td>0.80247545</td></tr>\n",
              "\t<tr><th scope=row>qd2</th><td>0.80527615</td></tr>\n",
              "\t<tr><th scope=row>qd6</th><td>0.82805993</td></tr>\n",
              "\t<tr><th scope=row>qd32</th><td>0.82910142</td></tr>\n",
              "\t<tr><th scope=row>qd29</th><td>0.83095832</td></tr>\n",
              "\t<tr><th scope=row>qd10</th><td>0.83394608</td></tr>\n",
              "\t<tr><th scope=row>qd7</th><td>0.83470317</td></tr>\n",
              "\t<tr><th scope=row>qd20</th><td>0.83598899</td></tr>\n",
              "\t<tr><th scope=row>qd27</th><td>0.83770007</td></tr>\n",
              "\t<tr><th scope=row>qd9</th><td>0.84063162</td></tr>\n",
              "\t<tr><th scope=row>qd19</th><td>0.84353647</td></tr>\n",
              "\t<tr><th scope=row>qd17</th><td>0.84961939</td></tr>\n",
              "\t<tr><th scope=row>qd14</th><td>0.85233462</td></tr>\n",
              "\t<tr><th scope=row>qd1</th><td>0.85338996</td></tr>\n",
              "\t<tr><th scope=row>qd22</th><td>0.85587510</td></tr>\n",
              "\t<tr><th scope=row>qd15</th><td>0.86068426</td></tr>\n",
              "\t<tr><th scope=row>qd24</th><td>0.88248762</td></tr>\n",
              "</tbody>\n",
              "</table>\n"
            ],
            "text/markdown": "\nA data.frame: 33 × 1\n\n| <!--/--> | sort.fa_paf_8.communality. &lt;dbl&gt; |\n|---|---|\n| qd4 | 0.04090199 |\n| qd23 | 0.08765688 |\n| qd16 | 0.64073594 |\n| qd18 | 0.64637489 |\n| qd26 | 0.64888598 |\n| qd28 | 0.67739749 |\n| qd8 | 0.68063045 |\n| qd31 | 0.70581286 |\n| qd11 | 0.71687723 |\n| qd5 | 0.72480636 |\n| qd33 | 0.76137143 |\n| qd3 | 0.76717766 |\n| qd21 | 0.77073452 |\n| qd30 | 0.77458944 |\n| qd12 | 0.78207561 |\n| qd25 | 0.79296414 |\n| qd13 | 0.80247545 |\n| qd2 | 0.80527615 |\n| qd6 | 0.82805993 |\n| qd32 | 0.82910142 |\n| qd29 | 0.83095832 |\n| qd10 | 0.83394608 |\n| qd7 | 0.83470317 |\n| qd20 | 0.83598899 |\n| qd27 | 0.83770007 |\n| qd9 | 0.84063162 |\n| qd19 | 0.84353647 |\n| qd17 | 0.84961939 |\n| qd14 | 0.85233462 |\n| qd1 | 0.85338996 |\n| qd22 | 0.85587510 |\n| qd15 | 0.86068426 |\n| qd24 | 0.88248762 |\n\n",
            "text/latex": "A data.frame: 33 × 1\n\\begin{tabular}{r|l}\n  & sort.fa\\_paf\\_8.communality.\\\\\n  & <dbl>\\\\\n\\hline\n\tqd4 & 0.04090199\\\\\n\tqd23 & 0.08765688\\\\\n\tqd16 & 0.64073594\\\\\n\tqd18 & 0.64637489\\\\\n\tqd26 & 0.64888598\\\\\n\tqd28 & 0.67739749\\\\\n\tqd8 & 0.68063045\\\\\n\tqd31 & 0.70581286\\\\\n\tqd11 & 0.71687723\\\\\n\tqd5 & 0.72480636\\\\\n\tqd33 & 0.76137143\\\\\n\tqd3 & 0.76717766\\\\\n\tqd21 & 0.77073452\\\\\n\tqd30 & 0.77458944\\\\\n\tqd12 & 0.78207561\\\\\n\tqd25 & 0.79296414\\\\\n\tqd13 & 0.80247545\\\\\n\tqd2 & 0.80527615\\\\\n\tqd6 & 0.82805993\\\\\n\tqd32 & 0.82910142\\\\\n\tqd29 & 0.83095832\\\\\n\tqd10 & 0.83394608\\\\\n\tqd7 & 0.83470317\\\\\n\tqd20 & 0.83598899\\\\\n\tqd27 & 0.83770007\\\\\n\tqd9 & 0.84063162\\\\\n\tqd19 & 0.84353647\\\\\n\tqd17 & 0.84961939\\\\\n\tqd14 & 0.85233462\\\\\n\tqd1 & 0.85338996\\\\\n\tqd22 & 0.85587510\\\\\n\tqd15 & 0.86068426\\\\\n\tqd24 & 0.88248762\\\\\n\\end{tabular}\n",
            "text/plain": [
              "     sort.fa_paf_8.communality.\n",
              "qd4  0.04090199                \n",
              "qd23 0.08765688                \n",
              "qd16 0.64073594                \n",
              "qd18 0.64637489                \n",
              "qd26 0.64888598                \n",
              "qd28 0.67739749                \n",
              "qd8  0.68063045                \n",
              "qd31 0.70581286                \n",
              "qd11 0.71687723                \n",
              "qd5  0.72480636                \n",
              "qd33 0.76137143                \n",
              "qd3  0.76717766                \n",
              "qd21 0.77073452                \n",
              "qd30 0.77458944                \n",
              "qd12 0.78207561                \n",
              "qd25 0.79296414                \n",
              "qd13 0.80247545                \n",
              "qd2  0.80527615                \n",
              "qd6  0.82805993                \n",
              "qd32 0.82910142                \n",
              "qd29 0.83095832                \n",
              "qd10 0.83394608                \n",
              "qd7  0.83470317                \n",
              "qd20 0.83598899                \n",
              "qd27 0.83770007                \n",
              "qd9  0.84063162                \n",
              "qd19 0.84353647                \n",
              "qd17 0.84961939                \n",
              "qd14 0.85233462                \n",
              "qd1  0.85338996                \n",
              "qd22 0.85587510                \n",
              "qd15 0.86068426                \n",
              "qd24 0.88248762                "
            ]
          },
          "metadata": {}
        }
      ]
    },
    {
      "cell_type": "markdown",
      "source": [
        "When we look at the 8 factor structure, first thing to notice is how qd4 and qd23 have remarkably lower loadings on all factors, which now confirm our worries on that these variables either represent unique dimensions not well captured by the identified factors or are not as strongly associated with the underlying constructs as other variables.\n"
      ],
      "metadata": {
        "id": "hL24DcjnyIb-"
      }
    },
    {
      "cell_type": "markdown",
      "source": [
        "Following this, it's going to be the best if we exclude this two questions from our analysis to have a more reliable result."
      ],
      "metadata": {
        "id": "yWI2vmbUzFLE"
      }
    },
    {
      "cell_type": "code",
      "source": [
        "# Dropping the questions 4 and 23\n",
        "data_v2 = cleaned_data[1:33][ , -c(4,23)]\n",
        "head(data_v2)"
      ],
      "metadata": {
        "colab": {
          "base_uri": "https://localhost:8080/"
        },
        "id": "v5YoYoafumRm",
        "outputId": "9ac9c991-d833-459a-da5c-99fa8ea0724a"
      },
      "execution_count": null,
      "outputs": [
        {
          "output_type": "display_data",
          "data": {
            "text/html": [
              "<table class=\"dataframe\">\n",
              "<caption>A data.frame: 6 × 31</caption>\n",
              "<thead>\n",
              "\t<tr><th></th><th scope=col>qd1</th><th scope=col>qd2</th><th scope=col>qd3</th><th scope=col>qd5</th><th scope=col>qd6</th><th scope=col>qd7</th><th scope=col>qd8</th><th scope=col>qd9</th><th scope=col>qd10</th><th scope=col>qd11</th><th scope=col>⋯</th><th scope=col>qd24</th><th scope=col>qd25</th><th scope=col>qd26</th><th scope=col>qd27</th><th scope=col>qd28</th><th scope=col>qd29</th><th scope=col>qd30</th><th scope=col>qd31</th><th scope=col>qd32</th><th scope=col>qd33</th></tr>\n",
              "\t<tr><th></th><th scope=col>&lt;int&gt;</th><th scope=col>&lt;int&gt;</th><th scope=col>&lt;int&gt;</th><th scope=col>&lt;int&gt;</th><th scope=col>&lt;int&gt;</th><th scope=col>&lt;int&gt;</th><th scope=col>&lt;int&gt;</th><th scope=col>&lt;int&gt;</th><th scope=col>&lt;int&gt;</th><th scope=col>&lt;int&gt;</th><th scope=col>⋯</th><th scope=col>&lt;int&gt;</th><th scope=col>&lt;int&gt;</th><th scope=col>&lt;int&gt;</th><th scope=col>&lt;int&gt;</th><th scope=col>&lt;int&gt;</th><th scope=col>&lt;int&gt;</th><th scope=col>&lt;int&gt;</th><th scope=col>&lt;int&gt;</th><th scope=col>&lt;int&gt;</th><th scope=col>&lt;int&gt;</th></tr>\n",
              "</thead>\n",
              "<tbody>\n",
              "\t<tr><th scope=row>1</th><td>3</td><td>4</td><td>3</td><td>4</td><td>3</td><td>4</td><td>3</td><td>3</td><td>3</td><td>3</td><td>⋯</td><td>3</td><td>3</td><td>4</td><td>3</td><td>3</td><td>3</td><td>4</td><td>4</td><td>3</td><td>3</td></tr>\n",
              "\t<tr><th scope=row>2</th><td>4</td><td>4</td><td>3</td><td>4</td><td>4</td><td>4</td><td>4</td><td>4</td><td>4</td><td>3</td><td>⋯</td><td>4</td><td>4</td><td>3</td><td>4</td><td>3</td><td>3</td><td>4</td><td>3</td><td>4</td><td>3</td></tr>\n",
              "\t<tr><th scope=row>3</th><td>3</td><td>4</td><td>3</td><td>3</td><td>3</td><td>3</td><td>4</td><td>3</td><td>3</td><td>4</td><td>⋯</td><td>3</td><td>3</td><td>4</td><td>3</td><td>4</td><td>4</td><td>4</td><td>4</td><td>3</td><td>3</td></tr>\n",
              "\t<tr><th scope=row>4</th><td>5</td><td>5</td><td>4</td><td>5</td><td>5</td><td>5</td><td>5</td><td>4</td><td>5</td><td>5</td><td>⋯</td><td>4</td><td>5</td><td>4</td><td>5</td><td>4</td><td>5</td><td>5</td><td>5</td><td>5</td><td>5</td></tr>\n",
              "\t<tr><th scope=row>5</th><td>4</td><td>4</td><td>5</td><td>3</td><td>3</td><td>4</td><td>4</td><td>3</td><td>4</td><td>5</td><td>⋯</td><td>3</td><td>2</td><td>4</td><td>4</td><td>4</td><td>4</td><td>4</td><td>4</td><td>4</td><td>4</td></tr>\n",
              "\t<tr><th scope=row>6</th><td>3</td><td>4</td><td>3</td><td>3</td><td>3</td><td>4</td><td>3</td><td>3</td><td>3</td><td>3</td><td>⋯</td><td>3</td><td>3</td><td>4</td><td>3</td><td>3</td><td>4</td><td>3</td><td>3</td><td>3</td><td>4</td></tr>\n",
              "</tbody>\n",
              "</table>\n"
            ],
            "text/markdown": "\nA data.frame: 6 × 31\n\n| <!--/--> | qd1 &lt;int&gt; | qd2 &lt;int&gt; | qd3 &lt;int&gt; | qd5 &lt;int&gt; | qd6 &lt;int&gt; | qd7 &lt;int&gt; | qd8 &lt;int&gt; | qd9 &lt;int&gt; | qd10 &lt;int&gt; | qd11 &lt;int&gt; | ⋯ ⋯ | qd24 &lt;int&gt; | qd25 &lt;int&gt; | qd26 &lt;int&gt; | qd27 &lt;int&gt; | qd28 &lt;int&gt; | qd29 &lt;int&gt; | qd30 &lt;int&gt; | qd31 &lt;int&gt; | qd32 &lt;int&gt; | qd33 &lt;int&gt; |\n|---|---|---|---|---|---|---|---|---|---|---|---|---|---|---|---|---|---|---|---|---|---|\n| 1 | 3 | 4 | 3 | 4 | 3 | 4 | 3 | 3 | 3 | 3 | ⋯ | 3 | 3 | 4 | 3 | 3 | 3 | 4 | 4 | 3 | 3 |\n| 2 | 4 | 4 | 3 | 4 | 4 | 4 | 4 | 4 | 4 | 3 | ⋯ | 4 | 4 | 3 | 4 | 3 | 3 | 4 | 3 | 4 | 3 |\n| 3 | 3 | 4 | 3 | 3 | 3 | 3 | 4 | 3 | 3 | 4 | ⋯ | 3 | 3 | 4 | 3 | 4 | 4 | 4 | 4 | 3 | 3 |\n| 4 | 5 | 5 | 4 | 5 | 5 | 5 | 5 | 4 | 5 | 5 | ⋯ | 4 | 5 | 4 | 5 | 4 | 5 | 5 | 5 | 5 | 5 |\n| 5 | 4 | 4 | 5 | 3 | 3 | 4 | 4 | 3 | 4 | 5 | ⋯ | 3 | 2 | 4 | 4 | 4 | 4 | 4 | 4 | 4 | 4 |\n| 6 | 3 | 4 | 3 | 3 | 3 | 4 | 3 | 3 | 3 | 3 | ⋯ | 3 | 3 | 4 | 3 | 3 | 4 | 3 | 3 | 3 | 4 |\n\n",
            "text/latex": "A data.frame: 6 × 31\n\\begin{tabular}{r|lllllllllllllllllllll}\n  & qd1 & qd2 & qd3 & qd5 & qd6 & qd7 & qd8 & qd9 & qd10 & qd11 & ⋯ & qd24 & qd25 & qd26 & qd27 & qd28 & qd29 & qd30 & qd31 & qd32 & qd33\\\\\n  & <int> & <int> & <int> & <int> & <int> & <int> & <int> & <int> & <int> & <int> & ⋯ & <int> & <int> & <int> & <int> & <int> & <int> & <int> & <int> & <int> & <int>\\\\\n\\hline\n\t1 & 3 & 4 & 3 & 4 & 3 & 4 & 3 & 3 & 3 & 3 & ⋯ & 3 & 3 & 4 & 3 & 3 & 3 & 4 & 4 & 3 & 3\\\\\n\t2 & 4 & 4 & 3 & 4 & 4 & 4 & 4 & 4 & 4 & 3 & ⋯ & 4 & 4 & 3 & 4 & 3 & 3 & 4 & 3 & 4 & 3\\\\\n\t3 & 3 & 4 & 3 & 3 & 3 & 3 & 4 & 3 & 3 & 4 & ⋯ & 3 & 3 & 4 & 3 & 4 & 4 & 4 & 4 & 3 & 3\\\\\n\t4 & 5 & 5 & 4 & 5 & 5 & 5 & 5 & 4 & 5 & 5 & ⋯ & 4 & 5 & 4 & 5 & 4 & 5 & 5 & 5 & 5 & 5\\\\\n\t5 & 4 & 4 & 5 & 3 & 3 & 4 & 4 & 3 & 4 & 5 & ⋯ & 3 & 2 & 4 & 4 & 4 & 4 & 4 & 4 & 4 & 4\\\\\n\t6 & 3 & 4 & 3 & 3 & 3 & 4 & 3 & 3 & 3 & 3 & ⋯ & 3 & 3 & 4 & 3 & 3 & 4 & 3 & 3 & 3 & 4\\\\\n\\end{tabular}\n",
            "text/plain": [
              "  qd1 qd2 qd3 qd5 qd6 qd7 qd8 qd9 qd10 qd11 <U+22EF>   qd24 qd25 qd26 qd27 qd28\n",
              "1 3   4   3   4   3   4   3   3   3    3    <U+22EF> 3    3    4    3    3   \n",
              "2 4   4   3   4   4   4   4   4   4    3    <U+22EF> 4    4    3    4    3   \n",
              "3 3   4   3   3   3   3   4   3   3    4    <U+22EF> 3    3    4    3    4   \n",
              "4 5   5   4   5   5   5   5   4   5    5    <U+22EF> 4    5    4    5    4   \n",
              "5 4   4   5   3   3   4   4   3   4    5    <U+22EF> 3    2    4    4    4   \n",
              "6 3   4   3   3   3   4   3   3   3    3    <U+22EF> 3    3    4    3    3   \n",
              "  qd29 qd30 qd31 qd32 qd33\n",
              "1 3    4    4    3    3   \n",
              "2 3    4    3    4    3   \n",
              "3 4    4    4    3    3   \n",
              "4 5    5    5    5    5   \n",
              "5 4    4    4    4    4   \n",
              "6 4    3    3    3    4   "
            ]
          },
          "metadata": {}
        }
      ]
    },
    {
      "cell_type": "code",
      "source": [
        "fa_paf_v2 <- fa(data_v2, nfactors = ncol(data_v2), rotate = \"varimax\")"
      ],
      "metadata": {
        "id": "XYwyRRb9xT9K"
      },
      "execution_count": null,
      "outputs": []
    },
    {
      "cell_type": "code",
      "source": [
        "plot(fa_paf_v2$e.values,xlab=\"Factor Number\",ylab=\"Eigenvalue\",main=\"PAF Scree plot\")+abline(h=1)"
      ],
      "metadata": {
        "colab": {
          "base_uri": "https://localhost:8080/"
        },
        "id": "ZG_YfeoKwmIR",
        "outputId": "c47fa51e-e31c-4786-abf2-f8bab5a43f70"
      },
      "execution_count": null,
      "outputs": [
        {
          "output_type": "display_data",
          "data": {
            "text/html": [],
            "text/markdown": "",
            "text/latex": "",
            "text/plain": [
              "integer(0)"
            ]
          },
          "metadata": {}
        },
        {
          "output_type": "display_data",
          "data": {
            "text/plain": [
              "Plot with title \"PAF Scree plot\""
            ],
            "image/png": "[encoded data removed]"
          },
          "metadata": {
            "image/png": {
              "width": 420,
              "height": 420
            }
          }
        }
      ]
    },
    {
      "cell_type": "code",
      "source": [
        "eigenvalues_v2 = fa_paf_v2$e.values\n",
        "eigenvalues_v2 # after excluding qd4 and qd23"
      ],
      "metadata": {
        "colab": {
          "base_uri": "https://localhost:8080/"
        },
        "id": "Eb-LDawJw0xC",
        "outputId": "dc8597cc-c47a-4768-8a7e-6d3dab2b581c"
      },
      "execution_count": null,
      "outputs": [
        {
          "output_type": "display_data",
          "data": {
            "text/html": [
              "<style>\n",
              ".list-inline {list-style: none; margin:0; padding: 0}\n",
              ".list-inline>li {display: inline-block}\n",
              ".list-inline>li:not(:last-child)::after {content: \"\\00b7\"; padding: 0 .5ex}\n",
              "</style>\n",
              "<ol class=list-inline><li>15.859868025803</li><li>2.32177623781651</li><li>2.02583305223405</li><li>1.47816309547986</li><li>1.37127075100781</li><li>1.13438457908165</li><li>1.01357134910454</li><li>0.868948312694392</li><li>0.417651591302939</li><li>0.361814937817053</li><li>0.351106890209977</li><li>0.298416394743136</li><li>0.289789308873158</li><li>0.277354849049413</li><li>0.257465054357423</li><li>0.237193276619949</li><li>0.228367466586663</li><li>0.215957346553619</li><li>0.202099346859232</li><li>0.193186590399722</li><li>0.181155103695954</li><li>0.169232297783123</li><li>0.164148421323007</li><li>0.155683999438899</li><li>0.152261884741911</li><li>0.14696431910429</li><li>0.138987815676919</li><li>0.134837572148499</li><li>0.129121455430959</li><li>0.115819148409472</li><li>0.107569525652887</li></ol>\n"
            ],
            "text/markdown": "1. 15.859868025803\n2. 2.32177623781651\n3. 2.02583305223405\n4. 1.47816309547986\n5. 1.37127075100781\n6. 1.13438457908165\n7. 1.01357134910454\n8. 0.868948312694392\n9. 0.417651591302939\n10. 0.361814937817053\n11. 0.351106890209977\n12. 0.298416394743136\n13. 0.289789308873158\n14. 0.277354849049413\n15. 0.257465054357423\n16. 0.237193276619949\n17. 0.228367466586663\n18. 0.215957346553619\n19. 0.202099346859232\n20. 0.193186590399722\n21. 0.181155103695954\n22. 0.169232297783123\n23. 0.164148421323007\n24. 0.155683999438899\n25. 0.152261884741911\n26. 0.14696431910429\n27. 0.138987815676919\n28. 0.134837572148499\n29. 0.129121455430959\n30. 0.115819148409472\n31. 0.107569525652887\n\n\n",
            "text/latex": "\\begin{enumerate*}\n\\item 15.859868025803\n\\item 2.32177623781651\n\\item 2.02583305223405\n\\item 1.47816309547986\n\\item 1.37127075100781\n\\item 1.13438457908165\n\\item 1.01357134910454\n\\item 0.868948312694392\n\\item 0.417651591302939\n\\item 0.361814937817053\n\\item 0.351106890209977\n\\item 0.298416394743136\n\\item 0.289789308873158\n\\item 0.277354849049413\n\\item 0.257465054357423\n\\item 0.237193276619949\n\\item 0.228367466586663\n\\item 0.215957346553619\n\\item 0.202099346859232\n\\item 0.193186590399722\n\\item 0.181155103695954\n\\item 0.169232297783123\n\\item 0.164148421323007\n\\item 0.155683999438899\n\\item 0.152261884741911\n\\item 0.14696431910429\n\\item 0.138987815676919\n\\item 0.134837572148499\n\\item 0.129121455430959\n\\item 0.115819148409472\n\\item 0.107569525652887\n\\end{enumerate*}\n",
            "text/plain": [
              " [1] 15.8598680  2.3217762  2.0258331  1.4781631  1.3712708  1.1343846\n",
              " [7]  1.0135713  0.8689483  0.4176516  0.3618149  0.3511069  0.2984164\n",
              "[13]  0.2897893  0.2773548  0.2574651  0.2371933  0.2283675  0.2159573\n",
              "[19]  0.2020993  0.1931866  0.1811551  0.1692323  0.1641484  0.1556840\n",
              "[25]  0.1522619  0.1469643  0.1389878  0.1348376  0.1291215  0.1158191\n",
              "[31]  0.1075695"
            ]
          },
          "metadata": {}
        }
      ]
    },
    {
      "cell_type": "code",
      "source": [
        "variance_v2 = eigenvalues_v2 / ncol(data_v2) * 100\n",
        "sum_variance_v2 = cumsum(eigenvalues_v2 / ncol(data_v2))\n",
        "\n",
        "sum_explained_variance_v2 = cbind(eigenvalue = eigenvalues_v2, variance=variance_v2, total_variance=sum_variance_v2)\n",
        "sum_explained_variance_v2"
      ],
      "metadata": {
        "colab": {
          "base_uri": "https://localhost:8080/"
        },
        "id": "WcpyLeniwxl7",
        "outputId": "87232336-3bcc-43aa-b1c5-e11f0c01b55f"
      },
      "execution_count": null,
      "outputs": [
        {
          "output_type": "display_data",
          "data": {
            "text/html": [
              "<table class=\"dataframe\">\n",
              "<caption>A matrix: 31 × 3 of type dbl</caption>\n",
              "<thead>\n",
              "\t<tr><th scope=col>eigenvalue</th><th scope=col>variance</th><th scope=col>total_variance</th></tr>\n",
              "</thead>\n",
              "<tbody>\n",
              "\t<tr><td>15.8598680</td><td>51.1608646</td><td>0.5116086</td></tr>\n",
              "\t<tr><td> 2.3217762</td><td> 7.4896008</td><td>0.5865047</td></tr>\n",
              "\t<tr><td> 2.0258331</td><td> 6.5349453</td><td>0.6518541</td></tr>\n",
              "\t<tr><td> 1.4781631</td><td> 4.7682680</td><td>0.6995368</td></tr>\n",
              "\t<tr><td> 1.3712708</td><td> 4.4234540</td><td>0.7437713</td></tr>\n",
              "\t<tr><td> 1.1343846</td><td> 3.6593051</td><td>0.7803644</td></tr>\n",
              "\t<tr><td> 1.0135713</td><td> 3.2695850</td><td>0.8130602</td></tr>\n",
              "\t<tr><td> 0.8689483</td><td> 2.8030591</td><td>0.8410908</td></tr>\n",
              "\t<tr><td> 0.4176516</td><td> 1.3472632</td><td>0.8545635</td></tr>\n",
              "\t<tr><td> 0.3618149</td><td> 1.1671450</td><td>0.8662349</td></tr>\n",
              "\t<tr><td> 0.3511069</td><td> 1.1326029</td><td>0.8775609</td></tr>\n",
              "\t<tr><td> 0.2984164</td><td> 0.9626335</td><td>0.8871873</td></tr>\n",
              "\t<tr><td> 0.2897893</td><td> 0.9348042</td><td>0.8965353</td></tr>\n",
              "\t<tr><td> 0.2773548</td><td> 0.8946931</td><td>0.9054822</td></tr>\n",
              "\t<tr><td> 0.2574651</td><td> 0.8305324</td><td>0.9137876</td></tr>\n",
              "\t<tr><td> 0.2371933</td><td> 0.7651396</td><td>0.9214390</td></tr>\n",
              "\t<tr><td> 0.2283675</td><td> 0.7366692</td><td>0.9288057</td></tr>\n",
              "\t<tr><td> 0.2159573</td><td> 0.6966366</td><td>0.9357720</td></tr>\n",
              "\t<tr><td> 0.2020993</td><td> 0.6519334</td><td>0.9422914</td></tr>\n",
              "\t<tr><td> 0.1931866</td><td> 0.6231825</td><td>0.9485232</td></tr>\n",
              "\t<tr><td> 0.1811551</td><td> 0.5843713</td><td>0.9543669</td></tr>\n",
              "\t<tr><td> 0.1692323</td><td> 0.5459106</td><td>0.9598260</td></tr>\n",
              "\t<tr><td> 0.1641484</td><td> 0.5295110</td><td>0.9651211</td></tr>\n",
              "\t<tr><td> 0.1556840</td><td> 0.5022064</td><td>0.9701432</td></tr>\n",
              "\t<tr><td> 0.1522619</td><td> 0.4911674</td><td>0.9750548</td></tr>\n",
              "\t<tr><td> 0.1469643</td><td> 0.4740784</td><td>0.9797956</td></tr>\n",
              "\t<tr><td> 0.1389878</td><td> 0.4483478</td><td>0.9842791</td></tr>\n",
              "\t<tr><td> 0.1348376</td><td> 0.4349599</td><td>0.9886287</td></tr>\n",
              "\t<tr><td> 0.1291215</td><td> 0.4165208</td><td>0.9927939</td></tr>\n",
              "\t<tr><td> 0.1158191</td><td> 0.3736102</td><td>0.9965300</td></tr>\n",
              "\t<tr><td> 0.1075695</td><td> 0.3469985</td><td>1.0000000</td></tr>\n",
              "</tbody>\n",
              "</table>\n"
            ],
            "text/markdown": "\nA matrix: 31 × 3 of type dbl\n\n| eigenvalue | variance | total_variance |\n|---|---|---|\n| 15.8598680 | 51.1608646 | 0.5116086 |\n|  2.3217762 |  7.4896008 | 0.5865047 |\n|  2.0258331 |  6.5349453 | 0.6518541 |\n|  1.4781631 |  4.7682680 | 0.6995368 |\n|  1.3712708 |  4.4234540 | 0.7437713 |\n|  1.1343846 |  3.6593051 | 0.7803644 |\n|  1.0135713 |  3.2695850 | 0.8130602 |\n|  0.8689483 |  2.8030591 | 0.8410908 |\n|  0.4176516 |  1.3472632 | 0.8545635 |\n|  0.3618149 |  1.1671450 | 0.8662349 |\n|  0.3511069 |  1.1326029 | 0.8775609 |\n|  0.2984164 |  0.9626335 | 0.8871873 |\n|  0.2897893 |  0.9348042 | 0.8965353 |\n|  0.2773548 |  0.8946931 | 0.9054822 |\n|  0.2574651 |  0.8305324 | 0.9137876 |\n|  0.2371933 |  0.7651396 | 0.9214390 |\n|  0.2283675 |  0.7366692 | 0.9288057 |\n|  0.2159573 |  0.6966366 | 0.9357720 |\n|  0.2020993 |  0.6519334 | 0.9422914 |\n|  0.1931866 |  0.6231825 | 0.9485232 |\n|  0.1811551 |  0.5843713 | 0.9543669 |\n|  0.1692323 |  0.5459106 | 0.9598260 |\n|  0.1641484 |  0.5295110 | 0.9651211 |\n|  0.1556840 |  0.5022064 | 0.9701432 |\n|  0.1522619 |  0.4911674 | 0.9750548 |\n|  0.1469643 |  0.4740784 | 0.9797956 |\n|  0.1389878 |  0.4483478 | 0.9842791 |\n|  0.1348376 |  0.4349599 | 0.9886287 |\n|  0.1291215 |  0.4165208 | 0.9927939 |\n|  0.1158191 |  0.3736102 | 0.9965300 |\n|  0.1075695 |  0.3469985 | 1.0000000 |\n\n",
            "text/latex": "A matrix: 31 × 3 of type dbl\n\\begin{tabular}{lll}\n eigenvalue & variance & total\\_variance\\\\\n\\hline\n\t 15.8598680 & 51.1608646 & 0.5116086\\\\\n\t  2.3217762 &  7.4896008 & 0.5865047\\\\\n\t  2.0258331 &  6.5349453 & 0.6518541\\\\\n\t  1.4781631 &  4.7682680 & 0.6995368\\\\\n\t  1.3712708 &  4.4234540 & 0.7437713\\\\\n\t  1.1343846 &  3.6593051 & 0.7803644\\\\\n\t  1.0135713 &  3.2695850 & 0.8130602\\\\\n\t  0.8689483 &  2.8030591 & 0.8410908\\\\\n\t  0.4176516 &  1.3472632 & 0.8545635\\\\\n\t  0.3618149 &  1.1671450 & 0.8662349\\\\\n\t  0.3511069 &  1.1326029 & 0.8775609\\\\\n\t  0.2984164 &  0.9626335 & 0.8871873\\\\\n\t  0.2897893 &  0.9348042 & 0.8965353\\\\\n\t  0.2773548 &  0.8946931 & 0.9054822\\\\\n\t  0.2574651 &  0.8305324 & 0.9137876\\\\\n\t  0.2371933 &  0.7651396 & 0.9214390\\\\\n\t  0.2283675 &  0.7366692 & 0.9288057\\\\\n\t  0.2159573 &  0.6966366 & 0.9357720\\\\\n\t  0.2020993 &  0.6519334 & 0.9422914\\\\\n\t  0.1931866 &  0.6231825 & 0.9485232\\\\\n\t  0.1811551 &  0.5843713 & 0.9543669\\\\\n\t  0.1692323 &  0.5459106 & 0.9598260\\\\\n\t  0.1641484 &  0.5295110 & 0.9651211\\\\\n\t  0.1556840 &  0.5022064 & 0.9701432\\\\\n\t  0.1522619 &  0.4911674 & 0.9750548\\\\\n\t  0.1469643 &  0.4740784 & 0.9797956\\\\\n\t  0.1389878 &  0.4483478 & 0.9842791\\\\\n\t  0.1348376 &  0.4349599 & 0.9886287\\\\\n\t  0.1291215 &  0.4165208 & 0.9927939\\\\\n\t  0.1158191 &  0.3736102 & 0.9965300\\\\\n\t  0.1075695 &  0.3469985 & 1.0000000\\\\\n\\end{tabular}\n",
            "text/plain": [
              "      eigenvalue variance   total_variance\n",
              " [1,] 15.8598680 51.1608646 0.5116086     \n",
              " [2,]  2.3217762  7.4896008 0.5865047     \n",
              " [3,]  2.0258331  6.5349453 0.6518541     \n",
              " [4,]  1.4781631  4.7682680 0.6995368     \n",
              " [5,]  1.3712708  4.4234540 0.7437713     \n",
              " [6,]  1.1343846  3.6593051 0.7803644     \n",
              " [7,]  1.0135713  3.2695850 0.8130602     \n",
              " [8,]  0.8689483  2.8030591 0.8410908     \n",
              " [9,]  0.4176516  1.3472632 0.8545635     \n",
              "[10,]  0.3618149  1.1671450 0.8662349     \n",
              "[11,]  0.3511069  1.1326029 0.8775609     \n",
              "[12,]  0.2984164  0.9626335 0.8871873     \n",
              "[13,]  0.2897893  0.9348042 0.8965353     \n",
              "[14,]  0.2773548  0.8946931 0.9054822     \n",
              "[15,]  0.2574651  0.8305324 0.9137876     \n",
              "[16,]  0.2371933  0.7651396 0.9214390     \n",
              "[17,]  0.2283675  0.7366692 0.9288057     \n",
              "[18,]  0.2159573  0.6966366 0.9357720     \n",
              "[19,]  0.2020993  0.6519334 0.9422914     \n",
              "[20,]  0.1931866  0.6231825 0.9485232     \n",
              "[21,]  0.1811551  0.5843713 0.9543669     \n",
              "[22,]  0.1692323  0.5459106 0.9598260     \n",
              "[23,]  0.1641484  0.5295110 0.9651211     \n",
              "[24,]  0.1556840  0.5022064 0.9701432     \n",
              "[25,]  0.1522619  0.4911674 0.9750548     \n",
              "[26,]  0.1469643  0.4740784 0.9797956     \n",
              "[27,]  0.1389878  0.4483478 0.9842791     \n",
              "[28,]  0.1348376  0.4349599 0.9886287     \n",
              "[29,]  0.1291215  0.4165208 0.9927939     \n",
              "[30,]  0.1158191  0.3736102 0.9965300     \n",
              "[31,]  0.1075695  0.3469985 1.0000000     "
            ]
          },
          "metadata": {}
        }
      ]
    },
    {
      "cell_type": "markdown",
      "source": [
        "When variables qd4 and qd23 were taken our of the PAF analysis, there was a subtle but noteworthy shift in the eigenvalues. Now only 7 of the factors passes the threshold of 1 eigenvalue, but the overall pattern of variance explanation remained largely consistent, indicating the stability of our factor structure. Additionally, 7 factor now explains more than 80% of the variance now."
      ],
      "metadata": {
        "id": "k8NRsth119sq"
      }
    },
    {
      "cell_type": "markdown",
      "source": [
        "One more thing to notice is that, excluding questions 4 and 23 let to a slight decrease in the biggest eigenvalue to 15.86, which might initially appear counterintuitive. However, this should be a good sign for us about the possibility that qd4 and qd23 carried a proportion of the variance that did not align closely with the primary underlying construct captured by the first factor."
      ],
      "metadata": {
        "id": "uvgeO8l1zPgB"
      }
    },
    {
      "cell_type": "markdown",
      "source": [
        "\n",
        "In any case, resulting factor solution with the remaining variables now should have a stronger mutual relationship, therefore potentially increasing the interpretability of the factors."
      ],
      "metadata": {
        "id": "4tmhNfXH14mI"
      }
    },
    {
      "cell_type": "code",
      "source": [
        "fa_paf_v2_7 <- fa(data_v2, nfactors = 7, rotate = \"varimax\")"
      ],
      "metadata": {
        "id": "OWLB8rK8z9E2"
      },
      "execution_count": null,
      "outputs": []
    },
    {
      "cell_type": "code",
      "source": [
        "print(fa_paf_v2_7$loadings, cutoff=0.3,sort=TRUE)"
      ],
      "metadata": {
        "colab": {
          "base_uri": "https://localhost:8080/"
        },
        "id": "DIYW7L-iz1ZL",
        "outputId": "cda8dec7-508f-4b28-c210-245cd9001559"
      },
      "execution_count": null,
      "outputs": [
        {
          "output_type": "stream",
          "name": "stdout",
          "text": [
            "\n",
            "Loadings:\n",
            "     MR2   MR1   MR5   MR6   MR3   MR4   MR7  \n",
            "qd9  0.826                                    \n",
            "qd14 0.849                                    \n",
            "qd19 0.830                                    \n",
            "qd21 0.784                                    \n",
            "qd24 0.859                                    \n",
            "qd2        0.731                              \n",
            "qd5        0.643                              \n",
            "qd7        0.737                              \n",
            "qd12       0.701                              \n",
            "qd16       0.617                              \n",
            "qd1              0.792                        \n",
            "qd10             0.750                        \n",
            "qd20             0.770                        \n",
            "qd27             0.749                        \n",
            "qd15                   0.776                  \n",
            "qd17                   0.748                  \n",
            "qd31                   0.511 0.370            \n",
            "qd32                   0.722                  \n",
            "qd22                         0.843            \n",
            "qd29                         0.818            \n",
            "qd33                         0.788            \n",
            "qd3                                0.758      \n",
            "qd11                               0.745      \n",
            "qd13                               0.738      \n",
            "qd30                               0.675      \n",
            "qd6                                      0.742\n",
            "qd8        0.346                         0.556\n",
            "qd18                                     0.601\n",
            "qd25                                     0.761\n",
            "qd26                   0.427 0.400            \n",
            "qd28       0.318       0.409 0.346            \n",
            "\n",
            "                 MR2   MR1   MR5   MR6   MR3   MR4   MR7\n",
            "SS loadings    4.537 3.653 3.393 3.194 3.127 3.091 2.678\n",
            "Proportion Var 0.146 0.118 0.109 0.103 0.101 0.100 0.086\n",
            "Cumulative Var 0.146 0.264 0.374 0.477 0.578 0.677 0.764\n"
          ]
        }
      ]
    },
    {
      "cell_type": "markdown",
      "source": [
        "After going through a series of trial & error concerning the amount of variables and factors to keep, this factor structure seems to suit our data and our expectations the best."
      ],
      "metadata": {
        "id": "Qz2SgpCa-P3g"
      }
    },
    {
      "cell_type": "markdown",
      "source": [
        "We can move on with the next step now that we decided on our final factor solution: Factor analysis on 7 factors using the data that excludes questions 4 and 23."
      ],
      "metadata": {
        "id": "Frxmix-b6G9L"
      }
    },
    {
      "cell_type": "markdown",
      "source": [
        "The 7-factor model will strike an optimal balance between complexity and coherence, ensuring that each factor defines an easily distinguishable dimension of quality definition and hopefully facilitate a clear insight when we're interpreting each factor in detail"
      ],
      "metadata": {
        "id": "gZ3X_XZF_ZOy"
      }
    },
    {
      "cell_type": "markdown",
      "source": [
        "## Q1-3. Interpreting the Factors through Quality Dimension in the Literature"
      ],
      "metadata": {
        "id": "Vxhc1Edeq8oB"
      }
    },
    {
      "cell_type": "markdown",
      "source": [
        "In this section, we'll interpret the loading scores from our final model's PAF result, and identify what each factor corresponds to in the literature of the Quality Dimensions."
      ],
      "metadata": {
        "id": "8nPle6hJ_o_W"
      }
    },
    {
      "cell_type": "code",
      "source": [
        "print(fa_paf_v2_7$loadings, cutoff=0.3,sort=TRUE)"
      ],
      "metadata": {
        "colab": {
          "base_uri": "https://localhost:8080/"
        },
        "id": "Uu9bM526BAqh",
        "outputId": "85d96a59-a823-4c3f-dfbc-909f48238370"
      },
      "execution_count": null,
      "outputs": [
        {
          "output_type": "stream",
          "name": "stdout",
          "text": [
            "\n",
            "Loadings:\n",
            "     MR2   MR1   MR5   MR6   MR3   MR4   MR7  \n",
            "qd9  0.826                                    \n",
            "qd14 0.849                                    \n",
            "qd19 0.830                                    \n",
            "qd21 0.784                                    \n",
            "qd24 0.859                                    \n",
            "qd2        0.731                              \n",
            "qd5        0.643                              \n",
            "qd7        0.737                              \n",
            "qd12       0.701                              \n",
            "qd16       0.617                              \n",
            "qd1              0.792                        \n",
            "qd10             0.750                        \n",
            "qd20             0.770                        \n",
            "qd27             0.749                        \n",
            "qd15                   0.776                  \n",
            "qd17                   0.748                  \n",
            "qd31                   0.511 0.370            \n",
            "qd32                   0.722                  \n",
            "qd22                         0.843            \n",
            "qd29                         0.818            \n",
            "qd33                         0.788            \n",
            "qd3                                0.758      \n",
            "qd11                               0.745      \n",
            "qd13                               0.738      \n",
            "qd30                               0.675      \n",
            "qd6                                      0.742\n",
            "qd8        0.346                         0.556\n",
            "qd18                                     0.601\n",
            "qd25                                     0.761\n",
            "qd26                   0.427 0.400            \n",
            "qd28       0.318       0.409 0.346            \n",
            "\n",
            "                 MR2   MR1   MR5   MR6   MR3   MR4   MR7\n",
            "SS loadings    4.537 3.653 3.393 3.194 3.127 3.091 2.678\n",
            "Proportion Var 0.146 0.118 0.109 0.103 0.101 0.100 0.086\n",
            "Cumulative Var 0.146 0.264 0.374 0.477 0.578 0.677 0.764\n"
          ]
        }
      ]
    },
    {
      "cell_type": "code",
      "source": [
        "loadings7 <- tibble(name = rownames(fa_paf_v2_7$loadings), as.data.frame(fa_paf_v2_7$loadings[,c(1:7)]))"
      ],
      "metadata": {
        "id": "4V2tzQnzWIUi"
      },
      "execution_count": null,
      "outputs": []
    },
    {
      "cell_type": "code",
      "source": [
        "get_top_loadings <- function(df, factor, threshold) {\n",
        "  df %>%\n",
        "    filter(!!sym(factor) > threshold) %>%  # Keep only loadings above the threshold, should be arbitrarily picked after reviewing the loading dataframes\n",
        "    arrange(desc(!!sym(factor))) %>%  # Sort by the factor score descending\n",
        "    select(name) %>% # Get the question number from name column\n",
        "    pull()\n",
        "}"
      ],
      "metadata": {
        "id": "RBPbOsZVSPXV"
      },
      "execution_count": null,
      "outputs": []
    },
    {
      "cell_type": "code",
      "source": [
        "for (i in 1:7) {\n",
        "  factor_name <- paste0(\"MR\", i)\n",
        "  # gets the question with the top scores for each factor\n",
        "  top_loadings <- get_top_loadings(loadings7, factor_name, 0.5)\n",
        "  # matching the question name from the variables df\n",
        "  top_labels <- variables %>% filter(name %in% top_loadings) %>% select(name, Label)\n",
        "\n",
        "  cat(paste0(\"Factor \", i, \"\\n\"))\n",
        "\n",
        "  for (j in 1:nrow(top_labels)) {\n",
        "    cat(paste0(top_labels$name[j], \": \", top_labels$Label[j], \"\\n\"))\n",
        "  }\n",
        "  cat(\"\\n\")\n",
        "}\n"
      ],
      "metadata": {
        "colab": {
          "base_uri": "https://localhost:8080/"
        },
        "id": "5pFEiVnQYTax",
        "outputId": "f6ab9c3a-dac6-48b4-b068-f8b631adb281"
      },
      "execution_count": null,
      "outputs": [
        {
          "output_type": "stream",
          "name": "stdout",
          "text": [
            "Factor 1\n",
            "qd2: my smartphone  consistently performs\n",
            "qd5: The performance of my smartphone  is excellent\n",
            "qd7: the overall performance of my smartphone  is\n",
            "qd12: how well does your smartphone  performs its core functions\n",
            "qd16: the functioning speed of my smartphone (i.e. time taken to turn ON/OFF, open apps, multi-task etc) is\n",
            "\n",
            "Factor 2\n",
            "qd9: the competence of my smartphone's customer service staff is\n",
            "qd14: the promptness with which my smartphone's customer service reacts to my issues is\n",
            "qd19: the level of professionalism shown by the service staff is\n",
            "qd21: the accessibility of my smartphone's customer service is\n",
            "qd24: the responsiveness of my smartphone's customer service staff is\n",
            "\n",
            "Factor 3\n",
            "qd22: the severity of defects/glitches of my smartphone  is\n",
            "qd29: the frequency of defects/glitches of my smartphone  is\n",
            "qd33: my smartphone's probability of failure or malfunctioning is\n",
            "\n",
            "Factor 4\n",
            "qd3: my user experience with the various functions my smartphone  offers is/was\n",
            "qd11: my experience to learn  how to properly operate my smartphone  with all its functionalities is/was\n",
            "qd13: my smartphone's ease of use is\n",
            "qd30: the usability of my smartphone is\n",
            "\n",
            "Factor 5\n",
            "qd1: the overall attractiveness of my smartphone  is\n",
            "qd10: the appeal of my smartphone's design is\n",
            "qd20: the look- and feel of my smartphone  is\n",
            "qd27: the overall fit and finish of my smartphone  is\n",
            "\n",
            "Factor 6\n",
            "qd15: the endurance of the materials used in my smartphone  is\n",
            "qd17: the robustness of the materials used in my smartphone  is\n",
            "qd31: the life span of my smartphone  is\n",
            "qd32: the standard of materials used in my smart phone is\n",
            "\n",
            "Factor 7\n",
            "qd6: the innovativeness of the extra features offered by my smartphone  is\n",
            "qd8: the extra features offered in my smartphone  usually function\n",
            "qd18: the excitement I get from my smartphone's extra features is\n",
            "qd25: the number of additional features my smartphone  offers is\n",
            "\n"
          ]
        }
      ]
    },
    {
      "cell_type": "markdown",
      "source": [
        "After reviewing the questions under each factor that got the highest loading score from, we can label the factors as following:"
      ],
      "metadata": {
        "id": "vYIpMvfwAl2-"
      }
    },
    {
      "cell_type": "markdown",
      "source": [
        "* Factor 1: Performance\n",
        "* Factor 2: Servicability\n",
        "* Factor 3: Reliability\n",
        "* Factor 4: Ease of Use\n",
        "* Factor 5: Appearance\n",
        "* Factor 6: Durability\n",
        "* Factor 7: Features/Versatility"
      ],
      "metadata": {
        "id": "vRMob94o2bie"
      }
    },
    {
      "cell_type": "markdown",
      "source": [
        "## Q1-4. Compare with Principal Component Analysis"
      ],
      "metadata": {
        "id": "o_PVwMsZlphr"
      }
    },
    {
      "cell_type": "markdown",
      "source": [
        "In this section, we'll now compare our final solution of 7-factor PAF with PCA.\n",
        "\n",
        "Both methods aim to reduce the dimensions of our data, yet they approach the problem from different angles as one analyses variance and other analyses communality."
      ],
      "metadata": {
        "id": "9fHzzeOZCSiQ"
      }
    },
    {
      "cell_type": "code",
      "source": [
        "pca7 <- psych::principal(data_v2, rotate=\"varimax\", nfactors=7, scores=TRUE)"
      ],
      "metadata": {
        "id": "JIjpDniFlOgi"
      },
      "execution_count": null,
      "outputs": []
    },
    {
      "cell_type": "code",
      "source": [
        "print(fa_paf_v2_7$loadings, cutoff=0.3,sort=TRUE)"
      ],
      "metadata": {
        "colab": {
          "base_uri": "https://localhost:8080/"
        },
        "id": "InkpQ__0FhvY",
        "outputId": "c3d6a584-39a1-4b40-aa7b-2b54743fd5d3"
      },
      "execution_count": null,
      "outputs": [
        {
          "output_type": "stream",
          "name": "stdout",
          "text": [
            "\n",
            "Loadings:\n",
            "     MR2   MR1   MR5   MR6   MR3   MR4   MR7  \n",
            "qd9  0.826                                    \n",
            "qd14 0.849                                    \n",
            "qd19 0.830                                    \n",
            "qd21 0.784                                    \n",
            "qd24 0.859                                    \n",
            "qd2        0.731                              \n",
            "qd5        0.643                              \n",
            "qd7        0.737                              \n",
            "qd12       0.701                              \n",
            "qd16       0.617                              \n",
            "qd1              0.792                        \n",
            "qd10             0.750                        \n",
            "qd20             0.770                        \n",
            "qd27             0.749                        \n",
            "qd15                   0.776                  \n",
            "qd17                   0.748                  \n",
            "qd31                   0.511 0.370            \n",
            "qd32                   0.722                  \n",
            "qd22                         0.843            \n",
            "qd29                         0.818            \n",
            "qd33                         0.788            \n",
            "qd3                                0.758      \n",
            "qd11                               0.745      \n",
            "qd13                               0.738      \n",
            "qd30                               0.675      \n",
            "qd6                                      0.742\n",
            "qd8        0.346                         0.556\n",
            "qd18                                     0.601\n",
            "qd25                                     0.761\n",
            "qd26                   0.427 0.400            \n",
            "qd28       0.318       0.409 0.346            \n",
            "\n",
            "                 MR2   MR1   MR5   MR6   MR3   MR4   MR7\n",
            "SS loadings    4.537 3.653 3.393 3.194 3.127 3.091 2.678\n",
            "Proportion Var 0.146 0.118 0.109 0.103 0.101 0.100 0.086\n",
            "Cumulative Var 0.146 0.264 0.374 0.477 0.578 0.677 0.764\n"
          ]
        }
      ]
    },
    {
      "cell_type": "code",
      "source": [
        "print(pca7$loadings, cutoff=0.3,sort=TRUE)"
      ],
      "metadata": {
        "colab": {
          "base_uri": "https://localhost:8080/"
        },
        "id": "_e7h9o3LmJly",
        "outputId": "074ddcf5-a774-46f0-a01d-a42b111373dd"
      },
      "execution_count": null,
      "outputs": [
        {
          "output_type": "stream",
          "name": "stdout",
          "text": [
            "\n",
            "Loadings:\n",
            "     RC2   RC1   RC6   RC5   RC4   RC7   RC3  \n",
            "qd9  0.846                                    \n",
            "qd14 0.867                                    \n",
            "qd19 0.849                                    \n",
            "qd21 0.821                                    \n",
            "qd24 0.867                                    \n",
            "qd2        0.755                              \n",
            "qd5        0.694                              \n",
            "qd7        0.751                              \n",
            "qd12       0.736                              \n",
            "qd16       0.700                              \n",
            "qd15             0.779                        \n",
            "qd17             0.752                        \n",
            "qd26       0.302 0.581                   0.350\n",
            "qd28       0.353 0.576                        \n",
            "qd31             0.680                        \n",
            "qd32             0.732 0.310                  \n",
            "qd1                    0.814                  \n",
            "qd10                   0.778                  \n",
            "qd20                   0.799                  \n",
            "qd27                   0.779                  \n",
            "qd3                          0.806            \n",
            "qd11                         0.814            \n",
            "qd13                         0.762            \n",
            "qd30                         0.706            \n",
            "qd6                                0.763      \n",
            "qd8        0.344                   0.624      \n",
            "qd18                               0.714      \n",
            "qd25                               0.805      \n",
            "qd22                                     0.853\n",
            "qd29                                     0.836\n",
            "qd33                                     0.838\n",
            "\n",
            "                 RC2   RC1   RC6   RC5   RC4   RC7   RC3\n",
            "SS loadings    4.635 3.919 3.894 3.526 3.278 3.031 2.921\n",
            "Proportion Var 0.150 0.126 0.126 0.114 0.106 0.098 0.094\n",
            "Cumulative Var 0.150 0.276 0.402 0.515 0.621 0.719 0.813\n"
          ]
        }
      ]
    },
    {
      "cell_type": "markdown",
      "source": [
        "Despite the similarities in the items that loaded onto factors/components in both PAF and PCA, the variance explained by the corresponding factors/components varied slightly.\n",
        "\n",
        "For instance, while PAF's first factor (MR2) accounted for 14.6% of the variance, PCA's first principal component (RC2) accounted for 15.0%, reflecting PCA's inclusion of total variance. However, the alignment of items to factors in PAF vs. components in PCA did not diverge significantly, underscoring the robustness of our survey instrument's construct validity.\n"
      ],
      "metadata": {
        "id": "Im5sbEGRGF8v"
      }
    },
    {
      "cell_type": "markdown",
      "source": [
        "The choice of factor extraction method can have implications for how the results are interpreted and used. The PAF method is often preferred when the research objective is to identify distinct factors within the data. Meanwhile, PCA may be more suitable for exploratory purposes, where the goal is to explain the maximum amount of variance with as few components as possible."
      ],
      "metadata": {
        "id": "a1x5sX6oFoDH"
      }
    },
    {
      "cell_type": "markdown",
      "source": [
        "Both PAF and PCA offer us valuable perspectives on the factors, but the greater interpretability of the PAF results suits our focus on well-defined quality dimensions better from a managerial standpoint."
      ],
      "metadata": {
        "id": "ihWzg6oKFtrH"
      }
    },
    {
      "cell_type": "markdown",
      "source": [
        "Now let's look at the similarities and differences between each solution's communality:"
      ],
      "metadata": {
        "id": "u7QEIyQjHM8L"
      }
    },
    {
      "cell_type": "code",
      "source": [
        "data.frame(sort(fa_paf_v2_7$communality))"
      ],
      "metadata": {
        "colab": {
          "base_uri": "https://localhost:8080/"
        },
        "id": "HPHgYI0BF5qR",
        "outputId": "c57c23d9-9357-4775-a2ad-1bb253bc6fa4"
      },
      "execution_count": null,
      "outputs": [
        {
          "output_type": "display_data",
          "data": {
            "text/html": [
              "<table class=\"dataframe\">\n",
              "<caption>A data.frame: 31 × 1</caption>\n",
              "<thead>\n",
              "\t<tr><th></th><th scope=col>sort.fa_paf_v2_7.communality.</th></tr>\n",
              "\t<tr><th></th><th scope=col>&lt;dbl&gt;</th></tr>\n",
              "</thead>\n",
              "<tbody>\n",
              "\t<tr><th scope=row>qd28</th><td>0.4767549</td></tr>\n",
              "\t<tr><th scope=row>qd26</th><td>0.5139774</td></tr>\n",
              "\t<tr><th scope=row>qd31</th><td>0.5372693</td></tr>\n",
              "\t<tr><th scope=row>qd18</th><td>0.6261694</td></tr>\n",
              "\t<tr><th scope=row>qd16</th><td>0.6385997</td></tr>\n",
              "\t<tr><th scope=row>qd8</th><td>0.6847276</td></tr>\n",
              "\t<tr><th scope=row>qd11</th><td>0.7117834</td></tr>\n",
              "\t<tr><th scope=row>qd5</th><td>0.7187399</td></tr>\n",
              "\t<tr><th scope=row>qd33</th><td>0.7504222</td></tr>\n",
              "\t<tr><th scope=row>qd3</th><td>0.7633512</td></tr>\n",
              "\t<tr><th scope=row>qd21</th><td>0.7708131</td></tr>\n",
              "\t<tr><th scope=row>qd12</th><td>0.7710297</td></tr>\n",
              "\t<tr><th scope=row>qd30</th><td>0.7755402</td></tr>\n",
              "\t<tr><th scope=row>qd32</th><td>0.7899026</td></tr>\n",
              "\t<tr><th scope=row>qd25</th><td>0.7993285</td></tr>\n",
              "\t<tr><th scope=row>qd13</th><td>0.8061945</td></tr>\n",
              "\t<tr><th scope=row>qd2</th><td>0.8073601</td></tr>\n",
              "\t<tr><th scope=row>qd17</th><td>0.8074746</td></tr>\n",
              "\t<tr><th scope=row>qd29</th><td>0.8138968</td></tr>\n",
              "\t<tr><th scope=row>qd15</th><td>0.8246416</td></tr>\n",
              "\t<tr><th scope=row>qd7</th><td>0.8310772</td></tr>\n",
              "\t<tr><th scope=row>qd10</th><td>0.8338150</td></tr>\n",
              "\t<tr><th scope=row>qd20</th><td>0.8347447</td></tr>\n",
              "\t<tr><th scope=row>qd27</th><td>0.8391672</td></tr>\n",
              "\t<tr><th scope=row>qd6</th><td>0.8395028</td></tr>\n",
              "\t<tr><th scope=row>qd9</th><td>0.8407106</td></tr>\n",
              "\t<tr><th scope=row>qd22</th><td>0.8425041</td></tr>\n",
              "\t<tr><th scope=row>qd19</th><td>0.8436103</td></tr>\n",
              "\t<tr><th scope=row>qd1</th><td>0.8465772</td></tr>\n",
              "\t<tr><th scope=row>qd14</th><td>0.8509437</td></tr>\n",
              "\t<tr><th scope=row>qd24</th><td>0.8821740</td></tr>\n",
              "</tbody>\n",
              "</table>\n"
            ],
            "text/markdown": "\nA data.frame: 31 × 1\n\n| <!--/--> | sort.fa_paf_v2_7.communality. &lt;dbl&gt; |\n|---|---|\n| qd28 | 0.4767549 |\n| qd26 | 0.5139774 |\n| qd31 | 0.5372693 |\n| qd18 | 0.6261694 |\n| qd16 | 0.6385997 |\n| qd8 | 0.6847276 |\n| qd11 | 0.7117834 |\n| qd5 | 0.7187399 |\n| qd33 | 0.7504222 |\n| qd3 | 0.7633512 |\n| qd21 | 0.7708131 |\n| qd12 | 0.7710297 |\n| qd30 | 0.7755402 |\n| qd32 | 0.7899026 |\n| qd25 | 0.7993285 |\n| qd13 | 0.8061945 |\n| qd2 | 0.8073601 |\n| qd17 | 0.8074746 |\n| qd29 | 0.8138968 |\n| qd15 | 0.8246416 |\n| qd7 | 0.8310772 |\n| qd10 | 0.8338150 |\n| qd20 | 0.8347447 |\n| qd27 | 0.8391672 |\n| qd6 | 0.8395028 |\n| qd9 | 0.8407106 |\n| qd22 | 0.8425041 |\n| qd19 | 0.8436103 |\n| qd1 | 0.8465772 |\n| qd14 | 0.8509437 |\n| qd24 | 0.8821740 |\n\n",
            "text/latex": "A data.frame: 31 × 1\n\\begin{tabular}{r|l}\n  & sort.fa\\_paf\\_v2\\_7.communality.\\\\\n  & <dbl>\\\\\n\\hline\n\tqd28 & 0.4767549\\\\\n\tqd26 & 0.5139774\\\\\n\tqd31 & 0.5372693\\\\\n\tqd18 & 0.6261694\\\\\n\tqd16 & 0.6385997\\\\\n\tqd8 & 0.6847276\\\\\n\tqd11 & 0.7117834\\\\\n\tqd5 & 0.7187399\\\\\n\tqd33 & 0.7504222\\\\\n\tqd3 & 0.7633512\\\\\n\tqd21 & 0.7708131\\\\\n\tqd12 & 0.7710297\\\\\n\tqd30 & 0.7755402\\\\\n\tqd32 & 0.7899026\\\\\n\tqd25 & 0.7993285\\\\\n\tqd13 & 0.8061945\\\\\n\tqd2 & 0.8073601\\\\\n\tqd17 & 0.8074746\\\\\n\tqd29 & 0.8138968\\\\\n\tqd15 & 0.8246416\\\\\n\tqd7 & 0.8310772\\\\\n\tqd10 & 0.8338150\\\\\n\tqd20 & 0.8347447\\\\\n\tqd27 & 0.8391672\\\\\n\tqd6 & 0.8395028\\\\\n\tqd9 & 0.8407106\\\\\n\tqd22 & 0.8425041\\\\\n\tqd19 & 0.8436103\\\\\n\tqd1 & 0.8465772\\\\\n\tqd14 & 0.8509437\\\\\n\tqd24 & 0.8821740\\\\\n\\end{tabular}\n",
            "text/plain": [
              "     sort.fa_paf_v2_7.communality.\n",
              "qd28 0.4767549                    \n",
              "qd26 0.5139774                    \n",
              "qd31 0.5372693                    \n",
              "qd18 0.6261694                    \n",
              "qd16 0.6385997                    \n",
              "qd8  0.6847276                    \n",
              "qd11 0.7117834                    \n",
              "qd5  0.7187399                    \n",
              "qd33 0.7504222                    \n",
              "qd3  0.7633512                    \n",
              "qd21 0.7708131                    \n",
              "qd12 0.7710297                    \n",
              "qd30 0.7755402                    \n",
              "qd32 0.7899026                    \n",
              "qd25 0.7993285                    \n",
              "qd13 0.8061945                    \n",
              "qd2  0.8073601                    \n",
              "qd17 0.8074746                    \n",
              "qd29 0.8138968                    \n",
              "qd15 0.8246416                    \n",
              "qd7  0.8310772                    \n",
              "qd10 0.8338150                    \n",
              "qd20 0.8347447                    \n",
              "qd27 0.8391672                    \n",
              "qd6  0.8395028                    \n",
              "qd9  0.8407106                    \n",
              "qd22 0.8425041                    \n",
              "qd19 0.8436103                    \n",
              "qd1  0.8465772                    \n",
              "qd14 0.8509437                    \n",
              "qd24 0.8821740                    "
            ]
          },
          "metadata": {}
        }
      ]
    },
    {
      "cell_type": "code",
      "source": [
        "data.frame(sort(pca7$communality))"
      ],
      "metadata": {
        "colab": {
          "base_uri": "https://localhost:8080/"
        },
        "id": "7VSCjDROFzNq",
        "outputId": "e5661a0b-01d2-4ce6-9175-583b687763e0"
      },
      "execution_count": null,
      "outputs": [
        {
          "output_type": "display_data",
          "data": {
            "text/html": [
              "<table class=\"dataframe\">\n",
              "<caption>A data.frame: 31 × 1</caption>\n",
              "<thead>\n",
              "\t<tr><th></th><th scope=col>sort.pca7.communality.</th></tr>\n",
              "\t<tr><th></th><th scope=col>&lt;dbl&gt;</th></tr>\n",
              "</thead>\n",
              "<tbody>\n",
              "\t<tr><th scope=row>qd28</th><td>0.5909920</td></tr>\n",
              "\t<tr><th scope=row>qd26</th><td>0.6160470</td></tr>\n",
              "\t<tr><th scope=row>qd31</th><td>0.6645259</td></tr>\n",
              "\t<tr><th scope=row>qd16</th><td>0.7211168</td></tr>\n",
              "\t<tr><th scope=row>qd18</th><td>0.7391576</td></tr>\n",
              "\t<tr><th scope=row>qd8</th><td>0.7431304</td></tr>\n",
              "\t<tr><th scope=row>qd5</th><td>0.7698070</td></tr>\n",
              "\t<tr><th scope=row>qd32</th><td>0.8016243</td></tr>\n",
              "\t<tr><th scope=row>qd17</th><td>0.8049614</td></tr>\n",
              "\t<tr><th scope=row>qd11</th><td>0.8093099</td></tr>\n",
              "\t<tr><th scope=row>qd12</th><td>0.8093501</td></tr>\n",
              "\t<tr><th scope=row>qd30</th><td>0.8141030</td></tr>\n",
              "\t<tr><th scope=row>qd15</th><td>0.8147027</td></tr>\n",
              "\t<tr><th scope=row>qd21</th><td>0.8248431</td></tr>\n",
              "\t<tr><th scope=row>qd3</th><td>0.8316615</td></tr>\n",
              "\t<tr><th scope=row>qd2</th><td>0.8328718</td></tr>\n",
              "\t<tr><th scope=row>qd13</th><td>0.8400013</td></tr>\n",
              "\t<tr><th scope=row>qd7</th><td>0.8467283</td></tr>\n",
              "\t<tr><th scope=row>qd33</th><td>0.8474911</td></tr>\n",
              "\t<tr><th scope=row>qd25</th><td>0.8498472</td></tr>\n",
              "\t<tr><th scope=row>qd6</th><td>0.8579161</td></tr>\n",
              "\t<tr><th scope=row>qd29</th><td>0.8686740</td></tr>\n",
              "\t<tr><th scope=row>qd10</th><td>0.8699099</td></tr>\n",
              "\t<tr><th scope=row>qd9</th><td>0.8717125</td></tr>\n",
              "\t<tr><th scope=row>qd20</th><td>0.8731276</td></tr>\n",
              "\t<tr><th scope=row>qd19</th><td>0.8737176</td></tr>\n",
              "\t<tr><th scope=row>qd27</th><td>0.8770207</td></tr>\n",
              "\t<tr><th scope=row>qd1</th><td>0.8789164</td></tr>\n",
              "\t<tr><th scope=row>qd14</th><td>0.8804899</td></tr>\n",
              "\t<tr><th scope=row>qd22</th><td>0.8837597</td></tr>\n",
              "\t<tr><th scope=row>qd24</th><td>0.8973506</td></tr>\n",
              "</tbody>\n",
              "</table>\n"
            ],
            "text/markdown": "\nA data.frame: 31 × 1\n\n| <!--/--> | sort.pca7.communality. &lt;dbl&gt; |\n|---|---|\n| qd28 | 0.5909920 |\n| qd26 | 0.6160470 |\n| qd31 | 0.6645259 |\n| qd16 | 0.7211168 |\n| qd18 | 0.7391576 |\n| qd8 | 0.7431304 |\n| qd5 | 0.7698070 |\n| qd32 | 0.8016243 |\n| qd17 | 0.8049614 |\n| qd11 | 0.8093099 |\n| qd12 | 0.8093501 |\n| qd30 | 0.8141030 |\n| qd15 | 0.8147027 |\n| qd21 | 0.8248431 |\n| qd3 | 0.8316615 |\n| qd2 | 0.8328718 |\n| qd13 | 0.8400013 |\n| qd7 | 0.8467283 |\n| qd33 | 0.8474911 |\n| qd25 | 0.8498472 |\n| qd6 | 0.8579161 |\n| qd29 | 0.8686740 |\n| qd10 | 0.8699099 |\n| qd9 | 0.8717125 |\n| qd20 | 0.8731276 |\n| qd19 | 0.8737176 |\n| qd27 | 0.8770207 |\n| qd1 | 0.8789164 |\n| qd14 | 0.8804899 |\n| qd22 | 0.8837597 |\n| qd24 | 0.8973506 |\n\n",
            "text/latex": "A data.frame: 31 × 1\n\\begin{tabular}{r|l}\n  & sort.pca7.communality.\\\\\n  & <dbl>\\\\\n\\hline\n\tqd28 & 0.5909920\\\\\n\tqd26 & 0.6160470\\\\\n\tqd31 & 0.6645259\\\\\n\tqd16 & 0.7211168\\\\\n\tqd18 & 0.7391576\\\\\n\tqd8 & 0.7431304\\\\\n\tqd5 & 0.7698070\\\\\n\tqd32 & 0.8016243\\\\\n\tqd17 & 0.8049614\\\\\n\tqd11 & 0.8093099\\\\\n\tqd12 & 0.8093501\\\\\n\tqd30 & 0.8141030\\\\\n\tqd15 & 0.8147027\\\\\n\tqd21 & 0.8248431\\\\\n\tqd3 & 0.8316615\\\\\n\tqd2 & 0.8328718\\\\\n\tqd13 & 0.8400013\\\\\n\tqd7 & 0.8467283\\\\\n\tqd33 & 0.8474911\\\\\n\tqd25 & 0.8498472\\\\\n\tqd6 & 0.8579161\\\\\n\tqd29 & 0.8686740\\\\\n\tqd10 & 0.8699099\\\\\n\tqd9 & 0.8717125\\\\\n\tqd20 & 0.8731276\\\\\n\tqd19 & 0.8737176\\\\\n\tqd27 & 0.8770207\\\\\n\tqd1 & 0.8789164\\\\\n\tqd14 & 0.8804899\\\\\n\tqd22 & 0.8837597\\\\\n\tqd24 & 0.8973506\\\\\n\\end{tabular}\n",
            "text/plain": [
              "     sort.pca7.communality.\n",
              "qd28 0.5909920             \n",
              "qd26 0.6160470             \n",
              "qd31 0.6645259             \n",
              "qd16 0.7211168             \n",
              "qd18 0.7391576             \n",
              "qd8  0.7431304             \n",
              "qd5  0.7698070             \n",
              "qd32 0.8016243             \n",
              "qd17 0.8049614             \n",
              "qd11 0.8093099             \n",
              "qd12 0.8093501             \n",
              "qd30 0.8141030             \n",
              "qd15 0.8147027             \n",
              "qd21 0.8248431             \n",
              "qd3  0.8316615             \n",
              "qd2  0.8328718             \n",
              "qd13 0.8400013             \n",
              "qd7  0.8467283             \n",
              "qd33 0.8474911             \n",
              "qd25 0.8498472             \n",
              "qd6  0.8579161             \n",
              "qd29 0.8686740             \n",
              "qd10 0.8699099             \n",
              "qd9  0.8717125             \n",
              "qd20 0.8731276             \n",
              "qd19 0.8737176             \n",
              "qd27 0.8770207             \n",
              "qd1  0.8789164             \n",
              "qd14 0.8804899             \n",
              "qd22 0.8837597             \n",
              "qd24 0.8973506             "
            ]
          },
          "metadata": {}
        }
      ]
    },
    {
      "cell_type": "markdown",
      "source": [
        "There seems to be some noteworthy differences in how each method accounted for the variance across survey items.\n",
        "\n",
        "In the PAF model, the communalities ranged from 0.476 for qd28, the lowest, to 0.882 for qd24, the highest. On the other hand, PCA communalities were slightly higher in general, reflecting PCA's total variance approach. For example, qd24 again showed the highest communality at approximately 0.897, and even the item with the lowest communality, qd28, experienced a slight increase to 0.591.\n",
        "\n",
        "These increased communalities in the PCA model implies its characteristic of accounting for all the variance, including both shared and unique aspects of the items.The more conservative communalities in PAF reflect its focus on shared variance and its potential to provide a factor solution that aligns more closely with the latent constructs of our literature review.\n"
      ],
      "metadata": {
        "id": "oFUaPzemHZyz"
      }
    },
    {
      "cell_type": "code",
      "source": [
        "fa_paf_v2_7$e.values"
      ],
      "metadata": {
        "colab": {
          "base_uri": "https://localhost:8080/"
        },
        "id": "REAjFY_FGeSz",
        "outputId": "a147c645-f22d-45a8-ce5e-528d2795c00c"
      },
      "execution_count": null,
      "outputs": [
        {
          "output_type": "display_data",
          "data": {
            "text/html": [
              "<style>\n",
              ".list-inline {list-style: none; margin:0; padding: 0}\n",
              ".list-inline>li {display: inline-block}\n",
              ".list-inline>li:not(:last-child)::after {content: \"\\00b7\"; padding: 0 .5ex}\n",
              "</style>\n",
              "<ol class=list-inline><li>15.859868025803</li><li>2.32177623781651</li><li>2.02583305223405</li><li>1.47816309547986</li><li>1.37127075100781</li><li>1.13438457908165</li><li>1.01357134910454</li><li>0.868948312694392</li><li>0.417651591302939</li><li>0.361814937817053</li><li>0.351106890209977</li><li>0.298416394743136</li><li>0.289789308873158</li><li>0.277354849049413</li><li>0.257465054357423</li><li>0.237193276619949</li><li>0.228367466586663</li><li>0.215957346553619</li><li>0.202099346859232</li><li>0.193186590399722</li><li>0.181155103695954</li><li>0.169232297783123</li><li>0.164148421323007</li><li>0.155683999438899</li><li>0.152261884741911</li><li>0.14696431910429</li><li>0.138987815676919</li><li>0.134837572148499</li><li>0.129121455430959</li><li>0.115819148409472</li><li>0.107569525652887</li></ol>\n"
            ],
            "text/markdown": "1. 15.859868025803\n2. 2.32177623781651\n3. 2.02583305223405\n4. 1.47816309547986\n5. 1.37127075100781\n6. 1.13438457908165\n7. 1.01357134910454\n8. 0.868948312694392\n9. 0.417651591302939\n10. 0.361814937817053\n11. 0.351106890209977\n12. 0.298416394743136\n13. 0.289789308873158\n14. 0.277354849049413\n15. 0.257465054357423\n16. 0.237193276619949\n17. 0.228367466586663\n18. 0.215957346553619\n19. 0.202099346859232\n20. 0.193186590399722\n21. 0.181155103695954\n22. 0.169232297783123\n23. 0.164148421323007\n24. 0.155683999438899\n25. 0.152261884741911\n26. 0.14696431910429\n27. 0.138987815676919\n28. 0.134837572148499\n29. 0.129121455430959\n30. 0.115819148409472\n31. 0.107569525652887\n\n\n",
            "text/latex": "\\begin{enumerate*}\n\\item 15.859868025803\n\\item 2.32177623781651\n\\item 2.02583305223405\n\\item 1.47816309547986\n\\item 1.37127075100781\n\\item 1.13438457908165\n\\item 1.01357134910454\n\\item 0.868948312694392\n\\item 0.417651591302939\n\\item 0.361814937817053\n\\item 0.351106890209977\n\\item 0.298416394743136\n\\item 0.289789308873158\n\\item 0.277354849049413\n\\item 0.257465054357423\n\\item 0.237193276619949\n\\item 0.228367466586663\n\\item 0.215957346553619\n\\item 0.202099346859232\n\\item 0.193186590399722\n\\item 0.181155103695954\n\\item 0.169232297783123\n\\item 0.164148421323007\n\\item 0.155683999438899\n\\item 0.152261884741911\n\\item 0.14696431910429\n\\item 0.138987815676919\n\\item 0.134837572148499\n\\item 0.129121455430959\n\\item 0.115819148409472\n\\item 0.107569525652887\n\\end{enumerate*}\n",
            "text/plain": [
              " [1] 15.8598680  2.3217762  2.0258331  1.4781631  1.3712708  1.1343846\n",
              " [7]  1.0135713  0.8689483  0.4176516  0.3618149  0.3511069  0.2984164\n",
              "[13]  0.2897893  0.2773548  0.2574651  0.2371933  0.2283675  0.2159573\n",
              "[19]  0.2020993  0.1931866  0.1811551  0.1692323  0.1641484  0.1556840\n",
              "[25]  0.1522619  0.1469643  0.1389878  0.1348376  0.1291215  0.1158191\n",
              "[31]  0.1075695"
            ]
          },
          "metadata": {}
        }
      ]
    },
    {
      "cell_type": "code",
      "source": [
        "pca7$values"
      ],
      "metadata": {
        "colab": {
          "base_uri": "https://localhost:8080/"
        },
        "id": "Ww6jxqiEGeXG",
        "outputId": "2f5c3e9f-5a4d-4dfc-fb31-aaa3336ba102"
      },
      "execution_count": null,
      "outputs": [
        {
          "output_type": "display_data",
          "data": {
            "text/html": [
              "<style>\n",
              ".list-inline {list-style: none; margin:0; padding: 0}\n",
              ".list-inline>li {display: inline-block}\n",
              ".list-inline>li:not(:last-child)::after {content: \"\\00b7\"; padding: 0 .5ex}\n",
              "</style>\n",
              "<ol class=list-inline><li>15.859868025803</li><li>2.32177623781651</li><li>2.02583305223405</li><li>1.47816309547986</li><li>1.37127075100781</li><li>1.13438457908165</li><li>1.01357134910454</li><li>0.868948312694392</li><li>0.417651591302939</li><li>0.361814937817053</li><li>0.351106890209977</li><li>0.298416394743136</li><li>0.289789308873158</li><li>0.277354849049413</li><li>0.257465054357423</li><li>0.237193276619949</li><li>0.228367466586663</li><li>0.215957346553619</li><li>0.202099346859232</li><li>0.193186590399722</li><li>0.181155103695954</li><li>0.169232297783123</li><li>0.164148421323007</li><li>0.155683999438899</li><li>0.152261884741911</li><li>0.14696431910429</li><li>0.138987815676919</li><li>0.134837572148499</li><li>0.129121455430959</li><li>0.115819148409472</li><li>0.107569525652887</li></ol>\n"
            ],
            "text/markdown": "1. 15.859868025803\n2. 2.32177623781651\n3. 2.02583305223405\n4. 1.47816309547986\n5. 1.37127075100781\n6. 1.13438457908165\n7. 1.01357134910454\n8. 0.868948312694392\n9. 0.417651591302939\n10. 0.361814937817053\n11. 0.351106890209977\n12. 0.298416394743136\n13. 0.289789308873158\n14. 0.277354849049413\n15. 0.257465054357423\n16. 0.237193276619949\n17. 0.228367466586663\n18. 0.215957346553619\n19. 0.202099346859232\n20. 0.193186590399722\n21. 0.181155103695954\n22. 0.169232297783123\n23. 0.164148421323007\n24. 0.155683999438899\n25. 0.152261884741911\n26. 0.14696431910429\n27. 0.138987815676919\n28. 0.134837572148499\n29. 0.129121455430959\n30. 0.115819148409472\n31. 0.107569525652887\n\n\n",
            "text/latex": "\\begin{enumerate*}\n\\item 15.859868025803\n\\item 2.32177623781651\n\\item 2.02583305223405\n\\item 1.47816309547986\n\\item 1.37127075100781\n\\item 1.13438457908165\n\\item 1.01357134910454\n\\item 0.868948312694392\n\\item 0.417651591302939\n\\item 0.361814937817053\n\\item 0.351106890209977\n\\item 0.298416394743136\n\\item 0.289789308873158\n\\item 0.277354849049413\n\\item 0.257465054357423\n\\item 0.237193276619949\n\\item 0.228367466586663\n\\item 0.215957346553619\n\\item 0.202099346859232\n\\item 0.193186590399722\n\\item 0.181155103695954\n\\item 0.169232297783123\n\\item 0.164148421323007\n\\item 0.155683999438899\n\\item 0.152261884741911\n\\item 0.14696431910429\n\\item 0.138987815676919\n\\item 0.134837572148499\n\\item 0.129121455430959\n\\item 0.115819148409472\n\\item 0.107569525652887\n\\end{enumerate*}\n",
            "text/plain": [
              " [1] 15.8598680  2.3217762  2.0258331  1.4781631  1.3712708  1.1343846\n",
              " [7]  1.0135713  0.8689483  0.4176516  0.3618149  0.3511069  0.2984164\n",
              "[13]  0.2897893  0.2773548  0.2574651  0.2371933  0.2283675  0.2159573\n",
              "[19]  0.2020993  0.1931866  0.1811551  0.1692323  0.1641484  0.1556840\n",
              "[25]  0.1522619  0.1469643  0.1389878  0.1348376  0.1291215  0.1158191\n",
              "[31]  0.1075695"
            ]
          },
          "metadata": {}
        }
      ]
    },
    {
      "cell_type": "markdown",
      "source": [
        "The eigenvalues obtained from our factor analyses provide important insights into the quality dimensions that affects the repurchase behavior of customers.\n",
        "\n",
        "Factors with higher eigenvalues represent the areas where targeted improvements could significantly influence customer retention and loyalty. These eigenvalues guide our focus to prioritize certain aspects of product quality that are likely to drive repurchase decisions, ensuring that managerial efforts and resources are effectively aligned with consumer priorities."
      ],
      "metadata": {
        "id": "Uhj5PFVeIp85"
      }
    },
    {
      "cell_type": "markdown",
      "source": [
        "Considering the factor labels we've put in the previous section, we can list the factors from the highest to lowest eigenvalue scores.\n",
        "\n",
        "Servicability seems to have the biggest relevance on the repurchase intentions while Reliability shows lower eigenvalue, therefore the lowest impact on the variance overall.\n",
        "\n",
        "* Factor 2: Servicability\n",
        "* Factor 1: Performance\n",
        "* Factor 6: Durability\n",
        "* Factor 5: Appearance\n",
        "* Factor 4: Ease of Use\n",
        "* Factor 7: Features/Versatility\n",
        "* Factor 3: Reliability\n"
      ],
      "metadata": {
        "id": "q7vdF_NlHgym"
      }
    },
    {
      "cell_type": "markdown",
      "source": [
        "# Q2: Oblique Factor Analysis"
      ],
      "metadata": {
        "id": "mDe76FIcmTD_"
      }
    },
    {
      "cell_type": "markdown",
      "source": [
        "## Q2-1. FA using Promax"
      ],
      "metadata": {
        "id": "At_OlNgMlZfN"
      }
    },
    {
      "cell_type": "markdown",
      "source": [
        "In the second part of our study, we're conducting an oblique factor analysis with Promax rotation to account for potential correlations between factors, which more realistically reflects the complexity of human behavior and perceptions in the quality dimensions.\n",
        "\n",
        "The Promax rotation will allow us to explore not just the distinct dimensions of smartphone quality but also how these dimensions may interrelate."
      ],
      "metadata": {
        "id": "1OhvGTn8J-dt"
      }
    },
    {
      "cell_type": "code",
      "source": [
        "fa_paf_oblique7 <- fa(data_v2, nfactors = 7, rotate = \"promax\")"
      ],
      "metadata": {
        "id": "OOGYwv554nne"
      },
      "execution_count": null,
      "outputs": []
    },
    {
      "cell_type": "code",
      "source": [
        "print(fa_paf_v2_7$loadings, cutoff=0.3,sort=TRUE) # varimax"
      ],
      "metadata": {
        "colab": {
          "base_uri": "https://localhost:8080/"
        },
        "id": "pGNisgOjLiAO",
        "outputId": "1e3e1ee4-5e93-473e-9b72-0d519f8786fc"
      },
      "execution_count": null,
      "outputs": [
        {
          "output_type": "stream",
          "name": "stdout",
          "text": [
            "\n",
            "Loadings:\n",
            "     MR2   MR1   MR5   MR6   MR3   MR4   MR7  \n",
            "qd9  0.826                                    \n",
            "qd14 0.849                                    \n",
            "qd19 0.830                                    \n",
            "qd21 0.784                                    \n",
            "qd24 0.859                                    \n",
            "qd2        0.731                              \n",
            "qd5        0.643                              \n",
            "qd7        0.737                              \n",
            "qd12       0.701                              \n",
            "qd16       0.617                              \n",
            "qd1              0.792                        \n",
            "qd10             0.750                        \n",
            "qd20             0.770                        \n",
            "qd27             0.749                        \n",
            "qd15                   0.776                  \n",
            "qd17                   0.748                  \n",
            "qd31                   0.511 0.370            \n",
            "qd32                   0.722                  \n",
            "qd22                         0.843            \n",
            "qd29                         0.818            \n",
            "qd33                         0.788            \n",
            "qd3                                0.758      \n",
            "qd11                               0.745      \n",
            "qd13                               0.738      \n",
            "qd30                               0.675      \n",
            "qd6                                      0.742\n",
            "qd8        0.346                         0.556\n",
            "qd18                                     0.601\n",
            "qd25                                     0.761\n",
            "qd26                   0.427 0.400            \n",
            "qd28       0.318       0.409 0.346            \n",
            "\n",
            "                 MR2   MR1   MR5   MR6   MR3   MR4   MR7\n",
            "SS loadings    4.537 3.653 3.393 3.194 3.127 3.091 2.678\n",
            "Proportion Var 0.146 0.118 0.109 0.103 0.101 0.100 0.086\n",
            "Cumulative Var 0.146 0.264 0.374 0.477 0.578 0.677 0.764\n"
          ]
        }
      ]
    },
    {
      "cell_type": "code",
      "source": [
        "print(fa_paf_oblique7$loadings, cutoff=0.3,sort=TRUE) # promax"
      ],
      "metadata": {
        "colab": {
          "base_uri": "https://localhost:8080/"
        },
        "id": "P1minE6l7qbH",
        "outputId": "1be8ef06-f008-4c2b-c534-4a0d8c683b8e"
      },
      "execution_count": null,
      "outputs": [
        {
          "output_type": "stream",
          "name": "stdout",
          "text": [
            "\n",
            "Loadings:\n",
            "     MR2    MR1    MR6    MR5    MR4    MR3    MR7   \n",
            "qd9   0.905                                          \n",
            "qd14  0.945                                          \n",
            "qd19  0.913                                          \n",
            "qd21  0.852                                          \n",
            "qd24  0.952                                          \n",
            "qd2          0.968                                   \n",
            "qd5          0.789                                   \n",
            "qd7          0.968                                   \n",
            "qd12         0.910                                   \n",
            "qd16         0.775                                   \n",
            "qd15                1.017                            \n",
            "qd17                0.968                            \n",
            "qd31                0.553                            \n",
            "qd32                0.924                            \n",
            "qd1                        0.928                     \n",
            "qd10                       0.843                     \n",
            "qd20                       0.887                     \n",
            "qd27                       0.853                     \n",
            "qd3                               0.908              \n",
            "qd11                              0.899              \n",
            "qd13                              0.848              \n",
            "qd30                              0.739              \n",
            "qd22                                     0.998       \n",
            "qd29                                     0.947       \n",
            "qd33                                     0.922       \n",
            "qd6                                             0.892\n",
            "qd8                                             0.586\n",
            "qd18                                            0.683\n",
            "qd25                                            0.952\n",
            "qd26                0.399                            \n",
            "qd28                0.385                            \n",
            "\n",
            "                 MR2   MR1   MR6   MR5   MR4   MR3   MR7\n",
            "SS loadings    4.183 4.111 3.474 3.134 2.919 2.964 2.562\n",
            "Proportion Var 0.135 0.133 0.112 0.101 0.094 0.096 0.083\n",
            "Cumulative Var 0.135 0.268 0.380 0.481 0.575 0.670 0.753\n"
          ]
        }
      ]
    },
    {
      "cell_type": "markdown",
      "source": [
        "The Varimax rotation provides us a simplified, orthogonal structure, where each quality dimension is distinct and uncorrelated with others. This clarity is beneficial for understanding the independent contributions of each dimension to consumer perceptions of quality. It also yielded highest correlation as question24-factor2 with a score 0.859."
      ],
      "metadata": {
        "id": "kQ5k_C1QPHTC"
      }
    },
    {
      "cell_type": "markdown",
      "source": [
        "However, the Promax rotation presents a more interconnected factor structure, highlighting potential relationships between different dimensions of smartphone quality. This method has led to a factor solution where items show stronger loadings within specific factors and weaker loadings on others, enhancing the clarity of each factor's interpretation."
      ],
      "metadata": {
        "id": "9Uo68nKIfJrU"
      }
    },
    {
      "cell_type": "markdown",
      "source": [
        "Now let's see if there has been a change in the factor scores and corresponding questions."
      ],
      "metadata": {
        "id": "IkZrkpp-P2-0"
      }
    },
    {
      "cell_type": "code",
      "source": [
        "oblique_loadings <- tibble(name = rownames(fa_paf_oblique7$loadings), as.data.frame(fa_paf_oblique7$loadings[,c(1:7)]))"
      ],
      "metadata": {
        "id": "S8qsdfPIJtYf"
      },
      "execution_count": null,
      "outputs": []
    },
    {
      "cell_type": "code",
      "source": [
        "for (i in 1:7) {\n",
        "  factor_name <- paste0(\"MR\", i)\n",
        "  # gets the question with the top scores for each factor\n",
        "  top_loadings <- get_top_loadings(oblique_loadings, factor_name, 0.3)\n",
        "  # matching the question name from the variables df\n",
        "  top_labels <- variables %>% filter(name %in% top_loadings) %>% select(name, Label)\n",
        "\n",
        "  cat(paste0(\"Factor \", i, \"\\n\"))\n",
        "\n",
        "  for (j in 1:nrow(top_labels)) {\n",
        "    cat(paste0(top_labels$name[j], \": \", top_labels$Label[j], \"\\n\"))\n",
        "  }\n",
        "  cat(\"\\n\")\n",
        "}\n"
      ],
      "metadata": {
        "colab": {
          "base_uri": "https://localhost:8080/"
        },
        "id": "3K5acK9sJiti",
        "outputId": "4d9ea666-096d-4355-b00f-1fc3bbd6ba4b"
      },
      "execution_count": null,
      "outputs": [
        {
          "output_type": "stream",
          "name": "stdout",
          "text": [
            "Factor 1\n",
            "qd2: my smartphone  consistently performs\n",
            "qd5: The performance of my smartphone  is excellent\n",
            "qd7: the overall performance of my smartphone  is\n",
            "qd12: how well does your smartphone  performs its core functions\n",
            "qd16: the functioning speed of my smartphone (i.e. time taken to turn ON/OFF, open apps, multi-task etc) is\n",
            "\n",
            "Factor 2\n",
            "qd9: the competence of my smartphone's customer service staff is\n",
            "qd14: the promptness with which my smartphone's customer service reacts to my issues is\n",
            "qd19: the level of professionalism shown by the service staff is\n",
            "qd21: the accessibility of my smartphone's customer service is\n",
            "qd24: the responsiveness of my smartphone's customer service staff is\n",
            "\n",
            "Factor 3\n",
            "qd22: the severity of defects/glitches of my smartphone  is\n",
            "qd29: the frequency of defects/glitches of my smartphone  is\n",
            "qd33: my smartphone's probability of failure or malfunctioning is\n",
            "\n",
            "Factor 4\n",
            "qd3: my user experience with the various functions my smartphone  offers is/was\n",
            "qd11: my experience to learn  how to properly operate my smartphone  with all its functionalities is/was\n",
            "qd13: my smartphone's ease of use is\n",
            "qd30: the usability of my smartphone is\n",
            "\n",
            "Factor 5\n",
            "qd1: the overall attractiveness of my smartphone  is\n",
            "qd10: the appeal of my smartphone's design is\n",
            "qd20: the look- and feel of my smartphone  is\n",
            "qd27: the overall fit and finish of my smartphone  is\n",
            "\n",
            "Factor 6\n",
            "qd15: the endurance of the materials used in my smartphone  is\n",
            "qd17: the robustness of the materials used in my smartphone  is\n",
            "qd26: the time span for which my smartphone  runs without any major defects is\n",
            "qd28: the amount of time for which my smartphone  works perfectly even under heavy usage (ex. everyday usage) is\n",
            "qd31: the life span of my smartphone  is\n",
            "qd32: the standard of materials used in my smart phone is\n",
            "\n",
            "Factor 7\n",
            "qd6: the innovativeness of the extra features offered by my smartphone  is\n",
            "qd8: the extra features offered in my smartphone  usually function\n",
            "qd18: the excitement I get from my smartphone's extra features is\n",
            "qd25: the number of additional features my smartphone  offers is\n",
            "\n"
          ]
        }
      ]
    },
    {
      "cell_type": "markdown",
      "source": [
        "* Factor 1: Performance\n",
        "* Factor 2: Servicability\n",
        "* Factor 3: Reliability\n",
        "* Factor 4: Ease of Use\n",
        "* Factor 5: Appearance\n",
        "* Factor 6: Durability\n",
        "* Factor 7: Features/Versatility"
      ],
      "metadata": {
        "id": "6QDlMaDCK6KR"
      }
    },
    {
      "cell_type": "markdown",
      "source": [
        "With the oblique factor analysis, we obtain the same set of factor-question matches. This is a good sign with respect to the reliability of our factor labels. Now we can utilise these in our next step when applying the regression analysis on the purchase behaviours."
      ],
      "metadata": {
        "id": "Qubl5AjmP92x"
      }
    },
    {
      "cell_type": "markdown",
      "source": [
        "## Q2-2. Regression Analysis"
      ],
      "metadata": {
        "id": "KymTbXdplyF8"
      }
    },
    {
      "cell_type": "markdown",
      "source": [
        "Now we can finalize our study by taking a closer look at how these factors affect the willingness to pay premium and repurchase intentions of the customers. To do this, we'll first compute the means of these two types of dependent variables, then run a regression analysis as setting the factors independent variables."
      ],
      "metadata": {
        "id": "FzjZ4HWnLxAB"
      }
    },
    {
      "cell_type": "code",
      "source": [
        "new_factors = cbind(cleaned_data,fa_paf_oblique7$scores)"
      ],
      "metadata": {
        "id": "INFvk_XdmDBE"
      },
      "execution_count": null,
      "outputs": []
    },
    {
      "cell_type": "code",
      "source": [
        "head(new_factors)"
      ],
      "metadata": {
        "colab": {
          "base_uri": "https://localhost:8080/"
        },
        "id": "tT9qIg-OmfDL",
        "outputId": "a18e26b1-9bde-48e7-a102-fa02feaaa650"
      },
      "execution_count": null,
      "outputs": [
        {
          "output_type": "display_data",
          "data": {
            "text/html": [
              "<table class=\"dataframe\">\n",
              "<caption>A data.frame: 6 × 46</caption>\n",
              "<thead>\n",
              "\t<tr><th></th><th scope=col>qd1</th><th scope=col>qd2</th><th scope=col>qd3</th><th scope=col>qd4</th><th scope=col>qd5</th><th scope=col>qd6</th><th scope=col>qd7</th><th scope=col>qd8</th><th scope=col>qd9</th><th scope=col>qd10</th><th scope=col>⋯</th><th scope=col>ri1</th><th scope=col>ri2</th><th scope=col>brandrec</th><th scope=col>MR2</th><th scope=col>MR1</th><th scope=col>MR6</th><th scope=col>MR5</th><th scope=col>MR4</th><th scope=col>MR3</th><th scope=col>MR7</th></tr>\n",
              "\t<tr><th></th><th scope=col>&lt;int&gt;</th><th scope=col>&lt;int&gt;</th><th scope=col>&lt;int&gt;</th><th scope=col>&lt;int&gt;</th><th scope=col>&lt;int&gt;</th><th scope=col>&lt;int&gt;</th><th scope=col>&lt;int&gt;</th><th scope=col>&lt;int&gt;</th><th scope=col>&lt;int&gt;</th><th scope=col>&lt;int&gt;</th><th scope=col>⋯</th><th scope=col>&lt;int&gt;</th><th scope=col>&lt;int&gt;</th><th scope=col>&lt;int&gt;</th><th scope=col>&lt;dbl&gt;</th><th scope=col>&lt;dbl&gt;</th><th scope=col>&lt;dbl&gt;</th><th scope=col>&lt;dbl&gt;</th><th scope=col>&lt;dbl&gt;</th><th scope=col>&lt;dbl&gt;</th><th scope=col>&lt;dbl&gt;</th></tr>\n",
              "</thead>\n",
              "<tbody>\n",
              "\t<tr><th scope=row>1</th><td>3</td><td>4</td><td>3</td><td>3</td><td>4</td><td>3</td><td>4</td><td>3</td><td>3</td><td>3</td><td>⋯</td><td>6</td><td>6</td><td>1</td><td>-1.0941742</td><td>-0.5306889</td><td>-0.9379060</td><td>-1.44385876</td><td>-0.7108221</td><td>-0.93624988</td><td>-0.9420071</td></tr>\n",
              "\t<tr><th scope=row>2</th><td>4</td><td>4</td><td>3</td><td>6</td><td>4</td><td>4</td><td>4</td><td>4</td><td>4</td><td>4</td><td>⋯</td><td>5</td><td>6</td><td>1</td><td> 0.1374939</td><td>-0.2736116</td><td>-0.2242924</td><td>-0.05952707</td><td>-0.6176903</td><td>-1.07558161</td><td> 0.3013796</td></tr>\n",
              "\t<tr><th scope=row>3</th><td>3</td><td>4</td><td>3</td><td>2</td><td>3</td><td>3</td><td>3</td><td>4</td><td>3</td><td>3</td><td>⋯</td><td>5</td><td>6</td><td>1</td><td>-1.0895373</td><td>-0.4794870</td><td>-0.8109104</td><td>-1.46037176</td><td>-0.8386183</td><td>-0.11925066</td><td>-0.8545741</td></tr>\n",
              "\t<tr><th scope=row>4</th><td>5</td><td>5</td><td>4</td><td>3</td><td>5</td><td>5</td><td>5</td><td>5</td><td>4</td><td>5</td><td>⋯</td><td>2</td><td>6</td><td>1</td><td> 0.3396872</td><td> 1.1089764</td><td> 0.9777270</td><td> 1.19564824</td><td> 0.9697116</td><td> 1.17458702</td><td> 1.3351464</td></tr>\n",
              "\t<tr><th scope=row>5</th><td>4</td><td>4</td><td>5</td><td>2</td><td>3</td><td>3</td><td>4</td><td>4</td><td>3</td><td>4</td><td>⋯</td><td>6</td><td>5</td><td>1</td><td>-1.0604357</td><td>-0.4374581</td><td> 0.1350061</td><td>-0.17170066</td><td> 0.5020496</td><td> 0.05055378</td><td>-0.9501139</td></tr>\n",
              "\t<tr><th scope=row>6</th><td>3</td><td>4</td><td>3</td><td>5</td><td>3</td><td>3</td><td>4</td><td>3</td><td>3</td><td>3</td><td>⋯</td><td>5</td><td>5</td><td>1</td><td>-1.0973887</td><td>-0.4951410</td><td>-0.6854162</td><td>-1.46526166</td><td>-1.3704502</td><td>-0.09862571</td><td>-0.9268087</td></tr>\n",
              "</tbody>\n",
              "</table>\n"
            ],
            "text/markdown": "\nA data.frame: 6 × 46\n\n| <!--/--> | qd1 &lt;int&gt; | qd2 &lt;int&gt; | qd3 &lt;int&gt; | qd4 &lt;int&gt; | qd5 &lt;int&gt; | qd6 &lt;int&gt; | qd7 &lt;int&gt; | qd8 &lt;int&gt; | qd9 &lt;int&gt; | qd10 &lt;int&gt; | ⋯ ⋯ | ri1 &lt;int&gt; | ri2 &lt;int&gt; | brandrec &lt;int&gt; | MR2 &lt;dbl&gt; | MR1 &lt;dbl&gt; | MR6 &lt;dbl&gt; | MR5 &lt;dbl&gt; | MR4 &lt;dbl&gt; | MR3 &lt;dbl&gt; | MR7 &lt;dbl&gt; |\n|---|---|---|---|---|---|---|---|---|---|---|---|---|---|---|---|---|---|---|---|---|---|\n| 1 | 3 | 4 | 3 | 3 | 4 | 3 | 4 | 3 | 3 | 3 | ⋯ | 6 | 6 | 1 | -1.0941742 | -0.5306889 | -0.9379060 | -1.44385876 | -0.7108221 | -0.93624988 | -0.9420071 |\n| 2 | 4 | 4 | 3 | 6 | 4 | 4 | 4 | 4 | 4 | 4 | ⋯ | 5 | 6 | 1 |  0.1374939 | -0.2736116 | -0.2242924 | -0.05952707 | -0.6176903 | -1.07558161 |  0.3013796 |\n| 3 | 3 | 4 | 3 | 2 | 3 | 3 | 3 | 4 | 3 | 3 | ⋯ | 5 | 6 | 1 | -1.0895373 | -0.4794870 | -0.8109104 | -1.46037176 | -0.8386183 | -0.11925066 | -0.8545741 |\n| 4 | 5 | 5 | 4 | 3 | 5 | 5 | 5 | 5 | 4 | 5 | ⋯ | 2 | 6 | 1 |  0.3396872 |  1.1089764 |  0.9777270 |  1.19564824 |  0.9697116 |  1.17458702 |  1.3351464 |\n| 5 | 4 | 4 | 5 | 2 | 3 | 3 | 4 | 4 | 3 | 4 | ⋯ | 6 | 5 | 1 | -1.0604357 | -0.4374581 |  0.1350061 | -0.17170066 |  0.5020496 |  0.05055378 | -0.9501139 |\n| 6 | 3 | 4 | 3 | 5 | 3 | 3 | 4 | 3 | 3 | 3 | ⋯ | 5 | 5 | 1 | -1.0973887 | -0.4951410 | -0.6854162 | -1.46526166 | -1.3704502 | -0.09862571 | -0.9268087 |\n\n",
            "text/latex": "A data.frame: 6 × 46\n\\begin{tabular}{r|lllllllllllllllllllll}\n  & qd1 & qd2 & qd3 & qd4 & qd5 & qd6 & qd7 & qd8 & qd9 & qd10 & ⋯ & ri1 & ri2 & brandrec & MR2 & MR1 & MR6 & MR5 & MR4 & MR3 & MR7\\\\\n  & <int> & <int> & <int> & <int> & <int> & <int> & <int> & <int> & <int> & <int> & ⋯ & <int> & <int> & <int> & <dbl> & <dbl> & <dbl> & <dbl> & <dbl> & <dbl> & <dbl>\\\\\n\\hline\n\t1 & 3 & 4 & 3 & 3 & 4 & 3 & 4 & 3 & 3 & 3 & ⋯ & 6 & 6 & 1 & -1.0941742 & -0.5306889 & -0.9379060 & -1.44385876 & -0.7108221 & -0.93624988 & -0.9420071\\\\\n\t2 & 4 & 4 & 3 & 6 & 4 & 4 & 4 & 4 & 4 & 4 & ⋯ & 5 & 6 & 1 &  0.1374939 & -0.2736116 & -0.2242924 & -0.05952707 & -0.6176903 & -1.07558161 &  0.3013796\\\\\n\t3 & 3 & 4 & 3 & 2 & 3 & 3 & 3 & 4 & 3 & 3 & ⋯ & 5 & 6 & 1 & -1.0895373 & -0.4794870 & -0.8109104 & -1.46037176 & -0.8386183 & -0.11925066 & -0.8545741\\\\\n\t4 & 5 & 5 & 4 & 3 & 5 & 5 & 5 & 5 & 4 & 5 & ⋯ & 2 & 6 & 1 &  0.3396872 &  1.1089764 &  0.9777270 &  1.19564824 &  0.9697116 &  1.17458702 &  1.3351464\\\\\n\t5 & 4 & 4 & 5 & 2 & 3 & 3 & 4 & 4 & 3 & 4 & ⋯ & 6 & 5 & 1 & -1.0604357 & -0.4374581 &  0.1350061 & -0.17170066 &  0.5020496 &  0.05055378 & -0.9501139\\\\\n\t6 & 3 & 4 & 3 & 5 & 3 & 3 & 4 & 3 & 3 & 3 & ⋯ & 5 & 5 & 1 & -1.0973887 & -0.4951410 & -0.6854162 & -1.46526166 & -1.3704502 & -0.09862571 & -0.9268087\\\\\n\\end{tabular}\n",
            "text/plain": [
              "  qd1 qd2 qd3 qd4 qd5 qd6 qd7 qd8 qd9 qd10 <U+22EF>   ri1 ri2 brandrec MR2       \n",
              "1 3   4   3   3   4   3   4   3   3   3    <U+22EF> 6   6   1        -1.0941742\n",
              "2 4   4   3   6   4   4   4   4   4   4    <U+22EF> 5   6   1         0.1374939\n",
              "3 3   4   3   2   3   3   3   4   3   3    <U+22EF> 5   6   1        -1.0895373\n",
              "4 5   5   4   3   5   5   5   5   4   5    <U+22EF> 2   6   1         0.3396872\n",
              "5 4   4   5   2   3   3   4   4   3   4    <U+22EF> 6   5   1        -1.0604357\n",
              "6 3   4   3   5   3   3   4   3   3   3    <U+22EF> 5   5   1        -1.0973887\n",
              "  MR1        MR6        MR5         MR4        MR3         MR7       \n",
              "1 -0.5306889 -0.9379060 -1.44385876 -0.7108221 -0.93624988 -0.9420071\n",
              "2 -0.2736116 -0.2242924 -0.05952707 -0.6176903 -1.07558161  0.3013796\n",
              "3 -0.4794870 -0.8109104 -1.46037176 -0.8386183 -0.11925066 -0.8545741\n",
              "4  1.1089764  0.9777270  1.19564824  0.9697116  1.17458702  1.3351464\n",
              "5 -0.4374581  0.1350061 -0.17170066  0.5020496  0.05055378 -0.9501139\n",
              "6 -0.4951410 -0.6854162 -1.46526166 -1.3704502 -0.09862571 -0.9268087"
            ]
          },
          "metadata": {}
        }
      ]
    },
    {
      "cell_type": "markdown",
      "source": [
        "Now we'll rename these factors according to the labels we've set in the previous section."
      ],
      "metadata": {
        "id": "OmSuGpNLMKL8"
      }
    },
    {
      "cell_type": "markdown",
      "source": [
        "* Factor 1: Performance\n",
        "* Factor 2: Serviceability\n",
        "* Factor 3: Reliability/Flawlessness\n",
        "* Factor 4: Ease of Use\n",
        "* Factor 5: Aesthetics/Appearance\n",
        "* Factor 6: Conformance\n",
        "* Factor 7: Features/Versatility\n",
        "* Factor 8: Durability"
      ],
      "metadata": {
        "id": "jbGFF7r3mub3"
      }
    },
    {
      "cell_type": "code",
      "source": [
        "colnames(new_factors)[40:46]=c(\"Servicability\",\"Performance\",\"Appearance\",\"EaseofUse\",\n",
        "                    \"Features\",\"Conformance\", \"Reliability\")"
      ],
      "metadata": {
        "id": "dHfviPp9mHkz"
      },
      "execution_count": null,
      "outputs": []
    },
    {
      "cell_type": "code",
      "source": [
        "head(new_factors)"
      ],
      "metadata": {
        "colab": {
          "base_uri": "https://localhost:8080/"
        },
        "id": "vrGgv0ng54Mq",
        "outputId": "1727f5ab-a853-4fa3-cab5-e2f235daaf59"
      },
      "execution_count": null,
      "outputs": [
        {
          "output_type": "display_data",
          "data": {
            "text/html": [
              "<table class=\"dataframe\">\n",
              "<caption>A data.frame: 6 × 46</caption>\n",
              "<thead>\n",
              "\t<tr><th></th><th scope=col>qd1</th><th scope=col>qd2</th><th scope=col>qd3</th><th scope=col>qd4</th><th scope=col>qd5</th><th scope=col>qd6</th><th scope=col>qd7</th><th scope=col>qd8</th><th scope=col>qd9</th><th scope=col>qd10</th><th scope=col>⋯</th><th scope=col>ri1</th><th scope=col>ri2</th><th scope=col>brandrec</th><th scope=col>Servicability</th><th scope=col>Performance</th><th scope=col>Appearance</th><th scope=col>EaseofUse</th><th scope=col>Features</th><th scope=col>Conformance</th><th scope=col>Reliability</th></tr>\n",
              "\t<tr><th></th><th scope=col>&lt;int&gt;</th><th scope=col>&lt;int&gt;</th><th scope=col>&lt;int&gt;</th><th scope=col>&lt;int&gt;</th><th scope=col>&lt;int&gt;</th><th scope=col>&lt;int&gt;</th><th scope=col>&lt;int&gt;</th><th scope=col>&lt;int&gt;</th><th scope=col>&lt;int&gt;</th><th scope=col>&lt;int&gt;</th><th scope=col>⋯</th><th scope=col>&lt;int&gt;</th><th scope=col>&lt;int&gt;</th><th scope=col>&lt;int&gt;</th><th scope=col>&lt;dbl&gt;</th><th scope=col>&lt;dbl&gt;</th><th scope=col>&lt;dbl&gt;</th><th scope=col>&lt;dbl&gt;</th><th scope=col>&lt;dbl&gt;</th><th scope=col>&lt;dbl&gt;</th><th scope=col>&lt;dbl&gt;</th></tr>\n",
              "</thead>\n",
              "<tbody>\n",
              "\t<tr><th scope=row>1</th><td>3</td><td>4</td><td>3</td><td>3</td><td>4</td><td>3</td><td>4</td><td>3</td><td>3</td><td>3</td><td>⋯</td><td>6</td><td>6</td><td>1</td><td>-1.0941742</td><td>-0.5306889</td><td>-0.9379060</td><td>-1.44385876</td><td>-0.7108221</td><td>-0.93624988</td><td>-0.9420071</td></tr>\n",
              "\t<tr><th scope=row>2</th><td>4</td><td>4</td><td>3</td><td>6</td><td>4</td><td>4</td><td>4</td><td>4</td><td>4</td><td>4</td><td>⋯</td><td>5</td><td>6</td><td>1</td><td> 0.1374939</td><td>-0.2736116</td><td>-0.2242924</td><td>-0.05952707</td><td>-0.6176903</td><td>-1.07558161</td><td> 0.3013796</td></tr>\n",
              "\t<tr><th scope=row>3</th><td>3</td><td>4</td><td>3</td><td>2</td><td>3</td><td>3</td><td>3</td><td>4</td><td>3</td><td>3</td><td>⋯</td><td>5</td><td>6</td><td>1</td><td>-1.0895373</td><td>-0.4794870</td><td>-0.8109104</td><td>-1.46037176</td><td>-0.8386183</td><td>-0.11925066</td><td>-0.8545741</td></tr>\n",
              "\t<tr><th scope=row>4</th><td>5</td><td>5</td><td>4</td><td>3</td><td>5</td><td>5</td><td>5</td><td>5</td><td>4</td><td>5</td><td>⋯</td><td>2</td><td>6</td><td>1</td><td> 0.3396872</td><td> 1.1089764</td><td> 0.9777270</td><td> 1.19564824</td><td> 0.9697116</td><td> 1.17458702</td><td> 1.3351464</td></tr>\n",
              "\t<tr><th scope=row>5</th><td>4</td><td>4</td><td>5</td><td>2</td><td>3</td><td>3</td><td>4</td><td>4</td><td>3</td><td>4</td><td>⋯</td><td>6</td><td>5</td><td>1</td><td>-1.0604357</td><td>-0.4374581</td><td> 0.1350061</td><td>-0.17170066</td><td> 0.5020496</td><td> 0.05055378</td><td>-0.9501139</td></tr>\n",
              "\t<tr><th scope=row>6</th><td>3</td><td>4</td><td>3</td><td>5</td><td>3</td><td>3</td><td>4</td><td>3</td><td>3</td><td>3</td><td>⋯</td><td>5</td><td>5</td><td>1</td><td>-1.0973887</td><td>-0.4951410</td><td>-0.6854162</td><td>-1.46526166</td><td>-1.3704502</td><td>-0.09862571</td><td>-0.9268087</td></tr>\n",
              "</tbody>\n",
              "</table>\n"
            ],
            "text/markdown": "\nA data.frame: 6 × 46\n\n| <!--/--> | qd1 &lt;int&gt; | qd2 &lt;int&gt; | qd3 &lt;int&gt; | qd4 &lt;int&gt; | qd5 &lt;int&gt; | qd6 &lt;int&gt; | qd7 &lt;int&gt; | qd8 &lt;int&gt; | qd9 &lt;int&gt; | qd10 &lt;int&gt; | ⋯ ⋯ | ri1 &lt;int&gt; | ri2 &lt;int&gt; | brandrec &lt;int&gt; | Servicability &lt;dbl&gt; | Performance &lt;dbl&gt; | Appearance &lt;dbl&gt; | EaseofUse &lt;dbl&gt; | Features &lt;dbl&gt; | Conformance &lt;dbl&gt; | Reliability &lt;dbl&gt; |\n|---|---|---|---|---|---|---|---|---|---|---|---|---|---|---|---|---|---|---|---|---|---|\n| 1 | 3 | 4 | 3 | 3 | 4 | 3 | 4 | 3 | 3 | 3 | ⋯ | 6 | 6 | 1 | -1.0941742 | -0.5306889 | -0.9379060 | -1.44385876 | -0.7108221 | -0.93624988 | -0.9420071 |\n| 2 | 4 | 4 | 3 | 6 | 4 | 4 | 4 | 4 | 4 | 4 | ⋯ | 5 | 6 | 1 |  0.1374939 | -0.2736116 | -0.2242924 | -0.05952707 | -0.6176903 | -1.07558161 |  0.3013796 |\n| 3 | 3 | 4 | 3 | 2 | 3 | 3 | 3 | 4 | 3 | 3 | ⋯ | 5 | 6 | 1 | -1.0895373 | -0.4794870 | -0.8109104 | -1.46037176 | -0.8386183 | -0.11925066 | -0.8545741 |\n| 4 | 5 | 5 | 4 | 3 | 5 | 5 | 5 | 5 | 4 | 5 | ⋯ | 2 | 6 | 1 |  0.3396872 |  1.1089764 |  0.9777270 |  1.19564824 |  0.9697116 |  1.17458702 |  1.3351464 |\n| 5 | 4 | 4 | 5 | 2 | 3 | 3 | 4 | 4 | 3 | 4 | ⋯ | 6 | 5 | 1 | -1.0604357 | -0.4374581 |  0.1350061 | -0.17170066 |  0.5020496 |  0.05055378 | -0.9501139 |\n| 6 | 3 | 4 | 3 | 5 | 3 | 3 | 4 | 3 | 3 | 3 | ⋯ | 5 | 5 | 1 | -1.0973887 | -0.4951410 | -0.6854162 | -1.46526166 | -1.3704502 | -0.09862571 | -0.9268087 |\n\n",
            "text/latex": "A data.frame: 6 × 46\n\\begin{tabular}{r|lllllllllllllllllllll}\n  & qd1 & qd2 & qd3 & qd4 & qd5 & qd6 & qd7 & qd8 & qd9 & qd10 & ⋯ & ri1 & ri2 & brandrec & Servicability & Performance & Appearance & EaseofUse & Features & Conformance & Reliability\\\\\n  & <int> & <int> & <int> & <int> & <int> & <int> & <int> & <int> & <int> & <int> & ⋯ & <int> & <int> & <int> & <dbl> & <dbl> & <dbl> & <dbl> & <dbl> & <dbl> & <dbl>\\\\\n\\hline\n\t1 & 3 & 4 & 3 & 3 & 4 & 3 & 4 & 3 & 3 & 3 & ⋯ & 6 & 6 & 1 & -1.0941742 & -0.5306889 & -0.9379060 & -1.44385876 & -0.7108221 & -0.93624988 & -0.9420071\\\\\n\t2 & 4 & 4 & 3 & 6 & 4 & 4 & 4 & 4 & 4 & 4 & ⋯ & 5 & 6 & 1 &  0.1374939 & -0.2736116 & -0.2242924 & -0.05952707 & -0.6176903 & -1.07558161 &  0.3013796\\\\\n\t3 & 3 & 4 & 3 & 2 & 3 & 3 & 3 & 4 & 3 & 3 & ⋯ & 5 & 6 & 1 & -1.0895373 & -0.4794870 & -0.8109104 & -1.46037176 & -0.8386183 & -0.11925066 & -0.8545741\\\\\n\t4 & 5 & 5 & 4 & 3 & 5 & 5 & 5 & 5 & 4 & 5 & ⋯ & 2 & 6 & 1 &  0.3396872 &  1.1089764 &  0.9777270 &  1.19564824 &  0.9697116 &  1.17458702 &  1.3351464\\\\\n\t5 & 4 & 4 & 5 & 2 & 3 & 3 & 4 & 4 & 3 & 4 & ⋯ & 6 & 5 & 1 & -1.0604357 & -0.4374581 &  0.1350061 & -0.17170066 &  0.5020496 &  0.05055378 & -0.9501139\\\\\n\t6 & 3 & 4 & 3 & 5 & 3 & 3 & 4 & 3 & 3 & 3 & ⋯ & 5 & 5 & 1 & -1.0973887 & -0.4951410 & -0.6854162 & -1.46526166 & -1.3704502 & -0.09862571 & -0.9268087\\\\\n\\end{tabular}\n",
            "text/plain": [
              "  qd1 qd2 qd3 qd4 qd5 qd6 qd7 qd8 qd9 qd10 <U+22EF>   ri1 ri2 brandrec\n",
              "1 3   4   3   3   4   3   4   3   3   3    <U+22EF> 6   6   1       \n",
              "2 4   4   3   6   4   4   4   4   4   4    <U+22EF> 5   6   1       \n",
              "3 3   4   3   2   3   3   3   4   3   3    <U+22EF> 5   6   1       \n",
              "4 5   5   4   3   5   5   5   5   4   5    <U+22EF> 2   6   1       \n",
              "5 4   4   5   2   3   3   4   4   3   4    <U+22EF> 6   5   1       \n",
              "6 3   4   3   5   3   3   4   3   3   3    <U+22EF> 5   5   1       \n",
              "  Servicability Performance Appearance EaseofUse   Features   Conformance\n",
              "1 -1.0941742    -0.5306889  -0.9379060 -1.44385876 -0.7108221 -0.93624988\n",
              "2  0.1374939    -0.2736116  -0.2242924 -0.05952707 -0.6176903 -1.07558161\n",
              "3 -1.0895373    -0.4794870  -0.8109104 -1.46037176 -0.8386183 -0.11925066\n",
              "4  0.3396872     1.1089764   0.9777270  1.19564824  0.9697116  1.17458702\n",
              "5 -1.0604357    -0.4374581   0.1350061 -0.17170066  0.5020496  0.05055378\n",
              "6 -1.0973887    -0.4951410  -0.6854162 -1.46526166 -1.3704502 -0.09862571\n",
              "  Reliability\n",
              "1 -0.9420071 \n",
              "2  0.3013796 \n",
              "3 -0.8545741 \n",
              "4  1.3351464 \n",
              "5 -0.9501139 \n",
              "6 -0.9268087 "
            ]
          },
          "metadata": {}
        }
      ]
    },
    {
      "cell_type": "code",
      "source": [
        "# Calculate the mean score for willingness to pay\n",
        "new_factors$mean_wtp <- rowMeans(new_factors[, c(\"wtp1\", \"wtp2\", \"wtp3\")])\n",
        "\n",
        "# Calculate the mean score for repurchase intention\n",
        "new_factors$mean_ri <- rowMeans(new_factors[, c(\"ri1\", \"ri2\")])"
      ],
      "metadata": {
        "id": "BEExdCeyrjQK"
      },
      "execution_count": null,
      "outputs": []
    },
    {
      "cell_type": "code",
      "source": [
        "lm_model = with(new_factors,lm(new_factors$mean_wtp+new_factors$mean_ri\n",
        "                ~ Servicability+Performance+Appearance+EaseofUse+Features+Conformance+Reliability))\n",
        "summary(lm.beta(lm_model))"
      ],
      "metadata": {
        "id": "u9qEc-yUmf0y",
        "colab": {
          "base_uri": "https://localhost:8080/"
        },
        "outputId": "d110f90f-6fe8-4a54-b67f-642f206e03f8"
      },
      "execution_count": null,
      "outputs": [
        {
          "output_type": "display_data",
          "data": {
            "text/plain": [
              "\n",
              "Call:\n",
              "lm(formula = new_factors$mean_wtp + new_factors$mean_ri ~ Servicability + \n",
              "    Performance + Appearance + EaseofUse + Features + Conformance + \n",
              "    Reliability)\n",
              "\n",
              "Residuals:\n",
              "    Min      1Q  Median      3Q     Max \n",
              "-7.0695 -1.1747  0.1996  1.3734  5.2282 \n",
              "\n",
              "Coefficients:\n",
              "                Estimate Standardized Std. Error t value Pr(>|t|)    \n",
              "(Intercept)    9.9164087           NA  0.0625194 158.613  < 2e-16 ***\n",
              "Servicability  0.2586725    0.0962796  0.0866726   2.984  0.00291 ** \n",
              "Performance    0.5643950    0.2086111  0.1248055   4.522 6.88e-06 ***\n",
              "Appearance     0.3258717    0.1197821  0.1141870   2.854  0.00441 ** \n",
              "EaseofUse      0.1644563    0.0608138  0.0995637   1.652  0.09891 .  \n",
              "Features       0.5871242    0.2146415  0.1004388   5.846 6.91e-09 ***\n",
              "Conformance   -0.0004577   -0.0001679  0.0969556  -0.005  0.99623    \n",
              "Reliability    0.2661139    0.0972513  0.1087954   2.446  0.01462 *  \n",
              "---\n",
              "Signif. codes:  0 '***' 0.001 '**' 0.01 '*' 0.05 '.' 0.1 ' ' 1\n",
              "\n",
              "Residual standard error: 1.946 on 961 degrees of freedom\n",
              "Multiple R-squared:  0.4606,\tAdjusted R-squared:  0.4567 \n",
              "F-statistic: 117.2 on 7 and 961 DF,  p-value: < 2.2e-16\n"
            ]
          },
          "metadata": {}
        }
      ]
    },
    {
      "cell_type": "markdown",
      "source": [
        "The model, which included factor scores for Serviceability, Performance, Appearance, Ease of Use, Features, Conformance, and Reliability as independent variables reveals that most factors are significant predictors of WTP and RI, with Features and Performance showing particularly strong associations. This suggests that consumers are likely to pay more for a premium product and have a stronger intention to repurchase when they consider the product high in quality features and reliable performance."
      ],
      "metadata": {
        "id": "ONLzhcx8LXSs"
      }
    },
    {
      "cell_type": "markdown",
      "source": [
        "This indicates a great opportunity of focusing on the enhancement of product features and ensuring performance excellence. Investing in these factors could yield high returns in terms of customer willingness to pay a premium price and enhance loyalty, which are critical for success in competitive markets."
      ],
      "metadata": {
        "id": "hAhThPkpLlfA"
      }
    },
    {
      "cell_type": "markdown",
      "source": [
        "At this point, we can test the questions 4 and 23, which initially showed low correlation with the rest of the questions, to see how significant are their effects on the WTP and RI values, and compare it with the base regression analysis."
      ],
      "metadata": {
        "id": "ddimsrLtNgTQ"
      }
    },
    {
      "cell_type": "code",
      "source": [
        "lm_model = with(new_factors,lm(new_factors$mean_wtp+new_factors$mean_ri\n",
        "                ~ Servicability+Performance+Appearance+EaseofUse+Features+Conformance+Reliability+qd4+qd23))\n",
        "summary(lm.beta(lm_model))"
      ],
      "metadata": {
        "colab": {
          "base_uri": "https://localhost:8080/"
        },
        "id": "7djuHlTunH3j",
        "outputId": "911c88ef-aefa-4717-8e4e-32f4374a75b8"
      },
      "execution_count": null,
      "outputs": [
        {
          "output_type": "display_data",
          "data": {
            "text/plain": [
              "\n",
              "Call:\n",
              "lm(formula = new_factors$mean_wtp + new_factors$mean_ri ~ Servicability + \n",
              "    Performance + Appearance + EaseofUse + Features + Conformance + \n",
              "    Reliability + qd4 + qd23)\n",
              "\n",
              "Residuals:\n",
              "    Min      1Q  Median      3Q     Max \n",
              "-6.3493 -1.2116  0.2095  1.3464  5.5620 \n",
              "\n",
              "Coefficients:\n",
              "              Estimate Standardized Std. Error t value Pr(>|t|)    \n",
              "(Intercept)    8.82740           NA    0.20667  42.712  < 2e-16 ***\n",
              "Servicability  0.26041      0.09693    0.08523   3.055  0.00231 ** \n",
              "Performance    0.55745      0.20604    0.12271   4.543 6.26e-06 ***\n",
              "Appearance     0.29049      0.10678    0.11253   2.582  0.00998 ** \n",
              "EaseofUse      0.12857      0.04754    0.09810   1.311  0.19032    \n",
              "Features       0.59865      0.21885    0.09910   6.041 2.19e-09 ***\n",
              "Conformance    0.06104      0.02239    0.09589   0.637  0.52457    \n",
              "Reliability    0.20321      0.07426    0.10755   1.890  0.05912 .  \n",
              "qd4            0.07946      0.04508    0.04222   1.882  0.06016 .  \n",
              "qd23           0.21565      0.12685    0.04178   5.162 2.98e-07 ***\n",
              "---\n",
              "Signif. codes:  0 '***' 0.001 '**' 0.01 '*' 0.05 '.' 0.1 ' ' 1\n",
              "\n",
              "Residual standard error: 1.913 on 959 degrees of freedom\n",
              "Multiple R-squared:  0.4797,\tAdjusted R-squared:  0.4748 \n",
              "F-statistic: 98.25 on 9 and 959 DF,  p-value: < 2.2e-16\n"
            ]
          },
          "metadata": {}
        }
      ]
    },
    {
      "cell_type": "code",
      "source": [
        "variables[31,]"
      ],
      "metadata": {
        "colab": {
          "base_uri": "https://localhost:8080/"
        },
        "id": "NqAxj8-oMduE",
        "outputId": "f3e654ca-955f-45d0-c4db-1086ff397369"
      },
      "execution_count": null,
      "outputs": [
        {
          "output_type": "display_data",
          "data": {
            "text/html": [
              "<table class=\"dataframe\">\n",
              "<caption>A data.frame: 1 × 2</caption>\n",
              "<thead>\n",
              "\t<tr><th></th><th scope=col>name</th><th scope=col>Label</th></tr>\n",
              "\t<tr><th></th><th scope=col>&lt;chr&gt;</th><th scope=col>&lt;chr&gt;</th></tr>\n",
              "</thead>\n",
              "<tbody>\n",
              "\t<tr><th scope=row>31</th><td>qd23</td><td>My smartphone is a prestigious item for me</td></tr>\n",
              "</tbody>\n",
              "</table>\n"
            ],
            "text/markdown": "\nA data.frame: 1 × 2\n\n| <!--/--> | name &lt;chr&gt; | Label &lt;chr&gt; |\n|---|---|---|\n| 31 | qd23 | My smartphone is a prestigious item for me |\n\n",
            "text/latex": "A data.frame: 1 × 2\n\\begin{tabular}{r|ll}\n  & name & Label\\\\\n  & <chr> & <chr>\\\\\n\\hline\n\t31 & qd23 & My smartphone is a prestigious item for me\\\\\n\\end{tabular}\n",
            "text/plain": [
              "   name Label                                     \n",
              "31 qd23 My smartphone is a prestigious item for me"
            ]
          },
          "metadata": {}
        }
      ]
    },
    {
      "cell_type": "markdown",
      "source": [
        "Adding questions 4 and 23 to the model actually brought us an interesting result, showing that question 23 holds a significant effect on WTP and RI.\n",
        "\n",
        "Considering the question 23 was \"My smartphone is a prestigious item for me\", which hold a characteristics we cannot put under any of our factors in our 7-factor solution, we can indeed consider this question as a variable that represents \"Distinctiveness/Prestige\", based on Brucks, Zeithaml, Naylor (2000) for the time being.\n",
        "\n",
        "From a managerial perspective, we should remember that our resources should be strategically allocated to enhance features and performance, as these are the factors most strongly associated with a customer's decision-making regarding payment and loyalty. Thus, Prestige may not require the same level of strategic focus yet, however it's a good addition to our model with respect to extensity of our results.\n"
      ],
      "metadata": {
        "id": "HFTQ3Sq1L7vD"
      }
    },
    {
      "cell_type": "markdown",
      "source": [
        "## Q2-3: Comparing Results Across Different Brands"
      ],
      "metadata": {
        "id": "HgSOi2gi6otT"
      }
    },
    {
      "cell_type": "markdown",
      "source": [
        "### Repurchase Intention"
      ],
      "metadata": {
        "id": "-oYrYXq-OvVZ"
      }
    },
    {
      "cell_type": "markdown",
      "source": [
        "As we realized that the question 23 showed a significant effect on the customer behavior on the previous section, we can now test the repurchase intentions across the brands by including it to the independent variables to see if it has any extra effects."
      ],
      "metadata": {
        "id": "8ysVQ0c2Nx3l"
      }
    },
    {
      "cell_type": "code",
      "source": [
        "samsung_df <- subset(new_factors, brandrec == \"1\")\n",
        "apple_df <- subset(new_factors, brandrec == \"2\")\n",
        "lg_df <- subset(new_factors, brandrec == \"3\")\n",
        "motorola_df <- subset(new_factors, brandrec == \"4\")\n",
        "other_df <- subset(new_factors, brandrec == \"5\")\n",
        "\n",
        "model_lm_samsung <- lm(mean_ri ~ Servicability+Performance+Appearance+EaseofUse+Features+Conformance+Reliability+qd23, data = samsung_df)\n",
        "model_lm_apple <- lm(mean_ri ~ Servicability+Performance+Appearance+EaseofUse+Features+Conformance+Reliability+qd23, data = apple_df)\n",
        "model_lm_lg <- lm(mean_ri ~ Servicability+Performance+Appearance+EaseofUse+Features+Conformance+Reliability+qd23, data = lg_df)\n",
        "model_lm_motorola <- lm(mean_ri ~ Servicability+Performance+Appearance+EaseofUse+Features+Conformance+Reliability+qd23, data = motorola_df)\n",
        "model_lm_other <- lm(mean_ri ~ Servicability+Performance+Appearance+EaseofUse+Features+Conformance+Reliability+qd23, data = other_df)"
      ],
      "metadata": {
        "id": "2BC6jdaIrvwZ"
      },
      "execution_count": null,
      "outputs": []
    },
    {
      "cell_type": "code",
      "source": [
        "summary(model_lm_samsung)"
      ],
      "metadata": {
        "colab": {
          "base_uri": "https://localhost:8080/"
        },
        "id": "D3DimkYisFwh",
        "outputId": "dc2a042c-1936-4b6f-d62c-f9ea285c8e00"
      },
      "execution_count": null,
      "outputs": [
        {
          "output_type": "display_data",
          "data": {
            "text/plain": [
              "\n",
              "Call:\n",
              "lm(formula = mean_ri ~ Servicability + Performance + Appearance + \n",
              "    EaseofUse + Features + Conformance + Reliability + qd23, \n",
              "    data = samsung_df)\n",
              "\n",
              "Residuals:\n",
              "    Min      1Q  Median      3Q     Max \n",
              "-3.5314 -0.4139  0.1336  0.5252  2.5801 \n",
              "\n",
              "Coefficients:\n",
              "              Estimate Std. Error t value Pr(>|t|)    \n",
              "(Intercept)    5.40005    0.10663  50.643  < 2e-16 ***\n",
              "Servicability  0.15592    0.05583   2.793  0.00542 ** \n",
              "Performance    0.19514    0.08545   2.284  0.02278 *  \n",
              "Appearance     0.11143    0.07109   1.567  0.11762    \n",
              "EaseofUse      0.13511    0.06316   2.139  0.03289 *  \n",
              "Features       0.28663    0.06316   4.538 7.05e-06 ***\n",
              "Conformance    0.05050    0.06000   0.842  0.40044    \n",
              "Reliability   -0.03165    0.06766  -0.468  0.64014    \n",
              "qd23           0.08340    0.02654   3.143  0.00177 ** \n",
              "---\n",
              "Signif. codes:  0 '***' 0.001 '**' 0.01 '*' 0.05 '.' 0.1 ' ' 1\n",
              "\n",
              "Residual standard error: 0.8824 on 525 degrees of freedom\n",
              "Multiple R-squared:  0.3993,\tAdjusted R-squared:  0.3901 \n",
              "F-statistic: 43.61 on 8 and 525 DF,  p-value: < 2.2e-16\n"
            ]
          },
          "metadata": {}
        }
      ]
    },
    {
      "cell_type": "markdown",
      "source": [
        "For Samsung, Features and Serviceability are significant predictors, emphasizing the importance of advanced functionality and customer support in driving repurchase intentions. This implies that for Samsung users, the richness of the product features and the quality of service received are critical."
      ],
      "metadata": {
        "id": "MH_yQZmufyTo"
      }
    },
    {
      "cell_type": "code",
      "source": [
        "summary(model_lm_apple)"
      ],
      "metadata": {
        "colab": {
          "base_uri": "https://localhost:8080/"
        },
        "id": "kfkZWGcjsWXx",
        "outputId": "16916358-01ee-4572-c612-0ed69ddc421f"
      },
      "execution_count": null,
      "outputs": [
        {
          "output_type": "display_data",
          "data": {
            "text/plain": [
              "\n",
              "Call:\n",
              "lm(formula = mean_ri ~ Servicability + Performance + Appearance + \n",
              "    EaseofUse + Features + Conformance + Reliability + qd23, \n",
              "    data = apple_df)\n",
              "\n",
              "Residuals:\n",
              "    Min      1Q  Median      3Q     Max \n",
              "-3.2738 -0.6844  0.0842  0.7831  2.2522 \n",
              "\n",
              "Coefficients:\n",
              "               Estimate Std. Error t value Pr(>|t|)    \n",
              "(Intercept)    4.755748   0.190712  24.937  < 2e-16 ***\n",
              "Servicability  0.061374   0.104908   0.585  0.55912    \n",
              "Performance    0.389684   0.128254   3.038  0.00266 ** \n",
              "Appearance     0.262606   0.146312   1.795  0.07402 .  \n",
              "EaseofUse     -0.001981   0.118307  -0.017  0.98666    \n",
              "Features       0.253034   0.121957   2.075  0.03914 *  \n",
              "Conformance    0.048926   0.117159   0.418  0.67663    \n",
              "Reliability   -0.038474   0.126025  -0.305  0.76043    \n",
              "qd23           0.095289   0.047891   1.990  0.04783 *  \n",
              "---\n",
              "Signif. codes:  0 '***' 0.001 '**' 0.01 '*' 0.05 '.' 0.1 ' ' 1\n",
              "\n",
              "Residual standard error: 1.092 on 225 degrees of freedom\n",
              "Multiple R-squared:  0.4213,\tAdjusted R-squared:  0.4007 \n",
              "F-statistic: 20.48 on 8 and 225 DF,  p-value: < 2.2e-16\n"
            ]
          },
          "metadata": {}
        }
      ]
    },
    {
      "cell_type": "markdown",
      "source": [
        "Apple's regression indicates that Performance is a significant factor, which aligns with the brand's reputation for high-performing devices. This suggests that maintaining the performance standards is crucial for keeping Apple customers loyal."
      ],
      "metadata": {
        "id": "T0Wu_Urof2cv"
      }
    },
    {
      "cell_type": "code",
      "source": [
        "summary(model_lm_lg)"
      ],
      "metadata": {
        "colab": {
          "base_uri": "https://localhost:8080/"
        },
        "id": "HoMPqZsu9Feg",
        "outputId": "979124f7-3e23-44fa-dfc9-8675adacdfe7"
      },
      "execution_count": null,
      "outputs": [
        {
          "output_type": "display_data",
          "data": {
            "text/plain": [
              "\n",
              "Call:\n",
              "lm(formula = mean_ri ~ Servicability + Performance + Appearance + \n",
              "    EaseofUse + Features + Conformance + Reliability + qd23, \n",
              "    data = lg_df)\n",
              "\n",
              "Residuals:\n",
              "    Min      1Q  Median      3Q     Max \n",
              "-3.2157 -0.6701  0.0263  0.7010  2.4867 \n",
              "\n",
              "Coefficients:\n",
              "              Estimate Std. Error t value Pr(>|t|)    \n",
              "(Intercept)    4.83938    0.35464  13.646   <2e-16 ***\n",
              "Servicability -0.10329    0.19617  -0.527   0.6006    \n",
              "Performance    0.29002    0.27822   1.042   0.3019    \n",
              "Appearance    -0.04400    0.24988  -0.176   0.8609    \n",
              "EaseofUse     -0.03612    0.22565  -0.160   0.8734    \n",
              "Features       0.08028    0.21822   0.368   0.7144    \n",
              "Conformance    0.51716    0.22606   2.288   0.0261 *  \n",
              "Reliability    0.25133    0.28066   0.896   0.3745    \n",
              "qd23          -0.04149    0.09808  -0.423   0.6739    \n",
              "---\n",
              "Signif. codes:  0 '***' 0.001 '**' 0.01 '*' 0.05 '.' 0.1 ' ' 1\n",
              "\n",
              "Residual standard error: 1.164 on 54 degrees of freedom\n",
              "Multiple R-squared:  0.3884,\tAdjusted R-squared:  0.2978 \n",
              "F-statistic: 4.286 on 8 and 54 DF,  p-value: 0.0004856\n"
            ]
          },
          "metadata": {}
        }
      ]
    },
    {
      "cell_type": "markdown",
      "source": [
        "In the case of LG, Conformance is a significant predictor, indicating that LG customers place a high value on products meeting their specifications and expectations. LG’s focus should thus be on quality assurance and meeting expectations in product specifications to encourage repurchases."
      ],
      "metadata": {
        "id": "WZUlCu1pf6dY"
      }
    },
    {
      "cell_type": "code",
      "source": [
        "summary(model_lm_motorola)"
      ],
      "metadata": {
        "colab": {
          "base_uri": "https://localhost:8080/"
        },
        "id": "45uIQI-GOB8S",
        "outputId": "f2cf65b0-da35-4ae2-e5e7-52e2fc58d062"
      },
      "execution_count": null,
      "outputs": [
        {
          "output_type": "display_data",
          "data": {
            "text/plain": [
              "\n",
              "Call:\n",
              "lm(formula = mean_ri ~ Servicability + Performance + Appearance + \n",
              "    EaseofUse + Features + Conformance + Reliability + qd23, \n",
              "    data = motorola_df)\n",
              "\n",
              "Residuals:\n",
              "     Min       1Q   Median       3Q      Max \n",
              "-2.17491 -0.53451 -0.05595  0.56744  3.15673 \n",
              "\n",
              "Coefficients:\n",
              "                Estimate Std. Error t value Pr(>|t|)    \n",
              "(Intercept)    4.7833121  0.3353384  14.264  < 2e-16 ***\n",
              "Servicability -0.0412230  0.1784184  -0.231  0.81808    \n",
              "Performance    0.5127097  0.2388895   2.146  0.03598 *  \n",
              "Appearance    -0.1940309  0.2030769  -0.955  0.34325    \n",
              "EaseofUse      0.1706868  0.1778973   0.959  0.34124    \n",
              "Features       0.6531084  0.1787208   3.654  0.00055 ***\n",
              "Conformance    0.2080355  0.2215097   0.939  0.35147    \n",
              "Reliability   -0.2007132  0.2389397  -0.840  0.40429    \n",
              "qd23           0.0004492  0.0857641   0.005  0.99584    \n",
              "---\n",
              "Signif. codes:  0 '***' 0.001 '**' 0.01 '*' 0.05 '.' 0.1 ' ' 1\n",
              "\n",
              "Residual standard error: 0.983 on 59 degrees of freedom\n",
              "Multiple R-squared:  0.593,\tAdjusted R-squared:  0.5378 \n",
              "F-statistic: 10.74 on 8 and 59 DF,  p-value: 3.542e-09\n"
            ]
          },
          "metadata": {}
        }
      ]
    },
    {
      "cell_type": "markdown",
      "source": [
        "Comparatively, Motorola's analysis shows that no individual factors are significantly influencing repurchase intentions at the conventional 0.05 level. This could suggest that brand loyalty is not as strongly associated with the surveyed quality dimensions for Motorola. It would be a good approach to focus on meeting the standards on their product as Conformance showed a slighlty significant value."
      ],
      "metadata": {
        "id": "x1Hc7xbygC1Y"
      }
    },
    {
      "cell_type": "code",
      "source": [
        "summary(model_lm_other)"
      ],
      "metadata": {
        "colab": {
          "base_uri": "https://localhost:8080/"
        },
        "id": "OKyxgxhlODSS",
        "outputId": "e17c5ec5-161b-4014-81c4-359f42ded02c"
      },
      "execution_count": null,
      "outputs": [
        {
          "output_type": "display_data",
          "data": {
            "text/plain": [
              "\n",
              "Call:\n",
              "lm(formula = mean_ri ~ Servicability + Performance + Appearance + \n",
              "    EaseofUse + Features + Conformance + Reliability + qd23, \n",
              "    data = other_df)\n",
              "\n",
              "Residuals:\n",
              "    Min      1Q  Median      3Q     Max \n",
              "-3.4538 -0.6314  0.1372  0.7073  3.0430 \n",
              "\n",
              "Coefficients:\n",
              "              Estimate Std. Error t value Pr(>|t|)    \n",
              "(Intercept)    4.50837    0.35617  12.658   <2e-16 ***\n",
              "Servicability -0.04056    0.15989  -0.254    0.801    \n",
              "Performance    0.32113    0.28518   1.126    0.265    \n",
              "Appearance     0.34315    0.27973   1.227    0.225    \n",
              "EaseofUse      0.06614    0.21843   0.303    0.763    \n",
              "Features       0.22932    0.22424   1.023    0.311    \n",
              "Conformance   -0.08625    0.22780  -0.379    0.706    \n",
              "Reliability    0.15674    0.23987   0.653    0.516    \n",
              "qd23           0.03695    0.08404   0.440    0.662    \n",
              "---\n",
              "Signif. codes:  0 '***' 0.001 '**' 0.01 '*' 0.05 '.' 0.1 ' ' 1\n",
              "\n",
              "Residual standard error: 1.19 on 61 degrees of freedom\n",
              "Multiple R-squared:  0.4044,\tAdjusted R-squared:  0.3263 \n",
              "F-statistic: 5.178 on 8 and 61 DF,  p-value: 5.961e-05\n"
            ]
          },
          "metadata": {}
        }
      ]
    },
    {
      "cell_type": "markdown",
      "source": [
        "The results for the 'Other' category brands doesn't demonstrate a factor that is significant enough to impact the repurchase intentions of the customer. This might be because of how differentiated the brand selection is under the Other category, therefore it's not a healthy approach to say something from this result."
      ],
      "metadata": {
        "id": "lNF3VUAvgUMP"
      }
    },
    {
      "cell_type": "markdown",
      "source": [
        "The regression analyses for repurchase intentions reveal varying effects across different brands, suggesting that consumer priorities shift depending on the brand they engage with."
      ],
      "metadata": {
        "id": "hGI36pHjPF2u"
      }
    },
    {
      "cell_type": "markdown",
      "source": [
        "Across brands, some significant factors like Features and Conformance show resemblance in the result, as they seem to influence repurchase intentions for multiple brands. This suggests that regardless of the brand, there are certain attributes that all smartphone manufacturers should prioritize to ensure customer retention.\n",
        "\n",
        "Points of difference arise in the varying significance for each brand. For example, while serviceability is a significant predictor for Samsung, it is not for Apple or LG, indicating that Samsung may need to invest more in this area compared to its competitors."
      ],
      "metadata": {
        "id": "4s-XwWfVgudH"
      }
    },
    {
      "cell_type": "markdown",
      "source": [
        "In summary, brand-specific strategies should be formulated based on these insights, with Samsung focusing on enhancing serviceability and features, Apple on maintaining performance, and LG on ensuring product conformance."
      ],
      "metadata": {
        "id": "-U2VqgERhEA3"
      }
    },
    {
      "cell_type": "markdown",
      "source": [
        "### Willingness to Pay Premium"
      ],
      "metadata": {
        "id": "PCzB1_mGOyOy"
      }
    },
    {
      "cell_type": "markdown",
      "source": [
        "To finalize our study on the questionnaire, we'll now look into the regression analyses across different brands, with willingness to pay a premium (WTP) as the dependent variable, indicating how various factors influence customer's willingness to invest in higher-priced options based on different factors."
      ],
      "metadata": {
        "id": "5Xav-LQyiYM3"
      }
    },
    {
      "cell_type": "code",
      "source": [
        "model_lm_samsung <- lm(mean_wtp ~ Servicability+Performance+Appearance+EaseofUse+Features+Conformance+Reliability+qd23, data = samsung_df)\n",
        "model_lm_apple <- lm(mean_wtp ~ Servicability+Performance+Appearance+EaseofUse+Features+Conformance+Reliability+qd23, data = apple_df)\n",
        "model_lm_lg <- lm(mean_wtp ~ Servicability+Performance+Appearance+EaseofUse+Features+Conformance+Reliability+qd23, data = lg_df)\n",
        "model_lm_motorola <- lm(mean_wtp ~ Servicability+Performance+Appearance+EaseofUse+Features+Conformance+Reliability+qd23, data = motorola_df)\n",
        "model_lm_other <- lm(mean_wtp ~ Servicability+Performance+Appearance+EaseofUse+Features+Conformance+Reliability+qd23, data = other_df)"
      ],
      "metadata": {
        "id": "Duzd0BfkO186"
      },
      "execution_count": null,
      "outputs": []
    },
    {
      "cell_type": "code",
      "source": [
        "summary(model_lm_samsung)"
      ],
      "metadata": {
        "colab": {
          "base_uri": "https://localhost:8080/",
          "height": 510
        },
        "id": "dUwoN59xO7Ti",
        "outputId": "7b9fab4e-de0d-47c7-cafa-846261652cb8"
      },
      "execution_count": null,
      "outputs": [
        {
          "output_type": "display_data",
          "data": {
            "text/plain": [
              "\n",
              "Call:\n",
              "lm(formula = mean_wtp ~ Servicability + Performance + Appearance + \n",
              "    EaseofUse + Features + Conformance + Reliability + qd23, \n",
              "    data = samsung_df)\n",
              "\n",
              "Residuals:\n",
              "    Min      1Q  Median      3Q     Max \n",
              "-4.8321 -0.5017  0.1564  0.7326  2.3350 \n",
              "\n",
              "Coefficients:\n",
              "              Estimate Std. Error t value Pr(>|t|)    \n",
              "(Intercept)    4.59737    0.12389  37.108  < 2e-16 ***\n",
              "Servicability  0.17957    0.06487   2.768  0.00583 ** \n",
              "Performance    0.02031    0.09928   0.205  0.83802    \n",
              "Appearance     0.16742    0.08260   2.027  0.04318 *  \n",
              "EaseofUse      0.21530    0.07339   2.934  0.00350 ** \n",
              "Features       0.32071    0.07339   4.370  1.5e-05 ***\n",
              "Conformance   -0.04968    0.06972  -0.713  0.47644    \n",
              "Reliability    0.08943    0.07861   1.138  0.25578    \n",
              "qd23           0.08165    0.03084   2.648  0.00834 ** \n",
              "---\n",
              "Signif. codes:  0 '***' 0.001 '**' 0.01 '*' 0.05 '.' 0.1 ' ' 1\n",
              "\n",
              "Residual standard error: 1.025 on 525 degrees of freedom\n",
              "Multiple R-squared:  0.3597,\tAdjusted R-squared:  0.3499 \n",
              "F-statistic: 36.87 on 8 and 525 DF,  p-value: < 2.2e-16\n"
            ]
          },
          "metadata": {}
        }
      ]
    },
    {
      "cell_type": "markdown",
      "source": [
        "For Samsung, Ease of Use and Features emerge as the strongest predictors of WTP, with positive coefficients indicating that as these aspects of quality improve, customers are more likely to pay a premium. Serviceability also shows a positive influence, though to a lesser degree. Lastly, positive coefficient for qd23 indicates that the prestige associated with owning a Samsung smartphone also positively influences their willingness to pay more, emphasizing the importance of brand image in the value perception."
      ],
      "metadata": {
        "id": "uNuBq1xBih92"
      }
    },
    {
      "cell_type": "code",
      "source": [
        "summary(model_lm_apple)"
      ],
      "metadata": {
        "colab": {
          "base_uri": "https://localhost:8080/",
          "height": 510
        },
        "id": "1yDYaEX8O8Ch",
        "outputId": "588d0cdc-e7e5-437f-a335-314b3bf9095c"
      },
      "execution_count": null,
      "outputs": [
        {
          "output_type": "display_data",
          "data": {
            "text/plain": [
              "\n",
              "Call:\n",
              "lm(formula = mean_wtp ~ Servicability + Performance + Appearance + \n",
              "    EaseofUse + Features + Conformance + Reliability + qd23, \n",
              "    data = apple_df)\n",
              "\n",
              "Residuals:\n",
              "    Min      1Q  Median      3Q     Max \n",
              "-3.5532 -0.6926 -0.0191  0.7070  3.0798 \n",
              "\n",
              "Coefficients:\n",
              "              Estimate Std. Error t value Pr(>|t|)    \n",
              "(Intercept)    3.48804    0.18645  18.708  < 2e-16 ***\n",
              "Servicability  0.04116    0.10256   0.401   0.6886    \n",
              "Performance    0.27683    0.12539   2.208   0.0283 *  \n",
              "Appearance     0.29163    0.14304   2.039   0.0426 *  \n",
              "EaseofUse     -0.14556    0.11566  -1.259   0.2095    \n",
              "Features       0.19090    0.11923   1.601   0.1108    \n",
              "Conformance   -0.10718    0.11454  -0.936   0.3504    \n",
              "Reliability    0.17653    0.12321   1.433   0.1533    \n",
              "qd23           0.24876    0.04682   5.313 2.59e-07 ***\n",
              "---\n",
              "Signif. codes:  0 '***' 0.001 '**' 0.01 '*' 0.05 '.' 0.1 ' ' 1\n",
              "\n",
              "Residual standard error: 1.067 on 225 degrees of freedom\n",
              "Multiple R-squared:  0.3952,\tAdjusted R-squared:  0.3737 \n",
              "F-statistic: 18.38 on 8 and 225 DF,  p-value: < 2.2e-16\n"
            ]
          },
          "metadata": {}
        }
      ]
    },
    {
      "cell_type": "markdown",
      "source": [
        "Apple shows a slightly different pattern where 'Appearance' has a positive influence on WTP. This aligns with Apple's brand positioning, where design and aesthetic appeal are often seen as a status symbol. The significant positive impact of qd23 reinforces this idea, indicating that the prestige of owning an Apple product is a powerful motivator for paying a premium."
      ],
      "metadata": {
        "id": "6T4TAmcolI7V"
      }
    },
    {
      "cell_type": "code",
      "source": [
        "summary(model_lm_lg)"
      ],
      "metadata": {
        "colab": {
          "base_uri": "https://localhost:8080/",
          "height": 510
        },
        "id": "I3Tiimm2O8Eh",
        "outputId": "743a8981-d504-46de-8121-2a03f91fe445"
      },
      "execution_count": null,
      "outputs": [
        {
          "output_type": "display_data",
          "data": {
            "text/plain": [
              "\n",
              "Call:\n",
              "lm(formula = mean_wtp ~ Servicability + Performance + Appearance + \n",
              "    EaseofUse + Features + Conformance + Reliability + qd23, \n",
              "    data = lg_df)\n",
              "\n",
              "Residuals:\n",
              "    Min      1Q  Median      3Q     Max \n",
              "-2.4586 -0.7362 -0.1834  0.6908  3.1597 \n",
              "\n",
              "Coefficients:\n",
              "              Estimate Std. Error t value Pr(>|t|)    \n",
              "(Intercept)    3.23548    0.35953   8.999 2.49e-12 ***\n",
              "Servicability -0.24469    0.19887  -1.230   0.2239    \n",
              "Performance   -0.18505    0.28205  -0.656   0.5146    \n",
              "Appearance     0.36686    0.25332   1.448   0.1533    \n",
              "EaseofUse     -0.03451    0.22875  -0.151   0.8807    \n",
              "Features       0.09443    0.22122   0.427   0.6712    \n",
              "Conformance    0.49639    0.22917   2.166   0.0347 *  \n",
              "Reliability    0.37405    0.28452   1.315   0.1942    \n",
              "qd23           0.19226    0.09943   1.934   0.0584 .  \n",
              "---\n",
              "Signif. codes:  0 '***' 0.001 '**' 0.01 '*' 0.05 '.' 0.1 ' ' 1\n",
              "\n",
              "Residual standard error: 1.18 on 54 degrees of freedom\n",
              "Multiple R-squared:  0.3928,\tAdjusted R-squared:  0.3029 \n",
              "F-statistic: 4.367 on 8 and 54 DF,  p-value: 0.0004111\n"
            ]
          },
          "metadata": {}
        }
      ]
    },
    {
      "cell_type": "markdown",
      "source": [
        "In the case of LG, 'Conformance' is the only significant predictor, meaning the customers are willing to pay a premium when their expectations regarding product specifications and quality are met. As none of the other factors showed a significant effect at the p < 0.05 level, the decision to pay a premium for this brand is more about meeting specific standards."
      ],
      "metadata": {
        "id": "3F5mGdDtlUkc"
      }
    },
    {
      "cell_type": "code",
      "source": [
        "summary(model_lm_motorola)"
      ],
      "metadata": {
        "colab": {
          "base_uri": "https://localhost:8080/",
          "height": 510
        },
        "id": "Uu3TaaJzO8Gq",
        "outputId": "5b0e3f75-43e4-498c-bce5-40b6329f2a42"
      },
      "execution_count": null,
      "outputs": [
        {
          "output_type": "display_data",
          "data": {
            "text/plain": [
              "\n",
              "Call:\n",
              "lm(formula = mean_wtp ~ Servicability + Performance + Appearance + \n",
              "    EaseofUse + Features + Conformance + Reliability + qd23, \n",
              "    data = motorola_df)\n",
              "\n",
              "Residuals:\n",
              "    Min      1Q  Median      3Q     Max \n",
              "-2.3244 -0.7455  0.0515  0.7720  3.2658 \n",
              "\n",
              "Coefficients:\n",
              "              Estimate Std. Error t value Pr(>|t|)    \n",
              "(Intercept)     3.3221     0.3926   8.462  9.1e-12 ***\n",
              "Servicability   0.3449     0.2089   1.651   0.1040    \n",
              "Performance     0.1714     0.2797   0.613   0.5423    \n",
              "Appearance      0.1009     0.2377   0.424   0.6728    \n",
              "EaseofUse       0.2571     0.2083   1.234   0.2220    \n",
              "Features        0.4131     0.2092   1.974   0.0530 .  \n",
              "Conformance     0.1101     0.2593   0.424   0.6728    \n",
              "Reliability    -0.3936     0.2797  -1.407   0.1646    \n",
              "qd23            0.1776     0.1004   1.769   0.0821 .  \n",
              "---\n",
              "Signif. codes:  0 '***' 0.001 '**' 0.01 '*' 0.05 '.' 0.1 ' ' 1\n",
              "\n",
              "Residual standard error: 1.151 on 59 degrees of freedom\n",
              "Multiple R-squared:  0.4339,\tAdjusted R-squared:  0.3571 \n",
              "F-statistic: 5.652 on 8 and 59 DF,  p-value: 2.492e-05\n"
            ]
          },
          "metadata": {}
        }
      ]
    },
    {
      "cell_type": "markdown",
      "source": [
        "Motorola's analysis does not reveal any significant factors influencing WTP. This might indicate that Motorola customers do not place as much emphasis on quality dimensions when considering paying a premium. This might be a understandable result as the brand is known for offering competitive phones on a reasonable budget.\n",
        "\n"
      ],
      "metadata": {
        "id": "zIlLwC1ulqyD"
      }
    },
    {
      "cell_type": "code",
      "source": [
        "summary(model_lm_other)"
      ],
      "metadata": {
        "colab": {
          "base_uri": "https://localhost:8080/",
          "height": 510
        },
        "id": "UGoS26bUO8I0",
        "outputId": "992ad109-38d6-4074-f5f4-a3fa67d0ece6"
      },
      "execution_count": null,
      "outputs": [
        {
          "output_type": "display_data",
          "data": {
            "text/plain": [
              "\n",
              "Call:\n",
              "lm(formula = mean_wtp ~ Servicability + Performance + Appearance + \n",
              "    EaseofUse + Features + Conformance + Reliability + qd23, \n",
              "    data = other_df)\n",
              "\n",
              "Residuals:\n",
              "     Min       1Q   Median       3Q      Max \n",
              "-1.90608 -0.68949  0.07864  0.61060  2.22759 \n",
              "\n",
              "Coefficients:\n",
              "              Estimate Std. Error t value Pr(>|t|)    \n",
              "(Intercept)    3.28176    0.30913  10.616 1.72e-15 ***\n",
              "Servicability  0.06198    0.13877   0.447   0.6567    \n",
              "Performance    0.28011    0.24752   1.132   0.2622    \n",
              "Appearance     0.15815    0.24279   0.651   0.5172    \n",
              "EaseofUse     -0.15395    0.18958  -0.812   0.4199    \n",
              "Features      -0.06618    0.19462  -0.340   0.7350    \n",
              "Conformance    0.06264    0.19771   0.317   0.7525    \n",
              "Reliability    0.46772    0.20819   2.247   0.0283 *  \n",
              "qd23           0.16329    0.07294   2.239   0.0288 *  \n",
              "---\n",
              "Signif. codes:  0 '***' 0.001 '**' 0.01 '*' 0.05 '.' 0.1 ' ' 1\n",
              "\n",
              "Residual standard error: 1.033 on 61 degrees of freedom\n",
              "Multiple R-squared:  0.4608,\tAdjusted R-squared:  0.3901 \n",
              "F-statistic: 6.516 on 8 and 61 DF,  p-value: 4.127e-06\n"
            ]
          },
          "metadata": {}
        }
      ]
    },
    {
      "cell_type": "markdown",
      "source": [
        "The Other brands category shows that 'Reliability' is a significant factor, with a positive relationship with WTPP, suggesting that customers of these brands are willing to invest more in products they can depend on. Again, qd23 is not a significant factor for these brands, which could imply that while reliable performance is valued, the prestige of the product is not a driving force for higher payment."
      ],
      "metadata": {
        "id": "Q6Xrwybjj9ll"
      }
    },
    {
      "cell_type": "markdown",
      "source": [
        "Features and Reliability factors appear to influence WTP for multiple brands in general, although the magnitude and significance of these effects vary. This suggests that while certain quality aspects are universally valued, their impact on WTP is brand-specific.\n",
        "\n",
        "Points of difference are seen in the varying importance of Ease of Use for Samsung, Appearance for Apple, and Conformance for LG, highlighting that different brands should tailor their approaches to emphasize the factors that their customers value the most when considering paying a premium.\n",
        "\n",
        "In summary, the findings suggest that brands should focus on the quality dimensions that are most influential for their customers when willing to pay a premium. Samsung and Apple may benefit from investing in feature innovation and user experience design, LG should ensure product conformance, and the Other category brands should focus on enhancing the reliability of their products. Each brand needs to strategically prioritize these areas to align with their customer's values and maximize their market positioning."
      ],
      "metadata": {
        "id": "6npJ3yDYkH7n"
      }
    },
    {
      "cell_type": "markdown",
      "source": [
        "In summary, Samsung and Apple customers appear to see their smartphones as symbols of prestige, contributing to their WTP significantly.\n",
        "\n",
        "In contrast, customers of LG and the Other category brands do not significantly associate prestige with WTP. Instead, conformance to expected quality and reliability is more influential. For Motorola, neither prestige nor the quality dimensions included in the model seem to impact the willingness to pay a premium.\n",
        "\n",
        "In summary, each brand should leverage on these quality dimensions that are most influential for their customers when willing to pay a premium, to align with their customer's values and maximize their market positioning. This could be achieved for example with Samsung and Apple aiming on improving brand prestige and LG focusing on quality conformance to justify premium pricing strategies."
      ],
      "metadata": {
        "id": "HlKMDOnCmBUc"
      }
    },
    {
      "cell_type": "markdown",
      "source": [
        "To conclude our work in a few words, this comprehensive study of factor analysis and regression modeling was a very effective way to reveal the latent dimensions of smartphone quality that significantly impact consumer repurchase intentions and willingness to pay a premium. Our analyses portrayed some very critical factors such as Features, Performance, and Ease of Use as frequently preferred drivers of customer loyalty and value perception across several major brands.\n",
        "\n",
        "The study highlighted the unique position of each brand in terms of these factors: Samsung customers place their value on Ease of Use and innovative Features, Apple users on Features and Design, while LG patrons prioritize Conformance. The notable influence of perceiving smartphones as a prestige item (qd23) across multiple brands emphasizes the importance of brand image in the premium market segment. These insights provide a very valuable and actionable guidance for brand managers to tailor their product and marketing strategies to reinforce these key factors and align with consumer priorities, therefore increasing competitive advantage and augmenting customer loyalty."
      ],
      "metadata": {
        "id": "reLbQTtPnDzb"
      }
    }
  ]
}