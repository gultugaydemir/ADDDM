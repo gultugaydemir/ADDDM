{
  "nbformat": 4,
  "nbformat_minor": 0,
  "metadata": {
    "colab": {
      "provenance": [],
      "collapsed_sections": [
        "PAzYPbbbmVVI",
        "UPE8bAuYmipr",
        "lxPcIkaMhhoy"
      ]
    },
    "kernelspec": {
      "name": "ir",
      "display_name": "R"
    },
    "language_info": {
      "name": "R"
    }
  },
  "cells": [
    {
      "cell_type": "markdown",
      "source": [
        "# ADDDM Case Study I: Heliotronics - Estimating an Experience Curve"
      ],
      "metadata": {
        "id": "6TZyMH6nZ6hC"
      }
    },
    {
      "cell_type": "markdown",
      "source": [
        "Group 11:\n",
        "\n",
        "*   Yasaman Sadat Mirrezaei Roudaki\n",
        "*   Zeynep Gultug Aydemir"
      ],
      "metadata": {
        "id": "HVCXStb-afVk"
      }
    },
    {
      "cell_type": "markdown",
      "source": [
        "# Setting Up"
      ],
      "metadata": {
        "id": "uaYPfzx8yphC"
      }
    },
    {
      "cell_type": "markdown",
      "source": [
        "We're installing and importing the libraries we'll be needing to complete the analysis."
      ],
      "metadata": {
        "id": "bdB9glVRHOvo"
      }
    },
    {
      "cell_type": "code",
      "source": [
        "install.packages('lm.beta')\n",
        "install.packages('ggplot2')"
      ],
      "metadata": {
        "colab": {
          "base_uri": "https://localhost:8080/"
        },
        "id": "1WgI6qxPyoaa",
        "outputId": "75c025f6-00ae-4c2c-9135-155fc7ca84ed"
      },
      "execution_count": null,
      "outputs": [
        {
          "output_type": "stream",
          "name": "stderr",
          "text": [
            "Installing package into ‘/usr/local/lib/R/site-library’\n",
            "(as ‘lib’ is unspecified)\n",
            "\n",
            "Installing package into ‘/usr/local/lib/R/site-library’\n",
            "(as ‘lib’ is unspecified)\n",
            "\n",
            "also installing the dependency ‘xtable’\n",
            "\n",
            "\n",
            "Installing package into ‘/usr/local/lib/R/site-library’\n",
            "(as ‘lib’ is unspecified)\n",
            "\n"
          ]
        }
      ]
    },
    {
      "cell_type": "code",
      "source": [
        "library(ggplot2)\n",
        "library(lm.beta)"
      ],
      "metadata": {
        "id": "TTWdQJysyt7i"
      },
      "execution_count": null,
      "outputs": []
    },
    {
      "cell_type": "markdown",
      "source": [
        "Cleaning the memory before we start working on a new analysis is always a good practice."
      ],
      "metadata": {
        "id": "vZR0Cq_hHevG"
      }
    },
    {
      "cell_type": "code",
      "source": [
        "rm(list=ls())"
      ],
      "metadata": {
        "id": "0Ce-XzJ5HdyE"
      },
      "execution_count": null,
      "outputs": []
    },
    {
      "cell_type": "markdown",
      "source": [
        "# Q1 - Log Transformation"
      ],
      "metadata": {
        "id": "xhse7nxchmVC"
      }
    },
    {
      "cell_type": "markdown",
      "source": [
        "We start by exploring the data and the variables."
      ],
      "metadata": {
        "id": "04D-x-UBNJ4T"
      }
    },
    {
      "cell_type": "code",
      "source": [
        "data = read.csv(\"Case_Study_1.csv\")"
      ],
      "metadata": {
        "id": "nKbQjrw3aODi"
      },
      "execution_count": null,
      "outputs": []
    },
    {
      "cell_type": "code",
      "source": [
        "colnames(data)=c(\"X_number_of_solar_panels\", \"Y_manufacturing_cost\")"
      ],
      "metadata": {
        "id": "rLXsZGTWdUyR"
      },
      "execution_count": null,
      "outputs": []
    },
    {
      "cell_type": "code",
      "source": [
        "data"
      ],
      "metadata": {
        "colab": {
          "base_uri": "https://localhost:8080/",
          "height": 788
        },
        "id": "dSFrFAjSdaxh",
        "outputId": "5747408f-9b44-4b00-d0cc-9bda7c6ce998"
      },
      "execution_count": null,
      "outputs": [
        {
          "output_type": "display_data",
          "data": {
            "text/html": [
              "<table class=\"dataframe\">\n",
              "<caption>A data.frame: 22 × 2</caption>\n",
              "<thead>\n",
              "\t<tr><th scope=col>X_number_of_solar_panels</th><th scope=col>Y_manufacturing_cost</th></tr>\n",
              "\t<tr><th scope=col>&lt;int&gt;</th><th scope=col>&lt;dbl&gt;</th></tr>\n",
              "</thead>\n",
              "<tbody>\n",
              "\t<tr><td> 100</td><td>1250.0</td></tr>\n",
              "\t<tr><td> 200</td><td>1108.7</td></tr>\n",
              "\t<tr><td> 300</td><td>1053.5</td></tr>\n",
              "\t<tr><td> 400</td><td>1033.4</td></tr>\n",
              "\t<tr><td> 500</td><td> 989.8</td></tr>\n",
              "\t<tr><td> 600</td><td> 999.0</td></tr>\n",
              "\t<tr><td> 700</td><td> 914.9</td></tr>\n",
              "\t<tr><td> 800</td><td> 931.0</td></tr>\n",
              "\t<tr><td> 900</td><td> 922.3</td></tr>\n",
              "\t<tr><td>1000</td><td> 861.9</td></tr>\n",
              "\t<tr><td>1100</td><td> 820.9</td></tr>\n",
              "\t<tr><td>1200</td><td> 823.2</td></tr>\n",
              "\t<tr><td>1300</td><td> 876.7</td></tr>\n",
              "\t<tr><td>1400</td><td> 817.2</td></tr>\n",
              "\t<tr><td>1500</td><td> 837.2</td></tr>\n",
              "\t<tr><td>1600</td><td> 815.3</td></tr>\n",
              "\t<tr><td>1700</td><td> 804.6</td></tr>\n",
              "\t<tr><td>1800</td><td> 765.3</td></tr>\n",
              "\t<tr><td>1900</td><td> 820.6</td></tr>\n",
              "\t<tr><td>2000</td><td> 828.1</td></tr>\n",
              "\t<tr><td>2100</td><td> 765.2</td></tr>\n",
              "\t<tr><td>2200</td><td> 784.5</td></tr>\n",
              "</tbody>\n",
              "</table>\n"
            ],
            "text/markdown": "\nA data.frame: 22 × 2\n\n| X_number_of_solar_panels &lt;int&gt; | Y_manufacturing_cost &lt;dbl&gt; |\n|---|---|\n|  100 | 1250.0 |\n|  200 | 1108.7 |\n|  300 | 1053.5 |\n|  400 | 1033.4 |\n|  500 |  989.8 |\n|  600 |  999.0 |\n|  700 |  914.9 |\n|  800 |  931.0 |\n|  900 |  922.3 |\n| 1000 |  861.9 |\n| 1100 |  820.9 |\n| 1200 |  823.2 |\n| 1300 |  876.7 |\n| 1400 |  817.2 |\n| 1500 |  837.2 |\n| 1600 |  815.3 |\n| 1700 |  804.6 |\n| 1800 |  765.3 |\n| 1900 |  820.6 |\n| 2000 |  828.1 |\n| 2100 |  765.2 |\n| 2200 |  784.5 |\n\n",
            "text/latex": "A data.frame: 22 × 2\n\\begin{tabular}{ll}\n X\\_number\\_of\\_solar\\_panels & Y\\_manufacturing\\_cost\\\\\n <int> & <dbl>\\\\\n\\hline\n\t  100 & 1250.0\\\\\n\t  200 & 1108.7\\\\\n\t  300 & 1053.5\\\\\n\t  400 & 1033.4\\\\\n\t  500 &  989.8\\\\\n\t  600 &  999.0\\\\\n\t  700 &  914.9\\\\\n\t  800 &  931.0\\\\\n\t  900 &  922.3\\\\\n\t 1000 &  861.9\\\\\n\t 1100 &  820.9\\\\\n\t 1200 &  823.2\\\\\n\t 1300 &  876.7\\\\\n\t 1400 &  817.2\\\\\n\t 1500 &  837.2\\\\\n\t 1600 &  815.3\\\\\n\t 1700 &  804.6\\\\\n\t 1800 &  765.3\\\\\n\t 1900 &  820.6\\\\\n\t 2000 &  828.1\\\\\n\t 2100 &  765.2\\\\\n\t 2200 &  784.5\\\\\n\\end{tabular}\n",
            "text/plain": [
              "   X_number_of_solar_panels Y_manufacturing_cost\n",
              "1   100                     1250.0              \n",
              "2   200                     1108.7              \n",
              "3   300                     1053.5              \n",
              "4   400                     1033.4              \n",
              "5   500                      989.8              \n",
              "6   600                      999.0              \n",
              "7   700                      914.9              \n",
              "8   800                      931.0              \n",
              "9   900                      922.3              \n",
              "10 1000                      861.9              \n",
              "11 1100                      820.9              \n",
              "12 1200                      823.2              \n",
              "13 1300                      876.7              \n",
              "14 1400                      817.2              \n",
              "15 1500                      837.2              \n",
              "16 1600                      815.3              \n",
              "17 1700                      804.6              \n",
              "18 1800                      765.3              \n",
              "19 1900                      820.6              \n",
              "20 2000                      828.1              \n",
              "21 2100                      765.2              \n",
              "22 2200                      784.5              "
            ]
          },
          "metadata": {}
        }
      ]
    },
    {
      "cell_type": "markdown",
      "source": [
        "It seems that our data has one dependent Y (manufacturing cost) and one independent X (number of solar panels) variable. Now let's make a scatter plot to observe the trend and the relationship between these variables closer."
      ],
      "metadata": {
        "id": "WofSqpG3NOv6"
      }
    },
    {
      "cell_type": "code",
      "source": [
        "ggplot(data, aes(x = X_number_of_solar_panels, y = Y_manufacturing_cost)) +\n",
        "  geom_point() +\n",
        "  geom_smooth()+\n",
        "  ggtitle(\"Heliotronics\") +\n",
        "  xlab(\"X: Number of Solar Panels\") +\n",
        "  ylab(\"Y: Manufacturing Cost\")"
      ],
      "metadata": {
        "colab": {
          "base_uri": "https://localhost:8080/",
          "height": 454
        },
        "id": "lneLQUVRdfAp",
        "outputId": "f74713b6-cd8f-4c73-bd72-5b0fd60bb0e3"
      },
      "execution_count": null,
      "outputs": [
        {
          "output_type": "stream",
          "name": "stderr",
          "text": [
            "\u001b[1m\u001b[22m`geom_smooth()` using method = 'loess' and formula = 'y ~ x'\n"
          ]
        },
        {
          "output_type": "display_data",
          "data": {
            "text/plain": [
              "plot without title"
            ],
            "image/png": "[encoded data removed]"
          },
          "metadata": {
            "image/png": {
              "width": 420,
              "height": 420
            }
          }
        }
      ]
    },
    {
      "cell_type": "markdown",
      "source": [
        "According to the exploration and visual assessment of Heliotronics’ manufacturing costs suggest a potential fit with the multiplicative learning model. The declining values in the 'manufacturing_cost'(y) as 'number_of_solar_panels' (X) increases are consistent with the experience curve concept, where the cost per unit decreases with the accumulated production."
      ],
      "metadata": {
        "id": "FdRaX9vTI2iy"
      }
    },
    {
      "cell_type": "markdown",
      "source": [
        "However, a log transformation of the data before building the regression model is necessary to confirm the model's applicability.\n",
        "\n",
        "If we assume that a linear relationship is present, we should expect the data points to align with a straight line after we plot the log-transformed manufacturing costs and number of solar panels. In this case, this would indicate that the multiplicative learning model is indeed a good fit for the dataset."
      ],
      "metadata": {
        "id": "N1gugbcZIu5V"
      }
    },
    {
      "cell_type": "markdown",
      "source": [
        "So we continue our studies by adding the log10 transformed columns of both X and y values:"
      ],
      "metadata": {
        "id": "Jc9vqhvlIv1H"
      }
    },
    {
      "cell_type": "code",
      "source": [
        "data=data%>%mutate(X_log10_number_of_solar_panels=log10(X_number_of_solar_panels))\n",
        "data=data%>% mutate(Y_log10_manufacturing_cost=log10(Y_manufacturing_cost))"
      ],
      "metadata": {
        "id": "Rz6x3D0tdXPV"
      },
      "execution_count": null,
      "outputs": []
    },
    {
      "cell_type": "code",
      "source": [
        "data"
      ],
      "metadata": {
        "colab": {
          "base_uri": "https://localhost:8080/",
          "height": 788
        },
        "id": "vmWAbQpqfP7c",
        "outputId": "ff12fc40-581d-4ebe-cd84-988a1eda83c7"
      },
      "execution_count": null,
      "outputs": [
        {
          "output_type": "display_data",
          "data": {
            "text/html": [
              "<table class=\"dataframe\">\n",
              "<caption>A data.frame: 22 × 4</caption>\n",
              "<thead>\n",
              "\t<tr><th scope=col>X_number_of_solar_panels</th><th scope=col>Y_manufacturing_cost</th><th scope=col>X_log10_number_of_solar_panels</th><th scope=col>Y_log10_manufacturing_cost</th></tr>\n",
              "\t<tr><th scope=col>&lt;int&gt;</th><th scope=col>&lt;dbl&gt;</th><th scope=col>&lt;dbl&gt;</th><th scope=col>&lt;dbl&gt;</th></tr>\n",
              "</thead>\n",
              "<tbody>\n",
              "\t<tr><td> 100</td><td>1250.0</td><td>2.000000</td><td>3.096910</td></tr>\n",
              "\t<tr><td> 200</td><td>1108.7</td><td>2.301030</td><td>3.044814</td></tr>\n",
              "\t<tr><td> 300</td><td>1053.5</td><td>2.477121</td><td>3.022635</td></tr>\n",
              "\t<tr><td> 400</td><td>1033.4</td><td>2.602060</td><td>3.014268</td></tr>\n",
              "\t<tr><td> 500</td><td> 989.8</td><td>2.698970</td><td>2.995547</td></tr>\n",
              "\t<tr><td> 600</td><td> 999.0</td><td>2.778151</td><td>2.999565</td></tr>\n",
              "\t<tr><td> 700</td><td> 914.9</td><td>2.845098</td><td>2.961374</td></tr>\n",
              "\t<tr><td> 800</td><td> 931.0</td><td>2.903090</td><td>2.968950</td></tr>\n",
              "\t<tr><td> 900</td><td> 922.3</td><td>2.954243</td><td>2.964872</td></tr>\n",
              "\t<tr><td>1000</td><td> 861.9</td><td>3.000000</td><td>2.935457</td></tr>\n",
              "\t<tr><td>1100</td><td> 820.9</td><td>3.041393</td><td>2.914290</td></tr>\n",
              "\t<tr><td>1200</td><td> 823.2</td><td>3.079181</td><td>2.915505</td></tr>\n",
              "\t<tr><td>1300</td><td> 876.7</td><td>3.113943</td><td>2.942851</td></tr>\n",
              "\t<tr><td>1400</td><td> 817.2</td><td>3.146128</td><td>2.912328</td></tr>\n",
              "\t<tr><td>1500</td><td> 837.2</td><td>3.176091</td><td>2.922829</td></tr>\n",
              "\t<tr><td>1600</td><td> 815.3</td><td>3.204120</td><td>2.911317</td></tr>\n",
              "\t<tr><td>1700</td><td> 804.6</td><td>3.230449</td><td>2.905580</td></tr>\n",
              "\t<tr><td>1800</td><td> 765.3</td><td>3.255273</td><td>2.883832</td></tr>\n",
              "\t<tr><td>1900</td><td> 820.6</td><td>3.278754</td><td>2.914132</td></tr>\n",
              "\t<tr><td>2000</td><td> 828.1</td><td>3.301030</td><td>2.918083</td></tr>\n",
              "\t<tr><td>2100</td><td> 765.2</td><td>3.322219</td><td>2.883775</td></tr>\n",
              "\t<tr><td>2200</td><td> 784.5</td><td>3.342423</td><td>2.894593</td></tr>\n",
              "</tbody>\n",
              "</table>\n"
            ],
            "text/markdown": "\nA data.frame: 22 × 4\n\n| X_number_of_solar_panels &lt;int&gt; | Y_manufacturing_cost &lt;dbl&gt; | X_log10_number_of_solar_panels &lt;dbl&gt; | Y_log10_manufacturing_cost &lt;dbl&gt; |\n|---|---|---|---|\n|  100 | 1250.0 | 2.000000 | 3.096910 |\n|  200 | 1108.7 | 2.301030 | 3.044814 |\n|  300 | 1053.5 | 2.477121 | 3.022635 |\n|  400 | 1033.4 | 2.602060 | 3.014268 |\n|  500 |  989.8 | 2.698970 | 2.995547 |\n|  600 |  999.0 | 2.778151 | 2.999565 |\n|  700 |  914.9 | 2.845098 | 2.961374 |\n|  800 |  931.0 | 2.903090 | 2.968950 |\n|  900 |  922.3 | 2.954243 | 2.964872 |\n| 1000 |  861.9 | 3.000000 | 2.935457 |\n| 1100 |  820.9 | 3.041393 | 2.914290 |\n| 1200 |  823.2 | 3.079181 | 2.915505 |\n| 1300 |  876.7 | 3.113943 | 2.942851 |\n| 1400 |  817.2 | 3.146128 | 2.912328 |\n| 1500 |  837.2 | 3.176091 | 2.922829 |\n| 1600 |  815.3 | 3.204120 | 2.911317 |\n| 1700 |  804.6 | 3.230449 | 2.905580 |\n| 1800 |  765.3 | 3.255273 | 2.883832 |\n| 1900 |  820.6 | 3.278754 | 2.914132 |\n| 2000 |  828.1 | 3.301030 | 2.918083 |\n| 2100 |  765.2 | 3.322219 | 2.883775 |\n| 2200 |  784.5 | 3.342423 | 2.894593 |\n\n",
            "text/latex": "A data.frame: 22 × 4\n\\begin{tabular}{llll}\n X\\_number\\_of\\_solar\\_panels & Y\\_manufacturing\\_cost & X\\_log10\\_number\\_of\\_solar\\_panels & Y\\_log10\\_manufacturing\\_cost\\\\\n <int> & <dbl> & <dbl> & <dbl>\\\\\n\\hline\n\t  100 & 1250.0 & 2.000000 & 3.096910\\\\\n\t  200 & 1108.7 & 2.301030 & 3.044814\\\\\n\t  300 & 1053.5 & 2.477121 & 3.022635\\\\\n\t  400 & 1033.4 & 2.602060 & 3.014268\\\\\n\t  500 &  989.8 & 2.698970 & 2.995547\\\\\n\t  600 &  999.0 & 2.778151 & 2.999565\\\\\n\t  700 &  914.9 & 2.845098 & 2.961374\\\\\n\t  800 &  931.0 & 2.903090 & 2.968950\\\\\n\t  900 &  922.3 & 2.954243 & 2.964872\\\\\n\t 1000 &  861.9 & 3.000000 & 2.935457\\\\\n\t 1100 &  820.9 & 3.041393 & 2.914290\\\\\n\t 1200 &  823.2 & 3.079181 & 2.915505\\\\\n\t 1300 &  876.7 & 3.113943 & 2.942851\\\\\n\t 1400 &  817.2 & 3.146128 & 2.912328\\\\\n\t 1500 &  837.2 & 3.176091 & 2.922829\\\\\n\t 1600 &  815.3 & 3.204120 & 2.911317\\\\\n\t 1700 &  804.6 & 3.230449 & 2.905580\\\\\n\t 1800 &  765.3 & 3.255273 & 2.883832\\\\\n\t 1900 &  820.6 & 3.278754 & 2.914132\\\\\n\t 2000 &  828.1 & 3.301030 & 2.918083\\\\\n\t 2100 &  765.2 & 3.322219 & 2.883775\\\\\n\t 2200 &  784.5 & 3.342423 & 2.894593\\\\\n\\end{tabular}\n",
            "text/plain": [
              "   X_number_of_solar_panels Y_manufacturing_cost X_log10_number_of_solar_panels\n",
              "1   100                     1250.0               2.000000                      \n",
              "2   200                     1108.7               2.301030                      \n",
              "3   300                     1053.5               2.477121                      \n",
              "4   400                     1033.4               2.602060                      \n",
              "5   500                      989.8               2.698970                      \n",
              "6   600                      999.0               2.778151                      \n",
              "7   700                      914.9               2.845098                      \n",
              "8   800                      931.0               2.903090                      \n",
              "9   900                      922.3               2.954243                      \n",
              "10 1000                      861.9               3.000000                      \n",
              "11 1100                      820.9               3.041393                      \n",
              "12 1200                      823.2               3.079181                      \n",
              "13 1300                      876.7               3.113943                      \n",
              "14 1400                      817.2               3.146128                      \n",
              "15 1500                      837.2               3.176091                      \n",
              "16 1600                      815.3               3.204120                      \n",
              "17 1700                      804.6               3.230449                      \n",
              "18 1800                      765.3               3.255273                      \n",
              "19 1900                      820.6               3.278754                      \n",
              "20 2000                      828.1               3.301030                      \n",
              "21 2100                      765.2               3.322219                      \n",
              "22 2200                      784.5               3.342423                      \n",
              "   Y_log10_manufacturing_cost\n",
              "1  3.096910                  \n",
              "2  3.044814                  \n",
              "3  3.022635                  \n",
              "4  3.014268                  \n",
              "5  2.995547                  \n",
              "6  2.999565                  \n",
              "7  2.961374                  \n",
              "8  2.968950                  \n",
              "9  2.964872                  \n",
              "10 2.935457                  \n",
              "11 2.914290                  \n",
              "12 2.915505                  \n",
              "13 2.942851                  \n",
              "14 2.912328                  \n",
              "15 2.922829                  \n",
              "16 2.911317                  \n",
              "17 2.905580                  \n",
              "18 2.883832                  \n",
              "19 2.914132                  \n",
              "20 2.918083                  \n",
              "21 2.883775                  \n",
              "22 2.894593                  "
            ]
          },
          "metadata": {}
        }
      ]
    },
    {
      "cell_type": "markdown",
      "source": [
        "Now that we applied the log10 transformation on the data, we can visualize again to see how the plot has changed."
      ],
      "metadata": {
        "id": "Xqyo5aTZN78S"
      }
    },
    {
      "cell_type": "code",
      "source": [
        "ggplot(data, aes(x = X_log10_number_of_solar_panels, y = Y_log10_manufacturing_cost)) +\n",
        "  geom_point() +\n",
        "  geom_smooth(method=\"lm\")+\n",
        "  ggtitle(\"Log Transformed Data\") +\n",
        "  xlab(\"X: Number of Solar Panels\") +\n",
        "  ylab(\"y: Manufacturing Cost\")"
      ],
      "metadata": {
        "colab": {
          "base_uri": "https://localhost:8080/",
          "height": 454
        },
        "id": "W91y8dvffXaL",
        "outputId": "451cc90b-5b8c-444d-f24e-439a735575fb"
      },
      "execution_count": null,
      "outputs": [
        {
          "output_type": "stream",
          "name": "stderr",
          "text": [
            "\u001b[1m\u001b[22m`geom_smooth()` using formula = 'y ~ x'\n"
          ]
        },
        {
          "output_type": "display_data",
          "data": {
            "text/plain": [
              "plot without title"
            ],
            "image/png": "[encoded data removed]"
          },
          "metadata": {
            "image/png": {
              "width": 420,
              "height": 420
            }
          }
        }
      ]
    },
    {
      "cell_type": "markdown",
      "source": [
        "Indeed, the scatter plot with log-transformed data indicates rhe presence of a linear trend line and supports the applicability of the multiplicative learning model for Heliotronics’ manufacturing costs."
      ],
      "metadata": {
        "id": "puSduSyTJpgr"
      }
    },
    {
      "cell_type": "markdown",
      "source": [
        "From this plot, we can now conclude that the multiplicative model Y=AX^b is suitable for the dataset since the log transformation has linearized the relationship, allowing us to practice the linear regression techniques.\n",
        "\n",
        "The slope of the trend line in this plot will give an estimate of our parameter 'b', which represents the experience curve effect in the model."
      ],
      "metadata": {
        "id": "qbYeKLxfJ54Z"
      }
    },
    {
      "cell_type": "markdown",
      "source": [
        "# Q2 - Regression Model & Learning Rate"
      ],
      "metadata": {
        "id": "PAzYPbbbmVVI"
      }
    },
    {
      "cell_type": "markdown",
      "source": [
        "Now we move forward by fitting our model with the log-transformed data: manufacturing costs as dependent dependent variable and number of solar panels as the independent variable."
      ],
      "metadata": {
        "id": "j838Zi87LC4w"
      }
    },
    {
      "cell_type": "code",
      "source": [
        "model=with(data,lm(Y_log10_manufacturing_cost~X_log10_number_of_solar_panels))"
      ],
      "metadata": {
        "id": "9Vf9RWIBgXTu"
      },
      "execution_count": null,
      "outputs": []
    },
    {
      "cell_type": "code",
      "source": [
        "summary(model)"
      ],
      "metadata": {
        "colab": {
          "base_uri": "https://localhost:8080/",
          "height": 329
        },
        "id": "93spjvSOgpfp",
        "outputId": "4ac0019e-31a9-46ea-ef01-3cafade295d6"
      },
      "execution_count": null,
      "outputs": [
        {
          "output_type": "display_data",
          "data": {
            "text/plain": [
              "\n",
              "Call:\n",
              "lm(formula = Y_log10_manufacturing_cost ~ X_log10_number_of_solar_panels)\n",
              "\n",
              "Residuals:\n",
              "      Min        1Q    Median        3Q       Max \n",
              "-0.023675 -0.008668 -0.001944  0.009214  0.020800 \n",
              "\n",
              "Coefficients:\n",
              "                                Estimate Std. Error t value Pr(>|t|)    \n",
              "(Intercept)                     3.409353   0.023629  144.28  < 2e-16 ***\n",
              "X_log10_number_of_solar_panels -0.154991   0.007936  -19.53  1.7e-14 ***\n",
              "---\n",
              "Signif. codes:  0 ‘***’ 0.001 ‘**’ 0.01 ‘*’ 0.05 ‘.’ 0.1 ‘ ’ 1\n",
              "\n",
              "Residual standard error: 0.01299 on 20 degrees of freedom\n",
              "Multiple R-squared:  0.9502,\tAdjusted R-squared:  0.9477 \n",
              "F-statistic: 381.4 on 1 and 20 DF,  p-value: 1.701e-14\n"
            ]
          },
          "metadata": {}
        }
      ]
    },
    {
      "cell_type": "markdown",
      "source": [
        "The regression analysis results displays a strong linear relationship between the variables and high value of the adjusted R-squared (0.9477) confirms that the model explains a significant proportion of the variability in the manufacturing costs."
      ],
      "metadata": {
        "id": "AqbAN3i-LmrE"
      }
    },
    {
      "cell_type": "markdown",
      "source": [
        "The slope of the regression line is calculated as -0.154991, which represents the experience parameter 'b' when retransformed from the logarithmic scale."
      ],
      "metadata": {
        "id": "xnPrBh5uLzQX"
      }
    },
    {
      "cell_type": "code",
      "source": [
        "slope = -0.154991 # experience parameter, b (multiplied by -1 already)\n",
        "intercept = 3.409353 # the production cost of the first unit, A"
      ],
      "metadata": {
        "id": "TQ1V9vSkzXZI"
      },
      "execution_count": null,
      "outputs": []
    },
    {
      "cell_type": "markdown",
      "source": [
        "To interpret this value in terms of the learning rate, the progress ratio is calculated as 2^(-b)."
      ],
      "metadata": {
        "id": "7aQDuKH9L7mZ"
      }
    },
    {
      "cell_type": "code",
      "source": [
        "progress_ratio = 2 ** slope\n",
        "progress_ratio"
      ],
      "metadata": {
        "colab": {
          "base_uri": "https://localhost:8080/",
          "height": 34
        },
        "id": "BQ2Zc1kuzRBA",
        "outputId": "321bfdb4-567e-4199-9cf0-2603c923720c"
      },
      "execution_count": null,
      "outputs": [
        {
          "output_type": "display_data",
          "data": {
            "text/html": [
              "0.898137975742709"
            ],
            "text/markdown": "0.898137975742709",
            "text/latex": "0.898137975742709",
            "text/plain": [
              "[1] 0.898138"
            ]
          },
          "metadata": {}
        }
      ]
    },
    {
      "cell_type": "markdown",
      "source": [
        "The progress ratio is approximately 0.898.\n",
        "\n",
        "This tells us that each time the cumulative production doubles, the manufacturing cost per unit falls to 89.8% of the previous cost."
      ],
      "metadata": {
        "id": "AUepJKmvMHiI"
      }
    },
    {
      "cell_type": "markdown",
      "source": [
        "And finally we calculate the learning rate is calculated as\n",
        "(1−progress ratio)×100."
      ],
      "metadata": {
        "id": "6dcabin9MXp4"
      }
    },
    {
      "cell_type": "code",
      "source": [
        "learning_rate = 1 - progress_ratio\n",
        "learning_rate"
      ],
      "metadata": {
        "colab": {
          "base_uri": "https://localhost:8080/",
          "height": 34
        },
        "id": "X2uHq8ErmdGX",
        "outputId": "8771d937-0e1f-4569-adfc-0408e8a6bcf6"
      },
      "execution_count": null,
      "outputs": [
        {
          "output_type": "display_data",
          "data": {
            "text/html": [
              "0.101862024257291"
            ],
            "text/markdown": "0.101862024257291",
            "text/latex": "0.101862024257291",
            "text/plain": [
              "[1] 0.101862"
            ]
          },
          "metadata": {}
        }
      ]
    },
    {
      "cell_type": "markdown",
      "source": [
        "Which gives us an approximate value of 0.102.\n",
        "\n",
        "This means that for every doubling of the total number of solar panels produced, the manufacturing cost per unit decreases by about 10.2%."
      ],
      "metadata": {
        "id": "xcU_Uv2JMhUu"
      }
    },
    {
      "cell_type": "markdown",
      "source": [
        "Based on the results of this regression analysis, the multiplicative learning model fits well with Heliotronics' data, and the company experiences a 10.2% reduction in manufactiring costs per unit with each doubling of cumulative production. This learning rate can be used to estimate future costs and set competitive bidding strategies for the company."
      ],
      "metadata": {
        "id": "iLqvK10CMq3i"
      }
    },
    {
      "cell_type": "markdown",
      "source": [
        "# Q3 - Experience Curve & Prediction"
      ],
      "metadata": {
        "id": "UPE8bAuYmipr"
      }
    },
    {
      "cell_type": "code",
      "source": [
        "# Experience Curve: A+X*b\n",
        "# We calculate log10(Y) for X units\n",
        "# Then we take the antilog to find Y\n",
        "experience_curve <- function(x) {\n",
        "  return (10**(intercept + (log10(x)*slope)))\n",
        "}"
      ],
      "metadata": {
        "id": "8yirtWxXzdp_"
      },
      "execution_count": null,
      "outputs": []
    },
    {
      "cell_type": "code",
      "source": [
        "# For 100 and 2200 Units respectively to compare the estimated cost to the original cost\n",
        "experience_curve(100) # Original cost is 1250.0\n",
        "experience_curve(2200) # Original cost is 784.5"
      ],
      "metadata": {
        "colab": {
          "base_uri": "https://localhost:8080/",
          "height": 52
        },
        "id": "S7kQ8Oy62lW8",
        "outputId": "89318dd6-5c65-4579-a40b-b8bf2d47f2e2"
      },
      "execution_count": null,
      "outputs": [
        {
          "output_type": "display_data",
          "data": {
            "text/html": [
              "1257.10339711276"
            ],
            "text/markdown": "1257.10339711276",
            "text/latex": "1257.10339711276",
            "text/plain": [
              "[1] 1257.103"
            ]
          },
          "metadata": {}
        },
        {
          "output_type": "display_data",
          "data": {
            "text/html": [
              "778.587749754424"
            ],
            "text/markdown": "778.587749754424",
            "text/latex": "778.587749754424",
            "text/plain": [
              "[1] 778.5877"
            ]
          },
          "metadata": {}
        }
      ]
    },
    {
      "cell_type": "markdown",
      "source": [
        "By applying the experience curve model, we can predict the manufacturing costs for additional units of solar panels, including the 400 units for the Canton of Tessin, estimated to be produced in April 2022."
      ],
      "metadata": {
        "id": "ZLZg8ou7Q6kt"
      }
    },
    {
      "cell_type": "code",
      "source": [
        "total_cost = 0\n",
        "for (units in c(4700, 4800, 4900, 5000)){\n",
        "  estimate = experience_curve(units)\n",
        "  total_cost = total_cost + estimate\n",
        "  print(paste(\"Estimated manufacturing cost for\",units,\"units: $\", estimate))\n",
        "}"
      ],
      "metadata": {
        "colab": {
          "base_uri": "https://localhost:8080/"
        },
        "id": "j6Cm3Q6ARfaU",
        "outputId": "bbaed7e6-7585-473a-8073-18896e62824c"
      },
      "execution_count": null,
      "outputs": [
        {
          "output_type": "stream",
          "name": "stdout",
          "text": [
            "[1] \"Estimated manufacturing cost for 4700 units: $ 692.166985699305\"\n",
            "[1] \"Estimated manufacturing cost for 4800 units: $ 689.912064265608\"\n",
            "[1] \"Estimated manufacturing cost for 4900 units: $ 687.710759912505\"\n",
            "[1] \"Estimated manufacturing cost for 5000 units: $ 685.56074184444\"\n"
          ]
        }
      ]
    },
    {
      "cell_type": "markdown",
      "source": [
        "The estimated average manufacturing costs per solar panel for cumulative productions of 4700, 4800, 4900, and 5000 units are approximately \\$692.17, \\$689.91, \\$687.71, and \\$685.56 respectively."
      ],
      "metadata": {
        "id": "ePlak_JHREN7"
      }
    },
    {
      "cell_type": "markdown",
      "source": [
        "These figures not only align with the expected trend of decreasing costs as production volume increases, but also are consistent with the multiplicative learning model and the calculated learning rate of 10.2%:"
      ],
      "metadata": {
        "id": "jHngyAtQZZhW"
      }
    },
    {
      "cell_type": "code",
      "source": [
        "(experience_curve(2200)- experience_curve(4400)) / experience_curve(2200) * 100"
      ],
      "metadata": {
        "colab": {
          "base_uri": "https://localhost:8080/",
          "height": 34
        },
        "id": "mbaKn3TvVFkF",
        "outputId": "158d525a-fc30-496b-fb7b-be0c7ff36310"
      },
      "execution_count": null,
      "outputs": [
        {
          "output_type": "display_data",
          "data": {
            "text/html": [
              "10.1862024257292"
            ],
            "text/markdown": "10.1862024257292",
            "text/latex": "10.1862024257292",
            "text/plain": [
              "[1] 10.1862"
            ]
          },
          "metadata": {}
        }
      ]
    },
    {
      "cell_type": "markdown",
      "source": [
        "Therefore, to determine a competitive bid for the 400 solar panels, we can take the average of the estimated costs for the four estimated numbers of units above.\n",
        "\n"
      ],
      "metadata": {
        "id": "DGcvMMqxRJrN"
      }
    },
    {
      "cell_type": "code",
      "source": [
        "total_cost / 4"
      ],
      "metadata": {
        "colab": {
          "base_uri": "https://localhost:8080/",
          "height": 34
        },
        "id": "OjDtezUDSpbG",
        "outputId": "7e320b2e-5078-4f21-fa5d-be461d705947"
      },
      "execution_count": null,
      "outputs": [
        {
          "output_type": "display_data",
          "data": {
            "text/html": [
              "688.837637930465"
            ],
            "text/markdown": "688.837637930465",
            "text/latex": "688.837637930465",
            "text/plain": [
              "[1] 688.8376"
            ]
          },
          "metadata": {}
        }
      ]
    },
    {
      "cell_type": "markdown",
      "source": [
        "### As a result, estimated average manufacturing cost for the given numbers of units show that, approximately **$688.84** per solar panel for the 400 units will be produced for this project."
      ],
      "metadata": {
        "id": "9heRiEBJS6Bu"
      }
    },
    {
      "cell_type": "markdown",
      "source": [
        "# Q4 - Confidence Interval"
      ],
      "metadata": {
        "id": "lxPcIkaMhhoy"
      }
    },
    {
      "cell_type": "markdown",
      "source": [
        "For the last question in the Heliotronics case study, we're focusing on providing a precise estimate of the average manufacturing cost, taking the confidence intervals into consideration the model's predictions."
      ],
      "metadata": {
        "id": "r_bappU8hYVl"
      }
    },
    {
      "cell_type": "markdown",
      "source": [
        "In exercise 3, we calculated a simple estimated cost by averaging the estimated costs at specific production levels. Similarly, using the confidence intervals, we can restructure our experience curve function and we can now provide a range of prices:\n",
        "\n",
        "*   The lower bound of the average cost estimate would be used as a best-case scenario where production efficiencies are maximized, and the cost reductions are fully realized.\n",
        "*   The upper bound of the average cost estimate would represent a conservative scenario, ensuring that unforeseen costs or lower-than-anticipated learning rates do not negatively impact profitability.\n",
        "\n",
        "\n",
        "Heliotronics can use the midpoint of these two bounds to make an informed decision when determining a competitive, yet economically viable bid price."
      ],
      "metadata": {
        "id": "EGwcGEFElhnX"
      }
    },
    {
      "cell_type": "markdown",
      "source": [
        "By using the confint() function in R, we can first calculate the 95% confidence interval for both the slope and the intercept from our regression model:"
      ],
      "metadata": {
        "id": "viJ_Ruyzcjie"
      }
    },
    {
      "cell_type": "code",
      "source": [
        "conf_intervals <- confint(model, level = 0.95)\n",
        "conf_intervals"
      ],
      "metadata": {
        "colab": {
          "base_uri": "https://localhost:8080/",
          "height": 129
        },
        "id": "APv47G8ucAxX",
        "outputId": "120fa713-07e4-4ed3-f4ca-b27c75064a14"
      },
      "execution_count": null,
      "outputs": [
        {
          "output_type": "display_data",
          "data": {
            "text/html": [
              "<table class=\"dataframe\">\n",
              "<caption>A matrix: 2 × 2 of type dbl</caption>\n",
              "<thead>\n",
              "\t<tr><th></th><th scope=col>2.5 %</th><th scope=col>97.5 %</th></tr>\n",
              "</thead>\n",
              "<tbody>\n",
              "\t<tr><th scope=row>(Intercept)</th><td> 3.3600629</td><td> 3.4586432</td></tr>\n",
              "\t<tr><th scope=row>X_log10_number_of_solar_panels</th><td>-0.1715456</td><td>-0.1384356</td></tr>\n",
              "</tbody>\n",
              "</table>\n"
            ],
            "text/markdown": "\nA matrix: 2 × 2 of type dbl\n\n| <!--/--> | 2.5 % | 97.5 % |\n|---|---|---|\n| (Intercept) |  3.3600629 |  3.4586432 |\n| X_log10_number_of_solar_panels | -0.1715456 | -0.1384356 |\n\n",
            "text/latex": "A matrix: 2 × 2 of type dbl\n\\begin{tabular}{r|ll}\n  & 2.5 \\% & 97.5 \\%\\\\\n\\hline\n\t(Intercept) &  3.3600629 &  3.4586432\\\\\n\tX\\_log10\\_number\\_of\\_solar\\_panels & -0.1715456 & -0.1384356\\\\\n\\end{tabular}\n",
            "text/plain": [
              "                               2.5 %      97.5 %    \n",
              "(Intercept)                     3.3600629  3.4586432\n",
              "X_log10_number_of_solar_panels -0.1715456 -0.1384356"
            ]
          },
          "metadata": {}
        }
      ]
    },
    {
      "cell_type": "markdown",
      "source": [
        "These intervals represent the range of values for the slope and the intercept within which we can be 95% confident that the true values stand.\n",
        "\n",
        "Utilizing these intervals, we can estimate the lower and upper bounds for the average manufacturing cost for the estimated production amount when the 400 solar panels will be produced."
      ],
      "metadata": {
        "id": "OymM8JE0hoaU"
      }
    },
    {
      "cell_type": "markdown",
      "source": [
        "First we'll define the variables for lower and upper bounds of the intercept and the slope according to the results we got from confidence intervals."
      ],
      "metadata": {
        "id": "YnO_szTEgCNl"
      }
    },
    {
      "cell_type": "code",
      "source": [
        "lower_intercept <-conf_intervals[1, '2.5 %']\n",
        "upper_intercept <-conf_intervals[1, '97.5 %']\n",
        "\n",
        "lower_slope <- conf_intervals[2, '2.5 %']\n",
        "upper_slope <- conf_intervals[2, '97.5 %']"
      ],
      "metadata": {
        "id": "7FlbCZSacBSk"
      },
      "execution_count": null,
      "outputs": []
    },
    {
      "cell_type": "markdown",
      "source": [
        "Then we're setting up the new experience curve function, making the b and A parameters dynamic, so we can put the lower&upper bounds individually."
      ],
      "metadata": {
        "id": "b5N6kTtLgPgy"
      }
    },
    {
      "cell_type": "code",
      "source": [
        "# Experience Curve: A+X*b\n",
        "experience_curve_with_confidence <- function(x, conf_slope, conf_intercept) {\n",
        "  return (10**(conf_intercept + (log10(x)*conf_slope)))\n",
        "}"
      ],
      "metadata": {
        "id": "LMPmsmz5creb"
      },
      "execution_count": null,
      "outputs": []
    },
    {
      "cell_type": "markdown",
      "source": [
        "Calculations for lower bounds of CI:"
      ],
      "metadata": {
        "id": "8R3cUVKihNRf"
      }
    },
    {
      "cell_type": "code",
      "source": [
        "lower_total_cost = 0\n",
        "for (units in c(4700, 4800, 4900, 5000)){\n",
        "  estimate = experience_curve_with_confidence(units, lower_slope, lower_intercept)\n",
        "  lower_total_cost = lower_total_cost + estimate\n",
        "  print(paste(\"Lower bounds of the confidence interval estimate for \",units,\"units: $\", estimate))\n",
        "}"
      ],
      "metadata": {
        "colab": {
          "base_uri": "https://localhost:8080/"
        },
        "id": "PFbJyZPBdqfM",
        "outputId": "eb9090ce-8768-4358-ec22-61037a5a284f"
      },
      "execution_count": null,
      "outputs": [
        {
          "output_type": "stream",
          "name": "stdout",
          "text": [
            "[1] \"Lower bounds of the confidence interval estimate for  4700 units: $ 537.193403883162\"\n",
            "[1] \"Lower bounds of the confidence interval estimate for  4800 units: $ 535.256764957724\"\n",
            "[1] \"Lower bounds of the confidence interval estimate for  4900 units: $ 533.366827083913\"\n",
            "[1] \"Lower bounds of the confidence interval estimate for  5000 units: $ 531.521544862537\"\n"
          ]
        }
      ]
    },
    {
      "cell_type": "markdown",
      "source": [
        "Calculations for upper bounds of CI:"
      ],
      "metadata": {
        "id": "0Gww3H61hQ-2"
      }
    },
    {
      "cell_type": "code",
      "source": [
        "upper_total_cost = 0\n",
        "for (units in c(4700, 4800, 4900, 5000)){\n",
        "  estimate = experience_curve_with_confidence(units, upper_slope, upper_intercept)\n",
        "  upper_total_cost = upper_total_cost + estimate\n",
        "  print(paste(\"Upper bounds of the confidence interval estimate for\",units,\"units: $\", estimate))\n",
        "}"
      ],
      "metadata": {
        "colab": {
          "base_uri": "https://localhost:8080/"
        },
        "id": "SIasNoS2c1RV",
        "outputId": "e2b0b607-482b-495d-9db5-417999e17bd1"
      },
      "execution_count": null,
      "outputs": [
        {
          "output_type": "stream",
          "name": "stdout",
          "text": [
            "[1] \"Upper bounds of the confidence interval estimate for 4700 units: $ 891.854363095279\"\n",
            "[1] \"Upper bounds of the confidence interval estimate for 4800 units: $ 889.258800195235\"\n",
            "[1] \"Upper bounds of the confidence interval estimate for 4900 units: $ 886.724079863473\"\n",
            "[1] \"Upper bounds of the confidence interval estimate for 5000 units: $ 884.247577081449\"\n"
          ]
        }
      ]
    },
    {
      "cell_type": "code",
      "source": [
        "lower_total_cost / 4"
      ],
      "metadata": {
        "colab": {
          "base_uri": "https://localhost:8080/",
          "height": 34
        },
        "id": "QQGG2sFWiEHS",
        "outputId": "a471c466-893e-470a-f5f5-d0142e4af6cd"
      },
      "execution_count": null,
      "outputs": [
        {
          "output_type": "display_data",
          "data": {
            "text/html": [
              "534.334635196834"
            ],
            "text/markdown": "534.334635196834",
            "text/latex": "534.334635196834",
            "text/plain": [
              "[1] 534.3346"
            ]
          },
          "metadata": {}
        }
      ]
    },
    {
      "cell_type": "code",
      "source": [
        "upper_total_cost / 4"
      ],
      "metadata": {
        "colab": {
          "base_uri": "https://localhost:8080/",
          "height": 34
        },
        "id": "TceS8RUBd6CI",
        "outputId": "cd621ffc-a299-4ea4-be1b-5e8938ed1805"
      },
      "execution_count": null,
      "outputs": [
        {
          "output_type": "display_data",
          "data": {
            "text/html": [
              "888.021205058859"
            ],
            "text/markdown": "888.021205058859",
            "text/latex": "888.021205058859",
            "text/plain": [
              "[1] 888.0212"
            ]
          },
          "metadata": {}
        }
      ]
    },
    {
      "cell_type": "markdown",
      "source": [
        "Now we have provided a confidence interval for the average manufacturing costs per solar panel, this gives Heliotronics a range which they can expect the true manufacturing cost to fall within 95% confidence, ensuring that the bid is both aggressive enough to win the contract and realistic in terms of expected costs of the production."
      ],
      "metadata": {
        "id": "2NkuxuhAh76W"
      }
    }
  ]
}